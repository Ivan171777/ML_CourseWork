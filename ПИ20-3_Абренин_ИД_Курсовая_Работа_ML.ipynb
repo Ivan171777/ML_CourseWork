{
 "cells": [
  {
   "cell_type": "markdown",
   "metadata": {
    "papermill": {
     "duration": 0.050042,
     "end_time": "2023-01-10T12:10:07.748587",
     "exception": false,
     "start_time": "2023-01-10T12:10:07.698545",
     "status": "completed"
    },
    "tags": []
   },
   "source": [
    "# Курсовая работа по теме\n",
    "\"Прогнозирование результатов матчей по футболу с использованием методов машинного обучения\""
   ]
  },
  {
   "cell_type": "markdown",
   "metadata": {
    "papermill": {
     "duration": 0.044304,
     "end_time": "2023-01-10T12:10:07.838224",
     "exception": false,
     "start_time": "2023-01-10T12:10:07.793920",
     "status": "completed"
    },
    "tags": []
   },
   "source": [
    "Идея здесь состоит в том, чтобы смоделировать игры чемпионата мира по футболу FIFA 2022 с помощью машинного обучения, чтобы предсказать победителя соревнования. В проекте используются два набора данных:\n",
    "#### Результаты международного футбола с 1872 по 2022 год \n",
    "Этот набор данных включает 44 341 результат международных футбольных матчей, начиная с самого первого официального матча в 1872 году и заканчивая 2023 годом 29 марта. Матчи варьируются от чемпионата мира по футболу до обычных товарищеских матчей. Матчи строго мужские, и данные не включают Олимпийские игры или матчи, в которых хотя бы одна из команд была сборной страны B, U-23 или сборной лиги.\n",
    "\n",
    "<br>results.csv включает следующие столбцы:\n",
    "  - date - дата матча \n",
    "  - home_team - домашняя команда \n",
    "  - away_team - команда гостей\n",
    "  - home_score - счет хозяев поля, включая дополнительное время, не включая серию пенальти\n",
    "  - away_score - счет гостей поля, включая дополнительное время, не включая серию пенальти\n",
    "  - tournament - название турнира\n",
    "  - city - город, где этот матч был сыгран\n",
    "  - country - страна, где этот матч был сыгран\n",
    "  - neutral - столбец TRUE/FALSE, указывающий, был ли матч сыгран на нейтральной площадке.\n",
    "  \n",
    "#### FIFA Мировой рейтинг 1992-2022 гг.\n",
    "\n",
    "Этот набор данных включает в себя рейтинг сборных команд стран по футболу и дополнительные метрики\n",
    "\n",
    "<br>fifa_ranking.csv включает следующие столбцы:\n",
    "  - country_full — полное название страны\n",
    "  - country_abrv — короткое название страны \n",
    "  - rank — текущий рейтинг страны\n",
    "  - total_points — текущие набранные очки в рейтинге\n",
    "  - previous_points — общее количество очков в последнем рейтинге\n",
    "  - rank_change — как изменился рейтинг с момента последней публикации\n",
    "  - confederation — FIFA конфедерации\n",
    "  - rank_date — дата расчета рейтинга"
   ]
  },
  {
   "cell_type": "markdown",
   "metadata": {
    "papermill": {
     "duration": 0.04418,
     "end_time": "2023-01-10T12:10:07.928639",
     "exception": false,
     "start_time": "2023-01-10T12:10:07.884459",
     "status": "completed"
    },
    "tags": []
   },
   "source": [
    "Я моделирую задачу как задачу бинарной классификации. Я использовал это, чтобы упростить анализ результатов модели, поэтому модель предсказываю между победой домашней команды и ничьей/победой выездной команды."
   ]
  },
  {
   "cell_type": "markdown",
   "metadata": {},
   "source": [
    "Для начала импортируем библиотеки"
   ]
  },
  {
   "cell_type": "code",
   "execution_count": 3,
   "metadata": {
    "execution": {
     "iopub.execute_input": "2023-01-10T12:10:08.024847Z",
     "iopub.status.busy": "2023-01-10T12:10:08.024375Z",
     "iopub.status.idle": "2023-01-10T12:10:23.234996Z",
     "shell.execute_reply": "2023-01-10T12:10:23.233545Z"
    },
    "papermill": {
     "duration": 15.259816,
     "end_time": "2023-01-10T12:10:23.238225",
     "exception": false,
     "start_time": "2023-01-10T12:10:07.978409",
     "status": "completed"
    },
    "tags": []
   },
   "outputs": [
    {
     "name": "stdout",
     "output_type": "stream",
     "text": [
      "Requirement already satisfied: xgboost in c:\\users\\ivan\\anaconda3\\lib\\site-packages (1.7.5)\n",
      "Requirement already satisfied: numpy in c:\\users\\ivan\\anaconda3\\lib\\site-packages (from xgboost) (1.19.2)\n",
      "Requirement already satisfied: scipy in c:\\users\\ivan\\anaconda3\\lib\\site-packages (from xgboost) (1.5.2)\n"
     ]
    }
   ],
   "source": [
    "import numpy as np \n",
    "import pandas as pd \n",
    "import os\n",
    "import re\n",
    "!pip install xgboost\n",
    "import xgboost as xgb\n",
    "import sklearn\n",
    "from xgboost import XGBClassifier\n",
    "from xgboost import plot_importance\n",
    "import seaborn as sns\n",
    "import matplotlib.pyplot as plt\n",
    "from sklearn.model_selection import train_test_split\n",
    "from sklearn.metrics import confusion_matrix, roc_curve, roc_auc_score\n",
    "from sklearn.ensemble import RandomForestClassifier, GradientBoostingClassifier\n",
    "from sklearn.model_selection import GridSearchCV"
   ]
  },
  {
   "cell_type": "markdown",
   "metadata": {
    "papermill": {
     "duration": 0.044867,
     "end_time": "2023-01-10T12:10:23.329157",
     "exception": false,
     "start_time": "2023-01-10T12:10:23.284290",
     "status": "completed"
    },
    "tags": []
   },
   "source": [
    "### Подготовка данных\n",
    "Здесь я подготовлю данные для применения методов разработки признаков, которые создадут базу данных для применения алгоритмов машинного обучения. Здесь большую роль будет играть знание библиотеки Pandas.\n"
   ]
  },
  {
   "cell_type": "markdown",
   "metadata": {},
   "source": [
    "Первый датасет с результатами матчей"
   ]
  },
  {
   "cell_type": "code",
   "execution_count": 4,
   "metadata": {
    "execution": {
     "iopub.execute_input": "2023-01-10T12:10:23.420102Z",
     "iopub.status.busy": "2023-01-10T12:10:23.419610Z",
     "iopub.status.idle": "2023-01-10T12:10:23.562478Z",
     "shell.execute_reply": "2023-01-10T12:10:23.561151Z"
    },
    "papermill": {
     "duration": 0.191962,
     "end_time": "2023-01-10T12:10:23.565442",
     "exception": false,
     "start_time": "2023-01-10T12:10:23.373480",
     "status": "completed"
    },
    "tags": []
   },
   "outputs": [],
   "source": [
    "df =  pd.read_csv(\"C:/Users/Ivan/Desktop/Курсовая/archive/results.csv\")"
   ]
  },
  {
   "cell_type": "markdown",
   "metadata": {},
   "source": [
    "Вывод информации о количественных характеристиках датасета, информацию об отсутствующих значениях, характеристиках и физическом смысле каждого атрибута данных, его значимости для предсказания целевой переменной"
   ]
  },
  {
   "cell_type": "code",
   "execution_count": 5,
   "metadata": {
    "execution": {
     "iopub.execute_input": "2023-01-10T12:10:23.837450Z",
     "iopub.status.busy": "2023-01-10T12:10:23.836313Z",
     "iopub.status.idle": "2023-01-10T12:10:23.880016Z",
     "shell.execute_reply": "2023-01-10T12:10:23.878597Z"
    },
    "papermill": {
     "duration": 0.095044,
     "end_time": "2023-01-10T12:10:23.882834",
     "exception": false,
     "start_time": "2023-01-10T12:10:23.787790",
     "status": "completed"
    },
    "tags": []
   },
   "outputs": [
    {
     "name": "stdout",
     "output_type": "stream",
     "text": [
      "<class 'pandas.core.frame.DataFrame'>\n",
      "RangeIndex: 44557 entries, 0 to 44556\n",
      "Data columns (total 9 columns):\n",
      " #   Column      Non-Null Count  Dtype \n",
      "---  ------      --------------  ----- \n",
      " 0   date        44557 non-null  object\n",
      " 1   home_team   44557 non-null  object\n",
      " 2   away_team   44557 non-null  object\n",
      " 3   home_score  44557 non-null  int64 \n",
      " 4   away_score  44557 non-null  int64 \n",
      " 5   tournament  44557 non-null  object\n",
      " 6   city        44557 non-null  object\n",
      " 7   country     44557 non-null  object\n",
      " 8   neutral     44557 non-null  bool  \n",
      "dtypes: bool(1), int64(2), object(6)\n",
      "memory usage: 2.8+ MB\n"
     ]
    }
   ],
   "source": [
    "df.info()"
   ]
  },
  {
   "cell_type": "markdown",
   "metadata": {},
   "source": [
    "Преобразовать дату в дату и время dtype"
   ]
  },
  {
   "cell_type": "code",
   "execution_count": 6,
   "metadata": {
    "execution": {
     "iopub.execute_input": "2023-01-10T12:10:23.973986Z",
     "iopub.status.busy": "2023-01-10T12:10:23.973510Z",
     "iopub.status.idle": "2023-01-10T12:10:23.992841Z",
     "shell.execute_reply": "2023-01-10T12:10:23.991350Z"
    },
    "papermill": {
     "duration": 0.068504,
     "end_time": "2023-01-10T12:10:23.995570",
     "exception": false,
     "start_time": "2023-01-10T12:10:23.927066",
     "status": "completed"
    },
    "tags": []
   },
   "outputs": [],
   "source": [
    "df[\"date\"] = pd.to_datetime(df[\"date\"])"
   ]
  },
  {
   "cell_type": "markdown",
   "metadata": {
    "papermill": {
     "duration": 0.044819,
     "end_time": "2023-01-10T12:10:24.085063",
     "exception": false,
     "start_time": "2023-01-10T12:10:24.040244",
     "status": "completed"
    },
    "tags": []
   },
   "source": [
    "### Отсутствующие значения\n",
    "Данные могут иметь пропущенные значения. "
   ]
  },
  {
   "cell_type": "code",
   "execution_count": 7,
   "metadata": {
    "execution": {
     "iopub.execute_input": "2023-01-10T12:10:24.440546Z",
     "iopub.status.busy": "2023-01-10T12:10:24.440143Z",
     "iopub.status.idle": "2023-01-10T12:10:24.462661Z",
     "shell.execute_reply": "2023-01-10T12:10:24.461160Z"
    },
    "papermill": {
     "duration": 0.070757,
     "end_time": "2023-01-10T12:10:24.465419",
     "exception": false,
     "start_time": "2023-01-10T12:10:24.394662",
     "status": "completed"
    },
    "tags": []
   },
   "outputs": [
    {
     "data": {
      "text/plain": [
       "date          0\n",
       "home_team     0\n",
       "away_team     0\n",
       "home_score    0\n",
       "away_score    0\n",
       "tournament    0\n",
       "city          0\n",
       "country       0\n",
       "neutral       0\n",
       "dtype: int64"
      ]
     },
     "execution_count": 7,
     "metadata": {},
     "output_type": "execute_result"
    }
   ],
   "source": [
    "df.isna().sum()"
   ]
  },
  {
   "cell_type": "markdown",
   "metadata": {
    "papermill": {
     "duration": 0.045328,
     "end_time": "2023-01-10T12:10:24.556742",
     "exception": false,
     "start_time": "2023-01-10T12:10:24.511414",
     "status": "completed"
    },
    "tags": []
   },
   "source": [
    "В наборе данных нет пропущенных значений."
   ]
  },
  {
   "cell_type": "markdown",
   "metadata": {
    "papermill": {
     "duration": 0.044098,
     "end_time": "2023-01-10T12:10:24.861069",
     "exception": false,
     "start_time": "2023-01-10T12:10:24.816971",
     "status": "completed"
    },
    "tags": []
   },
   "source": [
    "Используем все игры, сыгранные с 2010 года."
   ]
  },
  {
   "cell_type": "code",
   "execution_count": 9,
   "metadata": {
    "execution": {
     "iopub.execute_input": "2023-01-10T12:10:24.955291Z",
     "iopub.status.busy": "2023-01-10T12:10:24.954843Z",
     "iopub.status.idle": "2023-01-10T12:10:24.964180Z",
     "shell.execute_reply": "2023-01-10T12:10:24.962956Z"
    },
    "papermill": {
     "duration": 0.059881,
     "end_time": "2023-01-10T12:10:24.966979",
     "exception": false,
     "start_time": "2023-01-10T12:10:24.907098",
     "status": "completed"
    },
    "tags": []
   },
   "outputs": [],
   "source": [
    "df = df[(df[\"date\"] >= \"2010-8-1\")].reset_index(drop=True)"
   ]
  },
  {
   "cell_type": "code",
   "execution_count": 10,
   "metadata": {
    "execution": {
     "iopub.execute_input": "2023-01-10T12:10:25.062168Z",
     "iopub.status.busy": "2023-01-10T12:10:25.061355Z",
     "iopub.status.idle": "2023-01-10T12:10:25.080046Z",
     "shell.execute_reply": "2023-01-10T12:10:25.078764Z"
    },
    "papermill": {
     "duration": 0.069252,
     "end_time": "2023-01-10T12:10:25.082631",
     "exception": false,
     "start_time": "2023-01-10T12:10:25.013379",
     "status": "completed"
    },
    "scrolled": true,
    "tags": []
   },
   "outputs": [
    {
     "data": {
      "text/html": [
       "<div>\n",
       "<style scoped>\n",
       "    .dataframe tbody tr th:only-of-type {\n",
       "        vertical-align: middle;\n",
       "    }\n",
       "\n",
       "    .dataframe tbody tr th {\n",
       "        vertical-align: top;\n",
       "    }\n",
       "\n",
       "    .dataframe thead th {\n",
       "        text-align: right;\n",
       "    }\n",
       "</style>\n",
       "<table border=\"1\" class=\"dataframe\">\n",
       "  <thead>\n",
       "    <tr style=\"text-align: right;\">\n",
       "      <th></th>\n",
       "      <th>date</th>\n",
       "      <th>home_team</th>\n",
       "      <th>away_team</th>\n",
       "      <th>home_score</th>\n",
       "      <th>away_score</th>\n",
       "      <th>tournament</th>\n",
       "      <th>city</th>\n",
       "      <th>country</th>\n",
       "      <th>neutral</th>\n",
       "    </tr>\n",
       "  </thead>\n",
       "  <tbody>\n",
       "    <tr>\n",
       "      <th>0</th>\n",
       "      <td>2010-08-04</td>\n",
       "      <td>Botswana</td>\n",
       "      <td>Zimbabwe</td>\n",
       "      <td>2</td>\n",
       "      <td>0</td>\n",
       "      <td>Friendly</td>\n",
       "      <td>Selebi-Phikwe</td>\n",
       "      <td>Botswana</td>\n",
       "      <td>False</td>\n",
       "    </tr>\n",
       "    <tr>\n",
       "      <th>1</th>\n",
       "      <td>2010-08-08</td>\n",
       "      <td>Anguilla</td>\n",
       "      <td>Saint Martin</td>\n",
       "      <td>1</td>\n",
       "      <td>3</td>\n",
       "      <td>Friendly</td>\n",
       "      <td>The Valley</td>\n",
       "      <td>Anguilla</td>\n",
       "      <td>False</td>\n",
       "    </tr>\n",
       "    <tr>\n",
       "      <th>2</th>\n",
       "      <td>2010-08-10</td>\n",
       "      <td>Bosnia and Herzegovina</td>\n",
       "      <td>Qatar</td>\n",
       "      <td>1</td>\n",
       "      <td>1</td>\n",
       "      <td>Friendly</td>\n",
       "      <td>Sarajevo</td>\n",
       "      <td>Bosnia and Herzegovina</td>\n",
       "      <td>False</td>\n",
       "    </tr>\n",
       "    <tr>\n",
       "      <th>3</th>\n",
       "      <td>2010-08-10</td>\n",
       "      <td>Italy</td>\n",
       "      <td>Ivory Coast</td>\n",
       "      <td>0</td>\n",
       "      <td>1</td>\n",
       "      <td>Friendly</td>\n",
       "      <td>London</td>\n",
       "      <td>England</td>\n",
       "      <td>True</td>\n",
       "    </tr>\n",
       "    <tr>\n",
       "      <th>4</th>\n",
       "      <td>2010-08-10</td>\n",
       "      <td>United States</td>\n",
       "      <td>Brazil</td>\n",
       "      <td>0</td>\n",
       "      <td>2</td>\n",
       "      <td>Friendly</td>\n",
       "      <td>East Rutherford</td>\n",
       "      <td>United States</td>\n",
       "      <td>False</td>\n",
       "    </tr>\n",
       "  </tbody>\n",
       "</table>\n",
       "</div>"
      ],
      "text/plain": [
       "        date               home_team     away_team  home_score  away_score  \\\n",
       "0 2010-08-04                Botswana      Zimbabwe           2           0   \n",
       "1 2010-08-08                Anguilla  Saint Martin           1           3   \n",
       "2 2010-08-10  Bosnia and Herzegovina         Qatar           1           1   \n",
       "3 2010-08-10                   Italy   Ivory Coast           0           1   \n",
       "4 2010-08-10           United States        Brazil           0           2   \n",
       "\n",
       "  tournament             city                 country  neutral  \n",
       "0   Friendly    Selebi-Phikwe                Botswana    False  \n",
       "1   Friendly       The Valley                Anguilla    False  \n",
       "2   Friendly         Sarajevo  Bosnia and Herzegovina    False  \n",
       "3   Friendly           London                 England     True  \n",
       "4   Friendly  East Rutherford           United States    False  "
      ]
     },
     "execution_count": 10,
     "metadata": {},
     "output_type": "execute_result"
    }
   ],
   "source": [
    "df.sort_values(\"date\").head()"
   ]
  },
  {
   "cell_type": "markdown",
   "metadata": {
    "papermill": {
     "duration": 0.044423,
     "end_time": "2023-01-10T12:10:25.173840",
     "exception": false,
     "start_time": "2023-01-10T12:10:25.129417",
     "status": "completed"
    },
    "tags": []
   },
   "source": [
    "Теперь мы используем датасет рейтинга FIFA"
   ]
  },
  {
   "cell_type": "code",
   "execution_count": 11,
   "metadata": {
    "execution": {
     "iopub.execute_input": "2023-01-10T12:10:25.265025Z",
     "iopub.status.busy": "2023-01-10T12:10:25.264539Z",
     "iopub.status.idle": "2023-01-10T12:10:25.376648Z",
     "shell.execute_reply": "2023-01-10T12:10:25.375292Z"
    },
    "papermill": {
     "duration": 0.161124,
     "end_time": "2023-01-10T12:10:25.379527",
     "exception": false,
     "start_time": "2023-01-10T12:10:25.218403",
     "status": "completed"
    },
    "tags": []
   },
   "outputs": [],
   "source": [
    "rank = pd.read_csv(\"C:/Users/Ivan/Desktop/Курсовая/fifa_ranking/fifa_ranking.csv\")"
   ]
  },
  {
   "cell_type": "code",
   "execution_count": 12,
   "metadata": {},
   "outputs": [
    {
     "data": {
      "text/html": [
       "<div>\n",
       "<style scoped>\n",
       "    .dataframe tbody tr th:only-of-type {\n",
       "        vertical-align: middle;\n",
       "    }\n",
       "\n",
       "    .dataframe tbody tr th {\n",
       "        vertical-align: top;\n",
       "    }\n",
       "\n",
       "    .dataframe thead th {\n",
       "        text-align: right;\n",
       "    }\n",
       "</style>\n",
       "<table border=\"1\" class=\"dataframe\">\n",
       "  <thead>\n",
       "    <tr style=\"text-align: right;\">\n",
       "      <th></th>\n",
       "      <th>rank</th>\n",
       "      <th>country_full</th>\n",
       "      <th>country_abrv</th>\n",
       "      <th>total_points</th>\n",
       "      <th>previous_points</th>\n",
       "      <th>rank_change</th>\n",
       "      <th>confederation</th>\n",
       "      <th>rank_date</th>\n",
       "    </tr>\n",
       "  </thead>\n",
       "  <tbody>\n",
       "    <tr>\n",
       "      <th>0</th>\n",
       "      <td>74</td>\n",
       "      <td>Madagascar</td>\n",
       "      <td>MAD</td>\n",
       "      <td>18.0</td>\n",
       "      <td>0.0</td>\n",
       "      <td>0</td>\n",
       "      <td>CAF</td>\n",
       "      <td>1992-12-31</td>\n",
       "    </tr>\n",
       "    <tr>\n",
       "      <th>1</th>\n",
       "      <td>52</td>\n",
       "      <td>Qatar</td>\n",
       "      <td>QAT</td>\n",
       "      <td>27.0</td>\n",
       "      <td>0.0</td>\n",
       "      <td>0</td>\n",
       "      <td>AFC</td>\n",
       "      <td>1992-12-31</td>\n",
       "    </tr>\n",
       "    <tr>\n",
       "      <th>2</th>\n",
       "      <td>51</td>\n",
       "      <td>Senegal</td>\n",
       "      <td>SEN</td>\n",
       "      <td>27.0</td>\n",
       "      <td>0.0</td>\n",
       "      <td>0</td>\n",
       "      <td>CAF</td>\n",
       "      <td>1992-12-31</td>\n",
       "    </tr>\n",
       "    <tr>\n",
       "      <th>3</th>\n",
       "      <td>50</td>\n",
       "      <td>El Salvador</td>\n",
       "      <td>SLV</td>\n",
       "      <td>28.0</td>\n",
       "      <td>0.0</td>\n",
       "      <td>0</td>\n",
       "      <td>CONCACAF</td>\n",
       "      <td>1992-12-31</td>\n",
       "    </tr>\n",
       "    <tr>\n",
       "      <th>4</th>\n",
       "      <td>49</td>\n",
       "      <td>Korea Republic</td>\n",
       "      <td>KOR</td>\n",
       "      <td>28.0</td>\n",
       "      <td>0.0</td>\n",
       "      <td>0</td>\n",
       "      <td>AFC</td>\n",
       "      <td>1992-12-31</td>\n",
       "    </tr>\n",
       "    <tr>\n",
       "      <th>5</th>\n",
       "      <td>48</td>\n",
       "      <td>Saudi Arabia</td>\n",
       "      <td>KSA</td>\n",
       "      <td>28.0</td>\n",
       "      <td>0.0</td>\n",
       "      <td>0</td>\n",
       "      <td>AFC</td>\n",
       "      <td>1992-12-31</td>\n",
       "    </tr>\n",
       "    <tr>\n",
       "      <th>6</th>\n",
       "      <td>47</td>\n",
       "      <td>Chile</td>\n",
       "      <td>CHI</td>\n",
       "      <td>28.0</td>\n",
       "      <td>0.0</td>\n",
       "      <td>0</td>\n",
       "      <td>CONMEBOL</td>\n",
       "      <td>1992-12-31</td>\n",
       "    </tr>\n",
       "    <tr>\n",
       "      <th>7</th>\n",
       "      <td>53</td>\n",
       "      <td>Malawi</td>\n",
       "      <td>MWI</td>\n",
       "      <td>27.0</td>\n",
       "      <td>0.0</td>\n",
       "      <td>0</td>\n",
       "      <td>CAF</td>\n",
       "      <td>1992-12-31</td>\n",
       "    </tr>\n",
       "    <tr>\n",
       "      <th>8</th>\n",
       "      <td>46</td>\n",
       "      <td>Iceland</td>\n",
       "      <td>ISL</td>\n",
       "      <td>29.0</td>\n",
       "      <td>0.0</td>\n",
       "      <td>0</td>\n",
       "      <td>UEFA</td>\n",
       "      <td>1992-12-31</td>\n",
       "    </tr>\n",
       "    <tr>\n",
       "      <th>9</th>\n",
       "      <td>44</td>\n",
       "      <td>Finland</td>\n",
       "      <td>FIN</td>\n",
       "      <td>31.0</td>\n",
       "      <td>0.0</td>\n",
       "      <td>0</td>\n",
       "      <td>UEFA</td>\n",
       "      <td>1992-12-31</td>\n",
       "    </tr>\n",
       "  </tbody>\n",
       "</table>\n",
       "</div>"
      ],
      "text/plain": [
       "   rank    country_full country_abrv  total_points  previous_points  \\\n",
       "0    74      Madagascar          MAD          18.0              0.0   \n",
       "1    52           Qatar          QAT          27.0              0.0   \n",
       "2    51         Senegal          SEN          27.0              0.0   \n",
       "3    50     El Salvador          SLV          28.0              0.0   \n",
       "4    49  Korea Republic          KOR          28.0              0.0   \n",
       "5    48    Saudi Arabia          KSA          28.0              0.0   \n",
       "6    47           Chile          CHI          28.0              0.0   \n",
       "7    53          Malawi          MWI          27.0              0.0   \n",
       "8    46         Iceland          ISL          29.0              0.0   \n",
       "9    44         Finland          FIN          31.0              0.0   \n",
       "\n",
       "   rank_change confederation   rank_date  \n",
       "0            0           CAF  1992-12-31  \n",
       "1            0           AFC  1992-12-31  \n",
       "2            0           CAF  1992-12-31  \n",
       "3            0      CONCACAF  1992-12-31  \n",
       "4            0           AFC  1992-12-31  \n",
       "5            0           AFC  1992-12-31  \n",
       "6            0      CONMEBOL  1992-12-31  \n",
       "7            0           CAF  1992-12-31  \n",
       "8            0          UEFA  1992-12-31  \n",
       "9            0          UEFA  1992-12-31  "
      ]
     },
     "execution_count": 12,
     "metadata": {},
     "output_type": "execute_result"
    }
   ],
   "source": [
    "rank.head(10)"
   ]
  },
  {
   "cell_type": "code",
   "execution_count": 13,
   "metadata": {
    "execution": {
     "iopub.execute_input": "2023-01-10T12:10:25.471440Z",
     "iopub.status.busy": "2023-01-10T12:10:25.470993Z",
     "iopub.status.idle": "2023-01-10T12:10:25.493846Z",
     "shell.execute_reply": "2023-01-10T12:10:25.492631Z"
    },
    "papermill": {
     "duration": 0.071587,
     "end_time": "2023-01-10T12:10:25.496285",
     "exception": false,
     "start_time": "2023-01-10T12:10:25.424698",
     "status": "completed"
    },
    "tags": []
   },
   "outputs": [
    {
     "data": {
      "text/plain": [
       "rank               0\n",
       "country_full       0\n",
       "country_abrv       0\n",
       "total_points       0\n",
       "previous_points    0\n",
       "rank_change        0\n",
       "confederation      0\n",
       "rank_date          0\n",
       "dtype: int64"
      ]
     },
     "execution_count": 13,
     "metadata": {},
     "output_type": "execute_result"
    }
   ],
   "source": [
    "rank.isna().sum()"
   ]
  },
  {
   "cell_type": "markdown",
   "metadata": {},
   "source": [
    "Здесь также возьмем рейтинг команд с 2010 года"
   ]
  },
  {
   "cell_type": "code",
   "execution_count": 14,
   "metadata": {
    "execution": {
     "iopub.execute_input": "2023-01-10T12:10:25.589107Z",
     "iopub.status.busy": "2023-01-10T12:10:25.588392Z",
     "iopub.status.idle": "2023-01-10T12:10:25.613097Z",
     "shell.execute_reply": "2023-01-10T12:10:25.611618Z"
    },
    "papermill": {
     "duration": 0.074624,
     "end_time": "2023-01-10T12:10:25.615927",
     "exception": false,
     "start_time": "2023-01-10T12:10:25.541303",
     "status": "completed"
    },
    "tags": []
   },
   "outputs": [],
   "source": [
    "rank[\"rank_date\"] = pd.to_datetime(rank[\"rank_date\"])\n",
    "rank = rank[(rank[\"rank_date\"] >= \"2010-8-1\")].reset_index(drop=True)"
   ]
  },
  {
   "cell_type": "markdown",
   "metadata": {
    "papermill": {
     "duration": 0.044378,
     "end_time": "2023-01-10T12:10:25.706506",
     "exception": false,
     "start_time": "2023-01-10T12:10:25.662128",
     "status": "completed"
    },
    "tags": []
   },
   "source": [
    "Некоторые команды на чемпионате мира имеют разные названия в наборе данных рейтинга"
   ]
  },
  {
   "cell_type": "code",
   "execution_count": 15,
   "metadata": {
    "execution": {
     "iopub.execute_input": "2023-01-10T12:10:25.798914Z",
     "iopub.status.busy": "2023-01-10T12:10:25.798431Z",
     "iopub.status.idle": "2023-01-10T12:10:25.821528Z",
     "shell.execute_reply": "2023-01-10T12:10:25.820465Z"
    },
    "papermill": {
     "duration": 0.072975,
     "end_time": "2023-01-10T12:10:25.824190",
     "exception": false,
     "start_time": "2023-01-10T12:10:25.751215",
     "status": "completed"
    },
    "tags": []
   },
   "outputs": [],
   "source": [
    "rank[\"country_full\"] = rank[\"country_full\"].str.replace(\"IR Iran\", \"Iran\").str.replace(\"Korea Republic\", \"South Korea\").str.replace(\"USA\", \"United States\")"
   ]
  },
  {
   "cell_type": "code",
   "execution_count": 16,
   "metadata": {},
   "outputs": [
    {
     "data": {
      "text/html": [
       "<div>\n",
       "<style scoped>\n",
       "    .dataframe tbody tr th:only-of-type {\n",
       "        vertical-align: middle;\n",
       "    }\n",
       "\n",
       "    .dataframe tbody tr th {\n",
       "        vertical-align: top;\n",
       "    }\n",
       "\n",
       "    .dataframe thead th {\n",
       "        text-align: right;\n",
       "    }\n",
       "</style>\n",
       "<table border=\"1\" class=\"dataframe\">\n",
       "  <thead>\n",
       "    <tr style=\"text-align: right;\">\n",
       "      <th></th>\n",
       "      <th>rank</th>\n",
       "      <th>country_full</th>\n",
       "      <th>country_abrv</th>\n",
       "      <th>total_points</th>\n",
       "      <th>previous_points</th>\n",
       "      <th>rank_change</th>\n",
       "      <th>confederation</th>\n",
       "      <th>rank_date</th>\n",
       "    </tr>\n",
       "  </thead>\n",
       "  <tbody>\n",
       "    <tr>\n",
       "      <th>0</th>\n",
       "      <td>69</td>\n",
       "      <td>Uganda</td>\n",
       "      <td>UGA</td>\n",
       "      <td>459.0</td>\n",
       "      <td>457.0</td>\n",
       "      <td>-1</td>\n",
       "      <td>CAF</td>\n",
       "      <td>2010-08-11</td>\n",
       "    </tr>\n",
       "    <tr>\n",
       "      <th>1</th>\n",
       "      <td>66</td>\n",
       "      <td>South Africa</td>\n",
       "      <td>RSA</td>\n",
       "      <td>504.0</td>\n",
       "      <td>504.0</td>\n",
       "      <td>0</td>\n",
       "      <td>CAF</td>\n",
       "      <td>2010-08-11</td>\n",
       "    </tr>\n",
       "    <tr>\n",
       "      <th>2</th>\n",
       "      <td>68</td>\n",
       "      <td>Bahrain</td>\n",
       "      <td>BHR</td>\n",
       "      <td>466.0</td>\n",
       "      <td>460.0</td>\n",
       "      <td>-1</td>\n",
       "      <td>AFC</td>\n",
       "      <td>2010-08-11</td>\n",
       "    </tr>\n",
       "    <tr>\n",
       "      <th>3</th>\n",
       "      <td>73</td>\n",
       "      <td>Montenegro</td>\n",
       "      <td>MNE</td>\n",
       "      <td>448.0</td>\n",
       "      <td>448.0</td>\n",
       "      <td>1</td>\n",
       "      <td>UEFA</td>\n",
       "      <td>2010-08-11</td>\n",
       "    </tr>\n",
       "    <tr>\n",
       "      <th>4</th>\n",
       "      <td>70</td>\n",
       "      <td>Albania</td>\n",
       "      <td>ALB</td>\n",
       "      <td>455.0</td>\n",
       "      <td>455.0</td>\n",
       "      <td>-1</td>\n",
       "      <td>UEFA</td>\n",
       "      <td>2010-08-11</td>\n",
       "    </tr>\n",
       "    <tr>\n",
       "      <th>5</th>\n",
       "      <td>72</td>\n",
       "      <td>Zambia</td>\n",
       "      <td>ZAM</td>\n",
       "      <td>449.0</td>\n",
       "      <td>446.0</td>\n",
       "      <td>-1</td>\n",
       "      <td>CAF</td>\n",
       "      <td>2010-08-11</td>\n",
       "    </tr>\n",
       "    <tr>\n",
       "      <th>6</th>\n",
       "      <td>66</td>\n",
       "      <td>FYR Macedonia</td>\n",
       "      <td>MKD</td>\n",
       "      <td>504.0</td>\n",
       "      <td>504.0</td>\n",
       "      <td>0</td>\n",
       "      <td>UEFA</td>\n",
       "      <td>2010-08-11</td>\n",
       "    </tr>\n",
       "    <tr>\n",
       "      <th>7</th>\n",
       "      <td>74</td>\n",
       "      <td>Malawi</td>\n",
       "      <td>MWI</td>\n",
       "      <td>424.0</td>\n",
       "      <td>425.0</td>\n",
       "      <td>0</td>\n",
       "      <td>CAF</td>\n",
       "      <td>2010-08-11</td>\n",
       "    </tr>\n",
       "    <tr>\n",
       "      <th>8</th>\n",
       "      <td>75</td>\n",
       "      <td>Togo</td>\n",
       "      <td>TOG</td>\n",
       "      <td>421.0</td>\n",
       "      <td>421.0</td>\n",
       "      <td>0</td>\n",
       "      <td>CAF</td>\n",
       "      <td>2010-08-11</td>\n",
       "    </tr>\n",
       "    <tr>\n",
       "      <th>9</th>\n",
       "      <td>70</td>\n",
       "      <td>Saudi Arabia</td>\n",
       "      <td>KSA</td>\n",
       "      <td>455.0</td>\n",
       "      <td>471.0</td>\n",
       "      <td>2</td>\n",
       "      <td>AFC</td>\n",
       "      <td>2010-08-11</td>\n",
       "    </tr>\n",
       "  </tbody>\n",
       "</table>\n",
       "</div>"
      ],
      "text/plain": [
       "   rank   country_full country_abrv  total_points  previous_points  \\\n",
       "0    69         Uganda          UGA         459.0            457.0   \n",
       "1    66   South Africa          RSA         504.0            504.0   \n",
       "2    68        Bahrain          BHR         466.0            460.0   \n",
       "3    73     Montenegro          MNE         448.0            448.0   \n",
       "4    70        Albania          ALB         455.0            455.0   \n",
       "5    72         Zambia          ZAM         449.0            446.0   \n",
       "6    66  FYR Macedonia          MKD         504.0            504.0   \n",
       "7    74         Malawi          MWI         424.0            425.0   \n",
       "8    75           Togo          TOG         421.0            421.0   \n",
       "9    70   Saudi Arabia          KSA         455.0            471.0   \n",
       "\n",
       "   rank_change confederation  rank_date  \n",
       "0           -1           CAF 2010-08-11  \n",
       "1            0           CAF 2010-08-11  \n",
       "2           -1           AFC 2010-08-11  \n",
       "3            1          UEFA 2010-08-11  \n",
       "4           -1          UEFA 2010-08-11  \n",
       "5           -1           CAF 2010-08-11  \n",
       "6            0          UEFA 2010-08-11  \n",
       "7            0           CAF 2010-08-11  \n",
       "8            0           CAF 2010-08-11  \n",
       "9            2           AFC 2010-08-11  "
      ]
     },
     "execution_count": 16,
     "metadata": {},
     "output_type": "execute_result"
    }
   ],
   "source": [
    "rank.head(10)"
   ]
  },
  {
   "cell_type": "code",
   "execution_count": 17,
   "metadata": {
    "execution": {
     "iopub.execute_input": "2023-01-10T12:10:26.008619Z",
     "iopub.status.busy": "2023-01-10T12:10:26.007883Z",
     "iopub.status.idle": "2023-01-10T12:10:26.035538Z",
     "shell.execute_reply": "2023-01-10T12:10:26.034239Z"
    },
    "papermill": {
     "duration": 0.076744,
     "end_time": "2023-01-10T12:10:26.038364",
     "exception": false,
     "start_time": "2023-01-10T12:10:25.961620",
     "status": "completed"
    },
    "tags": []
   },
   "outputs": [
    {
     "data": {
      "text/html": [
       "<div>\n",
       "<style scoped>\n",
       "    .dataframe tbody tr th:only-of-type {\n",
       "        vertical-align: middle;\n",
       "    }\n",
       "\n",
       "    .dataframe tbody tr th {\n",
       "        vertical-align: top;\n",
       "    }\n",
       "\n",
       "    .dataframe thead th {\n",
       "        text-align: right;\n",
       "    }\n",
       "</style>\n",
       "<table border=\"1\" class=\"dataframe\">\n",
       "  <thead>\n",
       "    <tr style=\"text-align: right;\">\n",
       "      <th></th>\n",
       "      <th>rank</th>\n",
       "      <th>country_full</th>\n",
       "      <th>country_abrv</th>\n",
       "      <th>total_points</th>\n",
       "      <th>previous_points</th>\n",
       "      <th>rank_change</th>\n",
       "      <th>confederation</th>\n",
       "      <th>rank_date</th>\n",
       "    </tr>\n",
       "  </thead>\n",
       "  <tbody>\n",
       "    <tr>\n",
       "      <th>102</th>\n",
       "      <td>8</td>\n",
       "      <td>Portugal</td>\n",
       "      <td>POR</td>\n",
       "      <td>1062.00</td>\n",
       "      <td>1062.00</td>\n",
       "      <td>0</td>\n",
       "      <td>UEFA</td>\n",
       "      <td>2010-08-11</td>\n",
       "    </tr>\n",
       "    <tr>\n",
       "      <th>262</th>\n",
       "      <td>8</td>\n",
       "      <td>Portugal</td>\n",
       "      <td>POR</td>\n",
       "      <td>1049.00</td>\n",
       "      <td>1062.00</td>\n",
       "      <td>0</td>\n",
       "      <td>UEFA</td>\n",
       "      <td>2010-09-15</td>\n",
       "    </tr>\n",
       "    <tr>\n",
       "      <th>516</th>\n",
       "      <td>8</td>\n",
       "      <td>Portugal</td>\n",
       "      <td>POR</td>\n",
       "      <td>1123.00</td>\n",
       "      <td>1049.00</td>\n",
       "      <td>0</td>\n",
       "      <td>UEFA</td>\n",
       "      <td>2010-10-20</td>\n",
       "    </tr>\n",
       "    <tr>\n",
       "      <th>764</th>\n",
       "      <td>8</td>\n",
       "      <td>Portugal</td>\n",
       "      <td>POR</td>\n",
       "      <td>1102.00</td>\n",
       "      <td>1123.00</td>\n",
       "      <td>0</td>\n",
       "      <td>UEFA</td>\n",
       "      <td>2010-11-17</td>\n",
       "    </tr>\n",
       "    <tr>\n",
       "      <th>986</th>\n",
       "      <td>8</td>\n",
       "      <td>Portugal</td>\n",
       "      <td>POR</td>\n",
       "      <td>1090.00</td>\n",
       "      <td>1102.00</td>\n",
       "      <td>0</td>\n",
       "      <td>UEFA</td>\n",
       "      <td>2010-12-15</td>\n",
       "    </tr>\n",
       "    <tr>\n",
       "      <th>...</th>\n",
       "      <td>...</td>\n",
       "      <td>...</td>\n",
       "      <td>...</td>\n",
       "      <td>...</td>\n",
       "      <td>...</td>\n",
       "      <td>...</td>\n",
       "      <td>...</td>\n",
       "      <td>...</td>\n",
       "    </tr>\n",
       "    <tr>\n",
       "      <th>26124</th>\n",
       "      <td>8</td>\n",
       "      <td>Portugal</td>\n",
       "      <td>POR</td>\n",
       "      <td>1674.78</td>\n",
       "      <td>1660.25</td>\n",
       "      <td>0</td>\n",
       "      <td>UEFA</td>\n",
       "      <td>2022-03-31</td>\n",
       "    </tr>\n",
       "    <tr>\n",
       "      <th>26255</th>\n",
       "      <td>9</td>\n",
       "      <td>Portugal</td>\n",
       "      <td>POR</td>\n",
       "      <td>1678.65</td>\n",
       "      <td>1674.78</td>\n",
       "      <td>1</td>\n",
       "      <td>UEFA</td>\n",
       "      <td>2022-06-23</td>\n",
       "    </tr>\n",
       "    <tr>\n",
       "      <th>26468</th>\n",
       "      <td>9</td>\n",
       "      <td>Portugal</td>\n",
       "      <td>POR</td>\n",
       "      <td>1678.65</td>\n",
       "      <td>1678.65</td>\n",
       "      <td>0</td>\n",
       "      <td>UEFA</td>\n",
       "      <td>2022-08-25</td>\n",
       "    </tr>\n",
       "    <tr>\n",
       "      <th>26681</th>\n",
       "      <td>9</td>\n",
       "      <td>Portugal</td>\n",
       "      <td>POR</td>\n",
       "      <td>1676.56</td>\n",
       "      <td>1678.65</td>\n",
       "      <td>0</td>\n",
       "      <td>UEFA</td>\n",
       "      <td>2022-10-06</td>\n",
       "    </tr>\n",
       "    <tr>\n",
       "      <th>26888</th>\n",
       "      <td>9</td>\n",
       "      <td>Portugal</td>\n",
       "      <td>POR</td>\n",
       "      <td>1702.54</td>\n",
       "      <td>1676.56</td>\n",
       "      <td>0</td>\n",
       "      <td>UEFA</td>\n",
       "      <td>2022-12-22</td>\n",
       "    </tr>\n",
       "  </tbody>\n",
       "</table>\n",
       "<p>131 rows × 8 columns</p>\n",
       "</div>"
      ],
      "text/plain": [
       "       rank country_full country_abrv  total_points  previous_points  \\\n",
       "102       8     Portugal          POR       1062.00          1062.00   \n",
       "262       8     Portugal          POR       1049.00          1062.00   \n",
       "516       8     Portugal          POR       1123.00          1049.00   \n",
       "764       8     Portugal          POR       1102.00          1123.00   \n",
       "986       8     Portugal          POR       1090.00          1102.00   \n",
       "...     ...          ...          ...           ...              ...   \n",
       "26124     8     Portugal          POR       1674.78          1660.25   \n",
       "26255     9     Portugal          POR       1678.65          1674.78   \n",
       "26468     9     Portugal          POR       1678.65          1678.65   \n",
       "26681     9     Portugal          POR       1676.56          1678.65   \n",
       "26888     9     Portugal          POR       1702.54          1676.56   \n",
       "\n",
       "       rank_change confederation  rank_date  \n",
       "102              0          UEFA 2010-08-11  \n",
       "262              0          UEFA 2010-09-15  \n",
       "516              0          UEFA 2010-10-20  \n",
       "764              0          UEFA 2010-11-17  \n",
       "986              0          UEFA 2010-12-15  \n",
       "...            ...           ...        ...  \n",
       "26124            0          UEFA 2022-03-31  \n",
       "26255            1          UEFA 2022-06-23  \n",
       "26468            0          UEFA 2022-08-25  \n",
       "26681            0          UEFA 2022-10-06  \n",
       "26888            0          UEFA 2022-12-22  \n",
       "\n",
       "[131 rows x 8 columns]"
      ]
     },
     "execution_count": 17,
     "metadata": {},
     "output_type": "execute_result"
    }
   ],
   "source": [
    "rank[rank.country_full=='Portugal']"
   ]
  },
  {
   "cell_type": "code",
   "execution_count": 18,
   "metadata": {
    "execution": {
     "iopub.execute_input": "2023-01-10T12:10:26.142073Z",
     "iopub.status.busy": "2023-01-10T12:10:26.141181Z",
     "iopub.status.idle": "2023-01-10T12:10:26.152642Z",
     "shell.execute_reply": "2023-01-10T12:10:26.150800Z"
    },
    "papermill": {
     "duration": 0.070745,
     "end_time": "2023-01-10T12:10:26.157605",
     "exception": false,
     "start_time": "2023-01-10T12:10:26.086860",
     "status": "completed"
    },
    "tags": []
   },
   "outputs": [
    {
     "data": {
      "text/plain": [
       "array(['2010-08-11T00:00:00.000000000', '2010-09-15T00:00:00.000000000',\n",
       "       '2010-10-20T00:00:00.000000000', '2010-11-17T00:00:00.000000000',\n",
       "       '2010-12-15T00:00:00.000000000', '2011-01-12T00:00:00.000000000',\n",
       "       '2011-02-02T00:00:00.000000000', '2011-03-09T00:00:00.000000000',\n",
       "       '2011-04-13T00:00:00.000000000', '2011-05-18T00:00:00.000000000',\n",
       "       '2011-06-29T00:00:00.000000000', '2011-07-27T00:00:00.000000000',\n",
       "       '2011-08-24T00:00:00.000000000', '2011-09-21T00:00:00.000000000',\n",
       "       '2011-10-19T00:00:00.000000000', '2011-11-23T00:00:00.000000000',\n",
       "       '2011-12-21T00:00:00.000000000', '2012-01-18T00:00:00.000000000',\n",
       "       '2012-02-15T00:00:00.000000000', '2012-03-07T00:00:00.000000000',\n",
       "       '2012-04-11T00:00:00.000000000', '2012-05-09T00:00:00.000000000',\n",
       "       '2012-06-06T00:00:00.000000000', '2012-07-04T00:00:00.000000000',\n",
       "       '2012-08-08T00:00:00.000000000', '2012-09-05T00:00:00.000000000',\n",
       "       '2012-10-03T00:00:00.000000000', '2012-11-07T00:00:00.000000000',\n",
       "       '2012-12-19T00:00:00.000000000', '2013-01-17T00:00:00.000000000',\n",
       "       '2013-02-14T00:00:00.000000000', '2013-03-14T00:00:00.000000000',\n",
       "       '2013-04-11T00:00:00.000000000', '2013-05-09T00:00:00.000000000',\n",
       "       '2013-06-06T00:00:00.000000000', '2013-07-04T00:00:00.000000000',\n",
       "       '2013-08-08T00:00:00.000000000', '2013-09-12T00:00:00.000000000',\n",
       "       '2013-10-17T00:00:00.000000000', '2013-11-28T00:00:00.000000000',\n",
       "       '2013-12-19T00:00:00.000000000', '2014-01-16T00:00:00.000000000',\n",
       "       '2014-02-13T00:00:00.000000000', '2014-03-13T00:00:00.000000000',\n",
       "       '2014-04-10T00:00:00.000000000', '2014-05-08T00:00:00.000000000',\n",
       "       '2014-06-05T00:00:00.000000000', '2014-07-17T00:00:00.000000000',\n",
       "       '2014-08-14T00:00:00.000000000', '2014-09-18T00:00:00.000000000',\n",
       "       '2014-10-23T00:00:00.000000000', '2014-11-27T00:00:00.000000000',\n",
       "       '2014-12-18T00:00:00.000000000', '2015-01-08T00:00:00.000000000',\n",
       "       '2015-02-12T00:00:00.000000000', '2015-03-12T00:00:00.000000000',\n",
       "       '2015-04-09T00:00:00.000000000', '2015-05-07T00:00:00.000000000',\n",
       "       '2015-06-04T00:00:00.000000000', '2015-07-09T00:00:00.000000000',\n",
       "       '2015-08-06T00:00:00.000000000', '2015-09-03T00:00:00.000000000',\n",
       "       '2015-10-01T00:00:00.000000000', '2015-11-05T00:00:00.000000000',\n",
       "       '2015-12-03T00:00:00.000000000', '2016-01-07T00:00:00.000000000',\n",
       "       '2016-02-04T00:00:00.000000000', '2016-03-03T00:00:00.000000000',\n",
       "       '2016-04-07T00:00:00.000000000', '2016-05-05T00:00:00.000000000',\n",
       "       '2016-06-02T00:00:00.000000000', '2016-07-14T00:00:00.000000000',\n",
       "       '2016-08-11T00:00:00.000000000', '2016-09-15T00:00:00.000000000',\n",
       "       '2016-10-20T00:00:00.000000000', '2016-11-24T00:00:00.000000000',\n",
       "       '2016-12-22T00:00:00.000000000', '2017-01-12T00:00:00.000000000',\n",
       "       '2017-02-09T00:00:00.000000000', '2017-03-09T00:00:00.000000000',\n",
       "       '2017-04-06T00:00:00.000000000', '2017-05-04T00:00:00.000000000',\n",
       "       '2017-06-01T00:00:00.000000000', '2017-07-06T00:00:00.000000000',\n",
       "       '2017-08-10T00:00:00.000000000', '2017-09-14T00:00:00.000000000',\n",
       "       '2017-10-16T00:00:00.000000000', '2017-11-23T00:00:00.000000000',\n",
       "       '2017-12-21T00:00:00.000000000', '2018-01-18T00:00:00.000000000',\n",
       "       '2018-02-15T00:00:00.000000000', '2018-03-15T00:00:00.000000000',\n",
       "       '2018-04-12T00:00:00.000000000', '2018-05-17T00:00:00.000000000',\n",
       "       '2018-06-07T00:00:00.000000000', '2018-07-01T00:00:00.000000000',\n",
       "       '2018-08-16T00:00:00.000000000', '2018-09-20T00:00:00.000000000',\n",
       "       '2018-10-25T00:00:00.000000000', '2018-11-29T00:00:00.000000000',\n",
       "       '2018-12-20T00:00:00.000000000', '2019-02-07T00:00:00.000000000',\n",
       "       '2019-04-04T00:00:00.000000000', '2019-06-14T00:00:00.000000000',\n",
       "       '2019-07-25T00:00:00.000000000', '2019-09-19T00:00:00.000000000',\n",
       "       '2019-10-24T00:00:00.000000000', '2019-11-28T00:00:00.000000000',\n",
       "       '2019-12-19T00:00:00.000000000', '2020-02-20T00:00:00.000000000',\n",
       "       '2020-04-09T00:00:00.000000000', '2020-06-11T00:00:00.000000000',\n",
       "       '2020-07-16T00:00:00.000000000', '2020-09-17T00:00:00.000000000',\n",
       "       '2020-10-22T00:00:00.000000000', '2020-11-26T00:00:00.000000000',\n",
       "       '2020-12-10T00:00:00.000000000', '2021-02-18T00:00:00.000000000',\n",
       "       '2021-04-07T00:00:00.000000000', '2021-05-27T00:00:00.000000000',\n",
       "       '2021-08-12T00:00:00.000000000', '2021-09-16T00:00:00.000000000',\n",
       "       '2021-10-21T00:00:00.000000000', '2021-11-19T00:00:00.000000000',\n",
       "       '2021-12-23T00:00:00.000000000', '2022-02-10T00:00:00.000000000',\n",
       "       '2022-03-31T00:00:00.000000000', '2022-06-23T00:00:00.000000000',\n",
       "       '2022-08-25T00:00:00.000000000', '2022-10-06T00:00:00.000000000',\n",
       "       '2022-12-22T00:00:00.000000000'], dtype='datetime64[ns]')"
      ]
     },
     "execution_count": 18,
     "metadata": {},
     "output_type": "execute_result"
    }
   ],
   "source": [
    "rank.rank_date.unique()"
   ]
  },
  {
   "cell_type": "code",
   "execution_count": 19,
   "metadata": {
    "execution": {
     "iopub.execute_input": "2023-01-10T12:10:26.270576Z",
     "iopub.status.busy": "2023-01-10T12:10:26.270141Z",
     "iopub.status.idle": "2023-01-10T12:10:26.292532Z",
     "shell.execute_reply": "2023-01-10T12:10:26.291112Z"
    },
    "papermill": {
     "duration": 0.073148,
     "end_time": "2023-01-10T12:10:26.295568",
     "exception": false,
     "start_time": "2023-01-10T12:10:26.222420",
     "status": "completed"
    },
    "tags": []
   },
   "outputs": [
    {
     "data": {
      "text/html": [
       "<div>\n",
       "<style scoped>\n",
       "    .dataframe tbody tr th:only-of-type {\n",
       "        vertical-align: middle;\n",
       "    }\n",
       "\n",
       "    .dataframe tbody tr th {\n",
       "        vertical-align: top;\n",
       "    }\n",
       "\n",
       "    .dataframe thead th {\n",
       "        text-align: right;\n",
       "    }\n",
       "</style>\n",
       "<table border=\"1\" class=\"dataframe\">\n",
       "  <thead>\n",
       "    <tr style=\"text-align: right;\">\n",
       "      <th></th>\n",
       "      <th>rank</th>\n",
       "      <th>country_full</th>\n",
       "      <th>country_abrv</th>\n",
       "      <th>total_points</th>\n",
       "      <th>previous_points</th>\n",
       "      <th>rank_change</th>\n",
       "      <th>confederation</th>\n",
       "    </tr>\n",
       "    <tr>\n",
       "      <th>rank_date</th>\n",
       "      <th></th>\n",
       "      <th></th>\n",
       "      <th></th>\n",
       "      <th></th>\n",
       "      <th></th>\n",
       "      <th></th>\n",
       "      <th></th>\n",
       "    </tr>\n",
       "  </thead>\n",
       "  <tbody>\n",
       "    <tr>\n",
       "      <th>2010-08-11</th>\n",
       "      <td>69</td>\n",
       "      <td>Uganda</td>\n",
       "      <td>UGA</td>\n",
       "      <td>459.00</td>\n",
       "      <td>457.00</td>\n",
       "      <td>-1</td>\n",
       "      <td>CAF</td>\n",
       "    </tr>\n",
       "    <tr>\n",
       "      <th>2010-08-11</th>\n",
       "      <td>66</td>\n",
       "      <td>South Africa</td>\n",
       "      <td>RSA</td>\n",
       "      <td>504.00</td>\n",
       "      <td>504.00</td>\n",
       "      <td>0</td>\n",
       "      <td>CAF</td>\n",
       "    </tr>\n",
       "    <tr>\n",
       "      <th>2010-08-11</th>\n",
       "      <td>68</td>\n",
       "      <td>Bahrain</td>\n",
       "      <td>BHR</td>\n",
       "      <td>466.00</td>\n",
       "      <td>460.00</td>\n",
       "      <td>-1</td>\n",
       "      <td>AFC</td>\n",
       "    </tr>\n",
       "    <tr>\n",
       "      <th>2010-08-11</th>\n",
       "      <td>73</td>\n",
       "      <td>Montenegro</td>\n",
       "      <td>MNE</td>\n",
       "      <td>448.00</td>\n",
       "      <td>448.00</td>\n",
       "      <td>1</td>\n",
       "      <td>UEFA</td>\n",
       "    </tr>\n",
       "    <tr>\n",
       "      <th>2010-08-11</th>\n",
       "      <td>70</td>\n",
       "      <td>Albania</td>\n",
       "      <td>ALB</td>\n",
       "      <td>455.00</td>\n",
       "      <td>455.00</td>\n",
       "      <td>-1</td>\n",
       "      <td>UEFA</td>\n",
       "    </tr>\n",
       "    <tr>\n",
       "      <th>...</th>\n",
       "      <td>...</td>\n",
       "      <td>...</td>\n",
       "      <td>...</td>\n",
       "      <td>...</td>\n",
       "      <td>...</td>\n",
       "      <td>...</td>\n",
       "      <td>...</td>\n",
       "    </tr>\n",
       "    <tr>\n",
       "      <th>2022-12-22</th>\n",
       "      <td>136</td>\n",
       "      <td>Solomon Islands</td>\n",
       "      <td>SOL</td>\n",
       "      <td>1095.70</td>\n",
       "      <td>1095.70</td>\n",
       "      <td>0</td>\n",
       "      <td>OFC</td>\n",
       "    </tr>\n",
       "    <tr>\n",
       "      <th>2022-12-22</th>\n",
       "      <td>135</td>\n",
       "      <td>Turkmenistan</td>\n",
       "      <td>TKM</td>\n",
       "      <td>1100.47</td>\n",
       "      <td>1100.47</td>\n",
       "      <td>0</td>\n",
       "      <td>AFC</td>\n",
       "    </tr>\n",
       "    <tr>\n",
       "      <th>2022-12-22</th>\n",
       "      <td>134</td>\n",
       "      <td>Philippines</td>\n",
       "      <td>PHI</td>\n",
       "      <td>1113.15</td>\n",
       "      <td>1115.13</td>\n",
       "      <td>1</td>\n",
       "      <td>AFC</td>\n",
       "    </tr>\n",
       "    <tr>\n",
       "      <th>2022-12-22</th>\n",
       "      <td>132</td>\n",
       "      <td>Central African Republic</td>\n",
       "      <td>CTA</td>\n",
       "      <td>1116.97</td>\n",
       "      <td>1116.97</td>\n",
       "      <td>0</td>\n",
       "      <td>CAF</td>\n",
       "    </tr>\n",
       "    <tr>\n",
       "      <th>2022-12-22</th>\n",
       "      <td>201</td>\n",
       "      <td>Eritrea</td>\n",
       "      <td>ERI</td>\n",
       "      <td>855.56</td>\n",
       "      <td>855.56</td>\n",
       "      <td>1</td>\n",
       "      <td>CAF</td>\n",
       "    </tr>\n",
       "  </tbody>\n",
       "</table>\n",
       "<p>27033 rows × 7 columns</p>\n",
       "</div>"
      ],
      "text/plain": [
       "            rank              country_full country_abrv  total_points  \\\n",
       "rank_date                                                               \n",
       "2010-08-11    69                    Uganda          UGA        459.00   \n",
       "2010-08-11    66              South Africa          RSA        504.00   \n",
       "2010-08-11    68                   Bahrain          BHR        466.00   \n",
       "2010-08-11    73                Montenegro          MNE        448.00   \n",
       "2010-08-11    70                   Albania          ALB        455.00   \n",
       "...          ...                       ...          ...           ...   \n",
       "2022-12-22   136           Solomon Islands          SOL       1095.70   \n",
       "2022-12-22   135              Turkmenistan          TKM       1100.47   \n",
       "2022-12-22   134               Philippines          PHI       1113.15   \n",
       "2022-12-22   132  Central African Republic          CTA       1116.97   \n",
       "2022-12-22   201                   Eritrea          ERI        855.56   \n",
       "\n",
       "            previous_points  rank_change confederation  \n",
       "rank_date                                               \n",
       "2010-08-11           457.00           -1           CAF  \n",
       "2010-08-11           504.00            0           CAF  \n",
       "2010-08-11           460.00           -1           AFC  \n",
       "2010-08-11           448.00            1          UEFA  \n",
       "2010-08-11           455.00           -1          UEFA  \n",
       "...                     ...          ...           ...  \n",
       "2022-12-22          1095.70            0           OFC  \n",
       "2022-12-22          1100.47            0           AFC  \n",
       "2022-12-22          1115.13            1           AFC  \n",
       "2022-12-22          1116.97            0           CAF  \n",
       "2022-12-22           855.56            1           CAF  \n",
       "\n",
       "[27033 rows x 7 columns]"
      ]
     },
     "execution_count": 19,
     "metadata": {},
     "output_type": "execute_result"
    }
   ],
   "source": [
    "rank.set_index(['rank_date'])"
   ]
  },
  {
   "cell_type": "code",
   "execution_count": 20,
   "metadata": {
    "execution": {
     "iopub.execute_input": "2023-01-10T12:10:26.392862Z",
     "iopub.status.busy": "2023-01-10T12:10:26.392453Z",
     "iopub.status.idle": "2023-01-10T12:10:27.305269Z",
     "shell.execute_reply": "2023-01-10T12:10:27.303532Z"
    },
    "papermill": {
     "duration": 0.964385,
     "end_time": "2023-01-10T12:10:27.308129",
     "exception": false,
     "start_time": "2023-01-10T12:10:26.343744",
     "status": "completed"
    },
    "tags": []
   },
   "outputs": [
    {
     "data": {
      "text/html": [
       "<div>\n",
       "<style scoped>\n",
       "    .dataframe tbody tr th:only-of-type {\n",
       "        vertical-align: middle;\n",
       "    }\n",
       "\n",
       "    .dataframe tbody tr th {\n",
       "        vertical-align: top;\n",
       "    }\n",
       "\n",
       "    .dataframe thead th {\n",
       "        text-align: right;\n",
       "    }\n",
       "</style>\n",
       "<table border=\"1\" class=\"dataframe\">\n",
       "  <thead>\n",
       "    <tr style=\"text-align: right;\">\n",
       "      <th></th>\n",
       "      <th>rank</th>\n",
       "      <th>country_full</th>\n",
       "      <th>country_abrv</th>\n",
       "      <th>total_points</th>\n",
       "      <th>previous_points</th>\n",
       "      <th>rank_change</th>\n",
       "      <th>confederation</th>\n",
       "    </tr>\n",
       "    <tr>\n",
       "      <th>rank_date</th>\n",
       "      <th></th>\n",
       "      <th></th>\n",
       "      <th></th>\n",
       "      <th></th>\n",
       "      <th></th>\n",
       "      <th></th>\n",
       "      <th></th>\n",
       "    </tr>\n",
       "  </thead>\n",
       "  <tbody>\n",
       "    <tr>\n",
       "      <th>2010-08-11</th>\n",
       "      <td>195.0</td>\n",
       "      <td>Afghanistan</td>\n",
       "      <td>AFG</td>\n",
       "      <td>13.00</td>\n",
       "      <td>17.00</td>\n",
       "      <td>2.0</td>\n",
       "      <td>AFC</td>\n",
       "    </tr>\n",
       "    <tr>\n",
       "      <th>2010-09-15</th>\n",
       "      <td>194.0</td>\n",
       "      <td>Afghanistan</td>\n",
       "      <td>AFG</td>\n",
       "      <td>13.00</td>\n",
       "      <td>13.00</td>\n",
       "      <td>-1.0</td>\n",
       "      <td>AFC</td>\n",
       "    </tr>\n",
       "    <tr>\n",
       "      <th>2010-10-20</th>\n",
       "      <td>196.0</td>\n",
       "      <td>Afghanistan</td>\n",
       "      <td>AFG</td>\n",
       "      <td>10.00</td>\n",
       "      <td>13.00</td>\n",
       "      <td>2.0</td>\n",
       "      <td>AFC</td>\n",
       "    </tr>\n",
       "    <tr>\n",
       "      <th>2010-11-17</th>\n",
       "      <td>195.0</td>\n",
       "      <td>Afghanistan</td>\n",
       "      <td>AFG</td>\n",
       "      <td>10.00</td>\n",
       "      <td>10.00</td>\n",
       "      <td>-1.0</td>\n",
       "      <td>AFC</td>\n",
       "    </tr>\n",
       "    <tr>\n",
       "      <th>2010-12-15</th>\n",
       "      <td>195.0</td>\n",
       "      <td>Afghanistan</td>\n",
       "      <td>AFG</td>\n",
       "      <td>10.00</td>\n",
       "      <td>10.00</td>\n",
       "      <td>0.0</td>\n",
       "      <td>AFC</td>\n",
       "    </tr>\n",
       "    <tr>\n",
       "      <th>...</th>\n",
       "      <td>...</td>\n",
       "      <td>...</td>\n",
       "      <td>...</td>\n",
       "      <td>...</td>\n",
       "      <td>...</td>\n",
       "      <td>...</td>\n",
       "      <td>...</td>\n",
       "    </tr>\n",
       "    <tr>\n",
       "      <th>2022-03-31</th>\n",
       "      <td>122.0</td>\n",
       "      <td>Zimbabwe</td>\n",
       "      <td>ZIM</td>\n",
       "      <td>1138.56</td>\n",
       "      <td>1138.56</td>\n",
       "      <td>0.0</td>\n",
       "      <td>CAF</td>\n",
       "    </tr>\n",
       "    <tr>\n",
       "      <th>2022-06-23</th>\n",
       "      <td>123.0</td>\n",
       "      <td>Zimbabwe</td>\n",
       "      <td>ZIM</td>\n",
       "      <td>1138.56</td>\n",
       "      <td>1138.56</td>\n",
       "      <td>1.0</td>\n",
       "      <td>CAF</td>\n",
       "    </tr>\n",
       "    <tr>\n",
       "      <th>2022-08-25</th>\n",
       "      <td>123.0</td>\n",
       "      <td>Zimbabwe</td>\n",
       "      <td>ZIM</td>\n",
       "      <td>1138.56</td>\n",
       "      <td>1138.56</td>\n",
       "      <td>0.0</td>\n",
       "      <td>CAF</td>\n",
       "    </tr>\n",
       "    <tr>\n",
       "      <th>2022-10-06</th>\n",
       "      <td>125.0</td>\n",
       "      <td>Zimbabwe</td>\n",
       "      <td>ZIM</td>\n",
       "      <td>1138.56</td>\n",
       "      <td>1138.56</td>\n",
       "      <td>2.0</td>\n",
       "      <td>CAF</td>\n",
       "    </tr>\n",
       "    <tr>\n",
       "      <th>2022-12-22</th>\n",
       "      <td>125.0</td>\n",
       "      <td>Zimbabwe</td>\n",
       "      <td>ZIM</td>\n",
       "      <td>1138.56</td>\n",
       "      <td>1138.56</td>\n",
       "      <td>0.0</td>\n",
       "      <td>CAF</td>\n",
       "    </tr>\n",
       "  </tbody>\n",
       "</table>\n",
       "<p>27033 rows × 7 columns</p>\n",
       "</div>"
      ],
      "text/plain": [
       "             rank country_full country_abrv  total_points  previous_points  \\\n",
       "rank_date                                                                    \n",
       "2010-08-11  195.0  Afghanistan          AFG         13.00            17.00   \n",
       "2010-09-15  194.0  Afghanistan          AFG         13.00            13.00   \n",
       "2010-10-20  196.0  Afghanistan          AFG         10.00            13.00   \n",
       "2010-11-17  195.0  Afghanistan          AFG         10.00            10.00   \n",
       "2010-12-15  195.0  Afghanistan          AFG         10.00            10.00   \n",
       "...           ...          ...          ...           ...              ...   \n",
       "2022-03-31  122.0     Zimbabwe          ZIM       1138.56          1138.56   \n",
       "2022-06-23  123.0     Zimbabwe          ZIM       1138.56          1138.56   \n",
       "2022-08-25  123.0     Zimbabwe          ZIM       1138.56          1138.56   \n",
       "2022-10-06  125.0     Zimbabwe          ZIM       1138.56          1138.56   \n",
       "2022-12-22  125.0     Zimbabwe          ZIM       1138.56          1138.56   \n",
       "\n",
       "            rank_change confederation  \n",
       "rank_date                              \n",
       "2010-08-11          2.0           AFC  \n",
       "2010-09-15         -1.0           AFC  \n",
       "2010-10-20          2.0           AFC  \n",
       "2010-11-17         -1.0           AFC  \n",
       "2010-12-15          0.0           AFC  \n",
       "...                 ...           ...  \n",
       "2022-03-31          0.0           CAF  \n",
       "2022-06-23          1.0           CAF  \n",
       "2022-08-25          0.0           CAF  \n",
       "2022-10-06          2.0           CAF  \n",
       "2022-12-22          0.0           CAF  \n",
       "\n",
       "[27033 rows x 7 columns]"
      ]
     },
     "execution_count": 20,
     "metadata": {},
     "output_type": "execute_result"
    }
   ],
   "source": [
    "(rank.set_index(['rank_date']).groupby(['country_full'], group_keys=False).resample('D').first()).dropna(axis=0)"
   ]
  },
  {
   "cell_type": "code",
   "execution_count": 21,
   "metadata": {
    "execution": {
     "iopub.execute_input": "2023-01-10T12:10:27.404872Z",
     "iopub.status.busy": "2023-01-10T12:10:27.404254Z",
     "iopub.status.idle": "2023-01-10T12:10:28.264153Z",
     "shell.execute_reply": "2023-01-10T12:10:28.262907Z"
    },
    "papermill": {
     "duration": 0.911723,
     "end_time": "2023-01-10T12:10:28.267388",
     "exception": false,
     "start_time": "2023-01-10T12:10:27.355665",
     "status": "completed"
    },
    "tags": []
   },
   "outputs": [],
   "source": [
    "rank = rank.set_index(['rank_date']).groupby(['country_full'], group_keys=False).resample('D').first().fillna(method='ffill').reset_index()"
   ]
  },
  {
   "cell_type": "markdown",
   "metadata": {},
   "source": [
    "## Очистка, отбор и создание новых признаков"
   ]
  },
  {
   "cell_type": "code",
   "execution_count": 22,
   "metadata": {
    "execution": {
     "iopub.execute_input": "2023-01-10T12:10:28.656280Z",
     "iopub.status.busy": "2023-01-10T12:10:28.655464Z",
     "iopub.status.idle": "2023-01-10T12:10:28.678199Z",
     "shell.execute_reply": "2023-01-10T12:10:28.677269Z"
    },
    "papermill": {
     "duration": 0.075795,
     "end_time": "2023-01-10T12:10:28.680403",
     "exception": false,
     "start_time": "2023-01-10T12:10:28.604608",
     "status": "completed"
    },
    "tags": []
   },
   "outputs": [
    {
     "data": {
      "text/html": [
       "<div>\n",
       "<style scoped>\n",
       "    .dataframe tbody tr th:only-of-type {\n",
       "        vertical-align: middle;\n",
       "    }\n",
       "\n",
       "    .dataframe tbody tr th {\n",
       "        vertical-align: top;\n",
       "    }\n",
       "\n",
       "    .dataframe thead th {\n",
       "        text-align: right;\n",
       "    }\n",
       "</style>\n",
       "<table border=\"1\" class=\"dataframe\">\n",
       "  <thead>\n",
       "    <tr style=\"text-align: right;\">\n",
       "      <th></th>\n",
       "      <th>rank_date</th>\n",
       "      <th>rank</th>\n",
       "      <th>country_full</th>\n",
       "      <th>country_abrv</th>\n",
       "      <th>total_points</th>\n",
       "      <th>previous_points</th>\n",
       "      <th>rank_change</th>\n",
       "      <th>confederation</th>\n",
       "    </tr>\n",
       "  </thead>\n",
       "  <tbody>\n",
       "    <tr>\n",
       "      <th>0</th>\n",
       "      <td>2010-08-11</td>\n",
       "      <td>195.0</td>\n",
       "      <td>Afghanistan</td>\n",
       "      <td>AFG</td>\n",
       "      <td>13.00</td>\n",
       "      <td>17.00</td>\n",
       "      <td>2.0</td>\n",
       "      <td>AFC</td>\n",
       "    </tr>\n",
       "    <tr>\n",
       "      <th>1</th>\n",
       "      <td>2010-08-12</td>\n",
       "      <td>195.0</td>\n",
       "      <td>Afghanistan</td>\n",
       "      <td>AFG</td>\n",
       "      <td>13.00</td>\n",
       "      <td>17.00</td>\n",
       "      <td>2.0</td>\n",
       "      <td>AFC</td>\n",
       "    </tr>\n",
       "    <tr>\n",
       "      <th>2</th>\n",
       "      <td>2010-08-13</td>\n",
       "      <td>195.0</td>\n",
       "      <td>Afghanistan</td>\n",
       "      <td>AFG</td>\n",
       "      <td>13.00</td>\n",
       "      <td>17.00</td>\n",
       "      <td>2.0</td>\n",
       "      <td>AFC</td>\n",
       "    </tr>\n",
       "    <tr>\n",
       "      <th>3</th>\n",
       "      <td>2010-08-14</td>\n",
       "      <td>195.0</td>\n",
       "      <td>Afghanistan</td>\n",
       "      <td>AFG</td>\n",
       "      <td>13.00</td>\n",
       "      <td>17.00</td>\n",
       "      <td>2.0</td>\n",
       "      <td>AFC</td>\n",
       "    </tr>\n",
       "    <tr>\n",
       "      <th>4</th>\n",
       "      <td>2010-08-15</td>\n",
       "      <td>195.0</td>\n",
       "      <td>Afghanistan</td>\n",
       "      <td>AFG</td>\n",
       "      <td>13.00</td>\n",
       "      <td>17.00</td>\n",
       "      <td>2.0</td>\n",
       "      <td>AFC</td>\n",
       "    </tr>\n",
       "    <tr>\n",
       "      <th>...</th>\n",
       "      <td>...</td>\n",
       "      <td>...</td>\n",
       "      <td>...</td>\n",
       "      <td>...</td>\n",
       "      <td>...</td>\n",
       "      <td>...</td>\n",
       "      <td>...</td>\n",
       "      <td>...</td>\n",
       "    </tr>\n",
       "    <tr>\n",
       "      <th>946505</th>\n",
       "      <td>2022-12-18</td>\n",
       "      <td>125.0</td>\n",
       "      <td>Zimbabwe</td>\n",
       "      <td>ZIM</td>\n",
       "      <td>1138.56</td>\n",
       "      <td>1138.56</td>\n",
       "      <td>2.0</td>\n",
       "      <td>CAF</td>\n",
       "    </tr>\n",
       "    <tr>\n",
       "      <th>946506</th>\n",
       "      <td>2022-12-19</td>\n",
       "      <td>125.0</td>\n",
       "      <td>Zimbabwe</td>\n",
       "      <td>ZIM</td>\n",
       "      <td>1138.56</td>\n",
       "      <td>1138.56</td>\n",
       "      <td>2.0</td>\n",
       "      <td>CAF</td>\n",
       "    </tr>\n",
       "    <tr>\n",
       "      <th>946507</th>\n",
       "      <td>2022-12-20</td>\n",
       "      <td>125.0</td>\n",
       "      <td>Zimbabwe</td>\n",
       "      <td>ZIM</td>\n",
       "      <td>1138.56</td>\n",
       "      <td>1138.56</td>\n",
       "      <td>2.0</td>\n",
       "      <td>CAF</td>\n",
       "    </tr>\n",
       "    <tr>\n",
       "      <th>946508</th>\n",
       "      <td>2022-12-21</td>\n",
       "      <td>125.0</td>\n",
       "      <td>Zimbabwe</td>\n",
       "      <td>ZIM</td>\n",
       "      <td>1138.56</td>\n",
       "      <td>1138.56</td>\n",
       "      <td>2.0</td>\n",
       "      <td>CAF</td>\n",
       "    </tr>\n",
       "    <tr>\n",
       "      <th>946509</th>\n",
       "      <td>2022-12-22</td>\n",
       "      <td>125.0</td>\n",
       "      <td>Zimbabwe</td>\n",
       "      <td>ZIM</td>\n",
       "      <td>1138.56</td>\n",
       "      <td>1138.56</td>\n",
       "      <td>0.0</td>\n",
       "      <td>CAF</td>\n",
       "    </tr>\n",
       "  </tbody>\n",
       "</table>\n",
       "<p>946510 rows × 8 columns</p>\n",
       "</div>"
      ],
      "text/plain": [
       "        rank_date   rank country_full country_abrv  total_points  \\\n",
       "0      2010-08-11  195.0  Afghanistan          AFG         13.00   \n",
       "1      2010-08-12  195.0  Afghanistan          AFG         13.00   \n",
       "2      2010-08-13  195.0  Afghanistan          AFG         13.00   \n",
       "3      2010-08-14  195.0  Afghanistan          AFG         13.00   \n",
       "4      2010-08-15  195.0  Afghanistan          AFG         13.00   \n",
       "...           ...    ...          ...          ...           ...   \n",
       "946505 2022-12-18  125.0     Zimbabwe          ZIM       1138.56   \n",
       "946506 2022-12-19  125.0     Zimbabwe          ZIM       1138.56   \n",
       "946507 2022-12-20  125.0     Zimbabwe          ZIM       1138.56   \n",
       "946508 2022-12-21  125.0     Zimbabwe          ZIM       1138.56   \n",
       "946509 2022-12-22  125.0     Zimbabwe          ZIM       1138.56   \n",
       "\n",
       "        previous_points  rank_change confederation  \n",
       "0                 17.00          2.0           AFC  \n",
       "1                 17.00          2.0           AFC  \n",
       "2                 17.00          2.0           AFC  \n",
       "3                 17.00          2.0           AFC  \n",
       "4                 17.00          2.0           AFC  \n",
       "...                 ...          ...           ...  \n",
       "946505          1138.56          2.0           CAF  \n",
       "946506          1138.56          2.0           CAF  \n",
       "946507          1138.56          2.0           CAF  \n",
       "946508          1138.56          2.0           CAF  \n",
       "946509          1138.56          0.0           CAF  \n",
       "\n",
       "[946510 rows x 8 columns]"
      ]
     },
     "execution_count": 22,
     "metadata": {},
     "output_type": "execute_result"
    }
   ],
   "source": [
    "rank"
   ]
  },
  {
   "cell_type": "code",
   "execution_count": 23,
   "metadata": {
    "execution": {
     "iopub.execute_input": "2023-01-10T12:10:28.777223Z",
     "iopub.status.busy": "2023-01-10T12:10:28.776451Z",
     "iopub.status.idle": "2023-01-10T12:10:28.796585Z",
     "shell.execute_reply": "2023-01-10T12:10:28.795606Z"
    },
    "papermill": {
     "duration": 0.072247,
     "end_time": "2023-01-10T12:10:28.799418",
     "exception": false,
     "start_time": "2023-01-10T12:10:28.727171",
     "status": "completed"
    },
    "scrolled": true,
    "tags": []
   },
   "outputs": [
    {
     "data": {
      "text/html": [
       "<div>\n",
       "<style scoped>\n",
       "    .dataframe tbody tr th:only-of-type {\n",
       "        vertical-align: middle;\n",
       "    }\n",
       "\n",
       "    .dataframe tbody tr th {\n",
       "        vertical-align: top;\n",
       "    }\n",
       "\n",
       "    .dataframe thead th {\n",
       "        text-align: right;\n",
       "    }\n",
       "</style>\n",
       "<table border=\"1\" class=\"dataframe\">\n",
       "  <thead>\n",
       "    <tr style=\"text-align: right;\">\n",
       "      <th></th>\n",
       "      <th>date</th>\n",
       "      <th>home_team</th>\n",
       "      <th>away_team</th>\n",
       "      <th>home_score</th>\n",
       "      <th>away_score</th>\n",
       "      <th>tournament</th>\n",
       "      <th>city</th>\n",
       "      <th>country</th>\n",
       "      <th>neutral</th>\n",
       "    </tr>\n",
       "  </thead>\n",
       "  <tbody>\n",
       "    <tr>\n",
       "      <th>0</th>\n",
       "      <td>2010-08-04</td>\n",
       "      <td>Botswana</td>\n",
       "      <td>Zimbabwe</td>\n",
       "      <td>2</td>\n",
       "      <td>0</td>\n",
       "      <td>Friendly</td>\n",
       "      <td>Selebi-Phikwe</td>\n",
       "      <td>Botswana</td>\n",
       "      <td>False</td>\n",
       "    </tr>\n",
       "    <tr>\n",
       "      <th>1</th>\n",
       "      <td>2010-08-08</td>\n",
       "      <td>Anguilla</td>\n",
       "      <td>Saint Martin</td>\n",
       "      <td>1</td>\n",
       "      <td>3</td>\n",
       "      <td>Friendly</td>\n",
       "      <td>The Valley</td>\n",
       "      <td>Anguilla</td>\n",
       "      <td>False</td>\n",
       "    </tr>\n",
       "    <tr>\n",
       "      <th>2</th>\n",
       "      <td>2010-08-10</td>\n",
       "      <td>Bosnia and Herzegovina</td>\n",
       "      <td>Qatar</td>\n",
       "      <td>1</td>\n",
       "      <td>1</td>\n",
       "      <td>Friendly</td>\n",
       "      <td>Sarajevo</td>\n",
       "      <td>Bosnia and Herzegovina</td>\n",
       "      <td>False</td>\n",
       "    </tr>\n",
       "    <tr>\n",
       "      <th>3</th>\n",
       "      <td>2010-08-10</td>\n",
       "      <td>Italy</td>\n",
       "      <td>Ivory Coast</td>\n",
       "      <td>0</td>\n",
       "      <td>1</td>\n",
       "      <td>Friendly</td>\n",
       "      <td>London</td>\n",
       "      <td>England</td>\n",
       "      <td>True</td>\n",
       "    </tr>\n",
       "    <tr>\n",
       "      <th>4</th>\n",
       "      <td>2010-08-10</td>\n",
       "      <td>United States</td>\n",
       "      <td>Brazil</td>\n",
       "      <td>0</td>\n",
       "      <td>2</td>\n",
       "      <td>Friendly</td>\n",
       "      <td>East Rutherford</td>\n",
       "      <td>United States</td>\n",
       "      <td>False</td>\n",
       "    </tr>\n",
       "    <tr>\n",
       "      <th>...</th>\n",
       "      <td>...</td>\n",
       "      <td>...</td>\n",
       "      <td>...</td>\n",
       "      <td>...</td>\n",
       "      <td>...</td>\n",
       "      <td>...</td>\n",
       "      <td>...</td>\n",
       "      <td>...</td>\n",
       "      <td>...</td>\n",
       "    </tr>\n",
       "    <tr>\n",
       "      <th>11939</th>\n",
       "      <td>2023-03-28</td>\n",
       "      <td>Haiti</td>\n",
       "      <td>Bermuda</td>\n",
       "      <td>3</td>\n",
       "      <td>1</td>\n",
       "      <td>CONCACAF Nations League</td>\n",
       "      <td>San Cristóbal</td>\n",
       "      <td>Dominican Republic</td>\n",
       "      <td>True</td>\n",
       "    </tr>\n",
       "    <tr>\n",
       "      <th>11940</th>\n",
       "      <td>2023-03-28</td>\n",
       "      <td>Guyana</td>\n",
       "      <td>Montserrat</td>\n",
       "      <td>0</td>\n",
       "      <td>0</td>\n",
       "      <td>CONCACAF Nations League</td>\n",
       "      <td>Bridgetown</td>\n",
       "      <td>Barbados</td>\n",
       "      <td>True</td>\n",
       "    </tr>\n",
       "    <tr>\n",
       "      <th>11941</th>\n",
       "      <td>2023-03-28</td>\n",
       "      <td>Bonaire</td>\n",
       "      <td>Turks and Caicos Islands</td>\n",
       "      <td>1</td>\n",
       "      <td>2</td>\n",
       "      <td>CONCACAF Nations League</td>\n",
       "      <td>Rincon</td>\n",
       "      <td>Bonaire</td>\n",
       "      <td>False</td>\n",
       "    </tr>\n",
       "    <tr>\n",
       "      <th>11942</th>\n",
       "      <td>2023-03-28</td>\n",
       "      <td>United States Virgin Islands</td>\n",
       "      <td>Sint Maarten</td>\n",
       "      <td>1</td>\n",
       "      <td>2</td>\n",
       "      <td>CONCACAF Nations League</td>\n",
       "      <td>Saint Croix</td>\n",
       "      <td>United States Virgin Islands</td>\n",
       "      <td>False</td>\n",
       "    </tr>\n",
       "    <tr>\n",
       "      <th>11943</th>\n",
       "      <td>2023-03-29</td>\n",
       "      <td>Rwanda</td>\n",
       "      <td>Benin</td>\n",
       "      <td>1</td>\n",
       "      <td>1</td>\n",
       "      <td>African Cup of Nations qualification</td>\n",
       "      <td>Kigali</td>\n",
       "      <td>Rwanda</td>\n",
       "      <td>False</td>\n",
       "    </tr>\n",
       "  </tbody>\n",
       "</table>\n",
       "<p>11944 rows × 9 columns</p>\n",
       "</div>"
      ],
      "text/plain": [
       "            date                     home_team                 away_team  \\\n",
       "0     2010-08-04                      Botswana                  Zimbabwe   \n",
       "1     2010-08-08                      Anguilla              Saint Martin   \n",
       "2     2010-08-10        Bosnia and Herzegovina                     Qatar   \n",
       "3     2010-08-10                         Italy               Ivory Coast   \n",
       "4     2010-08-10                 United States                    Brazil   \n",
       "...          ...                           ...                       ...   \n",
       "11939 2023-03-28                         Haiti                   Bermuda   \n",
       "11940 2023-03-28                        Guyana                Montserrat   \n",
       "11941 2023-03-28                       Bonaire  Turks and Caicos Islands   \n",
       "11942 2023-03-28  United States Virgin Islands              Sint Maarten   \n",
       "11943 2023-03-29                        Rwanda                     Benin   \n",
       "\n",
       "       home_score  away_score                            tournament  \\\n",
       "0               2           0                              Friendly   \n",
       "1               1           3                              Friendly   \n",
       "2               1           1                              Friendly   \n",
       "3               0           1                              Friendly   \n",
       "4               0           2                              Friendly   \n",
       "...           ...         ...                                   ...   \n",
       "11939           3           1               CONCACAF Nations League   \n",
       "11940           0           0               CONCACAF Nations League   \n",
       "11941           1           2               CONCACAF Nations League   \n",
       "11942           1           2               CONCACAF Nations League   \n",
       "11943           1           1  African Cup of Nations qualification   \n",
       "\n",
       "                  city                       country  neutral  \n",
       "0        Selebi-Phikwe                      Botswana    False  \n",
       "1           The Valley                      Anguilla    False  \n",
       "2             Sarajevo        Bosnia and Herzegovina    False  \n",
       "3               London                       England     True  \n",
       "4      East Rutherford                 United States    False  \n",
       "...                ...                           ...      ...  \n",
       "11939    San Cristóbal            Dominican Republic     True  \n",
       "11940       Bridgetown                      Barbados     True  \n",
       "11941           Rincon                       Bonaire    False  \n",
       "11942      Saint Croix  United States Virgin Islands    False  \n",
       "11943           Kigali                        Rwanda    False  \n",
       "\n",
       "[11944 rows x 9 columns]"
      ]
     },
     "execution_count": 23,
     "metadata": {},
     "output_type": "execute_result"
    }
   ],
   "source": [
    "df"
   ]
  },
  {
   "cell_type": "code",
   "execution_count": 24,
   "metadata": {
    "execution": {
     "iopub.execute_input": "2023-01-10T12:10:28.900364Z",
     "iopub.status.busy": "2023-01-10T12:10:28.899145Z",
     "iopub.status.idle": "2023-01-10T12:10:28.989675Z",
     "shell.execute_reply": "2023-01-10T12:10:28.988005Z"
    },
    "papermill": {
     "duration": 0.145255,
     "end_time": "2023-01-10T12:10:28.993096",
     "exception": false,
     "start_time": "2023-01-10T12:10:28.847841",
     "status": "completed"
    },
    "tags": []
   },
   "outputs": [],
   "source": [
    "df_wc_ranked = df.merge(rank[[\"country_full\", \"total_points\", \"previous_points\", \"rank\", \"rank_change\", \"rank_date\"]], left_on=[\"date\", \"home_team\"], right_on=[\"rank_date\", \"country_full\"]).drop([\"rank_date\", \"country_full\"], axis=1)"
   ]
  },
  {
   "cell_type": "code",
   "execution_count": 25,
   "metadata": {
    "execution": {
     "iopub.execute_input": "2023-01-10T12:10:29.091469Z",
     "iopub.status.busy": "2023-01-10T12:10:29.090616Z",
     "iopub.status.idle": "2023-01-10T12:10:29.117687Z",
     "shell.execute_reply": "2023-01-10T12:10:29.116805Z"
    },
    "papermill": {
     "duration": 0.078802,
     "end_time": "2023-01-10T12:10:29.119736",
     "exception": false,
     "start_time": "2023-01-10T12:10:29.040934",
     "status": "completed"
    },
    "tags": []
   },
   "outputs": [
    {
     "data": {
      "text/html": [
       "<div>\n",
       "<style scoped>\n",
       "    .dataframe tbody tr th:only-of-type {\n",
       "        vertical-align: middle;\n",
       "    }\n",
       "\n",
       "    .dataframe tbody tr th {\n",
       "        vertical-align: top;\n",
       "    }\n",
       "\n",
       "    .dataframe thead th {\n",
       "        text-align: right;\n",
       "    }\n",
       "</style>\n",
       "<table border=\"1\" class=\"dataframe\">\n",
       "  <thead>\n",
       "    <tr style=\"text-align: right;\">\n",
       "      <th></th>\n",
       "      <th>date</th>\n",
       "      <th>home_team</th>\n",
       "      <th>away_team</th>\n",
       "      <th>home_score</th>\n",
       "      <th>away_score</th>\n",
       "      <th>tournament</th>\n",
       "      <th>city</th>\n",
       "      <th>country</th>\n",
       "      <th>neutral</th>\n",
       "      <th>total_points</th>\n",
       "      <th>previous_points</th>\n",
       "      <th>rank</th>\n",
       "      <th>rank_change</th>\n",
       "    </tr>\n",
       "  </thead>\n",
       "  <tbody>\n",
       "    <tr>\n",
       "      <th>0</th>\n",
       "      <td>2010-08-11</td>\n",
       "      <td>Albania</td>\n",
       "      <td>Uzbekistan</td>\n",
       "      <td>1</td>\n",
       "      <td>0</td>\n",
       "      <td>Friendly</td>\n",
       "      <td>Durrës</td>\n",
       "      <td>Albania</td>\n",
       "      <td>False</td>\n",
       "      <td>455.00</td>\n",
       "      <td>455.00</td>\n",
       "      <td>70.0</td>\n",
       "      <td>-1.0</td>\n",
       "    </tr>\n",
       "    <tr>\n",
       "      <th>1</th>\n",
       "      <td>2010-08-11</td>\n",
       "      <td>Algeria</td>\n",
       "      <td>Gabon</td>\n",
       "      <td>1</td>\n",
       "      <td>2</td>\n",
       "      <td>Friendly</td>\n",
       "      <td>Algiers</td>\n",
       "      <td>Algeria</td>\n",
       "      <td>False</td>\n",
       "      <td>759.00</td>\n",
       "      <td>759.00</td>\n",
       "      <td>33.0</td>\n",
       "      <td>0.0</td>\n",
       "    </tr>\n",
       "    <tr>\n",
       "      <th>2</th>\n",
       "      <td>2010-08-11</td>\n",
       "      <td>Angola</td>\n",
       "      <td>Uruguay</td>\n",
       "      <td>0</td>\n",
       "      <td>2</td>\n",
       "      <td>Friendly</td>\n",
       "      <td>Lisbon</td>\n",
       "      <td>Portugal</td>\n",
       "      <td>True</td>\n",
       "      <td>357.00</td>\n",
       "      <td>356.00</td>\n",
       "      <td>87.0</td>\n",
       "      <td>1.0</td>\n",
       "    </tr>\n",
       "    <tr>\n",
       "      <th>3</th>\n",
       "      <td>2010-08-11</td>\n",
       "      <td>Armenia</td>\n",
       "      <td>Iran</td>\n",
       "      <td>1</td>\n",
       "      <td>3</td>\n",
       "      <td>Friendly</td>\n",
       "      <td>Yerevan</td>\n",
       "      <td>Armenia</td>\n",
       "      <td>False</td>\n",
       "      <td>318.00</td>\n",
       "      <td>318.00</td>\n",
       "      <td>96.0</td>\n",
       "      <td>0.0</td>\n",
       "    </tr>\n",
       "    <tr>\n",
       "      <th>4</th>\n",
       "      <td>2010-08-11</td>\n",
       "      <td>Austria</td>\n",
       "      <td>Switzerland</td>\n",
       "      <td>0</td>\n",
       "      <td>1</td>\n",
       "      <td>Friendly</td>\n",
       "      <td>Klagenfurt</td>\n",
       "      <td>Austria</td>\n",
       "      <td>False</td>\n",
       "      <td>536.00</td>\n",
       "      <td>536.00</td>\n",
       "      <td>60.0</td>\n",
       "      <td>0.0</td>\n",
       "    </tr>\n",
       "    <tr>\n",
       "      <th>...</th>\n",
       "      <td>...</td>\n",
       "      <td>...</td>\n",
       "      <td>...</td>\n",
       "      <td>...</td>\n",
       "      <td>...</td>\n",
       "      <td>...</td>\n",
       "      <td>...</td>\n",
       "      <td>...</td>\n",
       "      <td>...</td>\n",
       "      <td>...</td>\n",
       "      <td>...</td>\n",
       "      <td>...</td>\n",
       "      <td>...</td>\n",
       "    </tr>\n",
       "    <tr>\n",
       "      <th>10680</th>\n",
       "      <td>2022-12-14</td>\n",
       "      <td>Thailand</td>\n",
       "      <td>Taiwan</td>\n",
       "      <td>0</td>\n",
       "      <td>1</td>\n",
       "      <td>Friendly</td>\n",
       "      <td>Pathum Thani</td>\n",
       "      <td>Thailand</td>\n",
       "      <td>False</td>\n",
       "      <td>1174.92</td>\n",
       "      <td>1170.69</td>\n",
       "      <td>111.0</td>\n",
       "      <td>0.0</td>\n",
       "    </tr>\n",
       "    <tr>\n",
       "      <th>10681</th>\n",
       "      <td>2022-12-14</td>\n",
       "      <td>Vietnam</td>\n",
       "      <td>Philippines</td>\n",
       "      <td>1</td>\n",
       "      <td>0</td>\n",
       "      <td>Friendly</td>\n",
       "      <td>Hanoi</td>\n",
       "      <td>Vietnam</td>\n",
       "      <td>False</td>\n",
       "      <td>1226.65</td>\n",
       "      <td>1218.84</td>\n",
       "      <td>96.0</td>\n",
       "      <td>-1.0</td>\n",
       "    </tr>\n",
       "    <tr>\n",
       "      <th>10682</th>\n",
       "      <td>2022-12-17</td>\n",
       "      <td>Croatia</td>\n",
       "      <td>Morocco</td>\n",
       "      <td>2</td>\n",
       "      <td>1</td>\n",
       "      <td>FIFA World Cup</td>\n",
       "      <td>Al Rayyan</td>\n",
       "      <td>Qatar</td>\n",
       "      <td>True</td>\n",
       "      <td>1645.64</td>\n",
       "      <td>1632.15</td>\n",
       "      <td>12.0</td>\n",
       "      <td>-3.0</td>\n",
       "    </tr>\n",
       "    <tr>\n",
       "      <th>10683</th>\n",
       "      <td>2022-12-17</td>\n",
       "      <td>Singapore</td>\n",
       "      <td>Maldives</td>\n",
       "      <td>3</td>\n",
       "      <td>1</td>\n",
       "      <td>Friendly</td>\n",
       "      <td>Singapore</td>\n",
       "      <td>Singapore</td>\n",
       "      <td>False</td>\n",
       "      <td>1003.50</td>\n",
       "      <td>1004.75</td>\n",
       "      <td>160.0</td>\n",
       "      <td>1.0</td>\n",
       "    </tr>\n",
       "    <tr>\n",
       "      <th>10684</th>\n",
       "      <td>2022-12-18</td>\n",
       "      <td>Argentina</td>\n",
       "      <td>France</td>\n",
       "      <td>3</td>\n",
       "      <td>3</td>\n",
       "      <td>FIFA World Cup</td>\n",
       "      <td>Lusail</td>\n",
       "      <td>Qatar</td>\n",
       "      <td>True</td>\n",
       "      <td>1773.88</td>\n",
       "      <td>1770.65</td>\n",
       "      <td>3.0</td>\n",
       "      <td>0.0</td>\n",
       "    </tr>\n",
       "  </tbody>\n",
       "</table>\n",
       "<p>10685 rows × 13 columns</p>\n",
       "</div>"
      ],
      "text/plain": [
       "            date  home_team    away_team  home_score  away_score  \\\n",
       "0     2010-08-11    Albania   Uzbekistan           1           0   \n",
       "1     2010-08-11    Algeria        Gabon           1           2   \n",
       "2     2010-08-11     Angola      Uruguay           0           2   \n",
       "3     2010-08-11    Armenia         Iran           1           3   \n",
       "4     2010-08-11    Austria  Switzerland           0           1   \n",
       "...          ...        ...          ...         ...         ...   \n",
       "10680 2022-12-14   Thailand       Taiwan           0           1   \n",
       "10681 2022-12-14    Vietnam  Philippines           1           0   \n",
       "10682 2022-12-17    Croatia      Morocco           2           1   \n",
       "10683 2022-12-17  Singapore     Maldives           3           1   \n",
       "10684 2022-12-18  Argentina       France           3           3   \n",
       "\n",
       "           tournament          city    country  neutral  total_points  \\\n",
       "0            Friendly        Durrës    Albania    False        455.00   \n",
       "1            Friendly       Algiers    Algeria    False        759.00   \n",
       "2            Friendly        Lisbon   Portugal     True        357.00   \n",
       "3            Friendly       Yerevan    Armenia    False        318.00   \n",
       "4            Friendly    Klagenfurt    Austria    False        536.00   \n",
       "...               ...           ...        ...      ...           ...   \n",
       "10680        Friendly  Pathum Thani   Thailand    False       1174.92   \n",
       "10681        Friendly         Hanoi    Vietnam    False       1226.65   \n",
       "10682  FIFA World Cup     Al Rayyan      Qatar     True       1645.64   \n",
       "10683        Friendly     Singapore  Singapore    False       1003.50   \n",
       "10684  FIFA World Cup        Lusail      Qatar     True       1773.88   \n",
       "\n",
       "       previous_points   rank  rank_change  \n",
       "0               455.00   70.0         -1.0  \n",
       "1               759.00   33.0          0.0  \n",
       "2               356.00   87.0          1.0  \n",
       "3               318.00   96.0          0.0  \n",
       "4               536.00   60.0          0.0  \n",
       "...                ...    ...          ...  \n",
       "10680          1170.69  111.0          0.0  \n",
       "10681          1218.84   96.0         -1.0  \n",
       "10682          1632.15   12.0         -3.0  \n",
       "10683          1004.75  160.0          1.0  \n",
       "10684          1770.65    3.0          0.0  \n",
       "\n",
       "[10685 rows x 13 columns]"
      ]
     },
     "execution_count": 25,
     "metadata": {},
     "output_type": "execute_result"
    }
   ],
   "source": [
    "df_wc_ranked"
   ]
  },
  {
   "cell_type": "code",
   "execution_count": 26,
   "metadata": {
    "execution": {
     "iopub.execute_input": "2023-01-10T12:10:29.220576Z",
     "iopub.status.busy": "2023-01-10T12:10:29.219600Z",
     "iopub.status.idle": "2023-01-10T12:10:29.299111Z",
     "shell.execute_reply": "2023-01-10T12:10:29.297686Z"
    },
    "papermill": {
     "duration": 0.134013,
     "end_time": "2023-01-10T12:10:29.302171",
     "exception": false,
     "start_time": "2023-01-10T12:10:29.168158",
     "status": "completed"
    },
    "tags": []
   },
   "outputs": [],
   "source": [
    "df_wc_ranked = df_wc_ranked.merge(rank[[\"country_full\", \"total_points\", \"previous_points\", \"rank\", \"rank_change\", \n",
    "    \"rank_date\"]], left_on=[\"date\", \"away_team\"], right_on=[\"rank_date\", \"country_full\"], \n",
    "                                  suffixes=(\"_home\", \"_away\")).drop([\"rank_date\", \"country_full\"], axis=1)"
   ]
  },
  {
   "cell_type": "code",
   "execution_count": 27,
   "metadata": {
    "execution": {
     "iopub.execute_input": "2023-01-10T12:10:29.403834Z",
     "iopub.status.busy": "2023-01-10T12:10:29.403428Z",
     "iopub.status.idle": "2023-01-10T12:10:29.436757Z",
     "shell.execute_reply": "2023-01-10T12:10:29.435702Z"
    },
    "papermill": {
     "duration": 0.08882,
     "end_time": "2023-01-10T12:10:29.439476",
     "exception": false,
     "start_time": "2023-01-10T12:10:29.350656",
     "status": "completed"
    },
    "tags": []
   },
   "outputs": [
    {
     "data": {
      "text/html": [
       "<div>\n",
       "<style scoped>\n",
       "    .dataframe tbody tr th:only-of-type {\n",
       "        vertical-align: middle;\n",
       "    }\n",
       "\n",
       "    .dataframe tbody tr th {\n",
       "        vertical-align: top;\n",
       "    }\n",
       "\n",
       "    .dataframe thead th {\n",
       "        text-align: right;\n",
       "    }\n",
       "</style>\n",
       "<table border=\"1\" class=\"dataframe\">\n",
       "  <thead>\n",
       "    <tr style=\"text-align: right;\">\n",
       "      <th></th>\n",
       "      <th>date</th>\n",
       "      <th>home_team</th>\n",
       "      <th>away_team</th>\n",
       "      <th>home_score</th>\n",
       "      <th>away_score</th>\n",
       "      <th>tournament</th>\n",
       "      <th>city</th>\n",
       "      <th>country</th>\n",
       "      <th>neutral</th>\n",
       "      <th>total_points_home</th>\n",
       "      <th>previous_points_home</th>\n",
       "      <th>rank_home</th>\n",
       "      <th>rank_change_home</th>\n",
       "      <th>total_points_away</th>\n",
       "      <th>previous_points_away</th>\n",
       "      <th>rank_away</th>\n",
       "      <th>rank_change_away</th>\n",
       "    </tr>\n",
       "  </thead>\n",
       "  <tbody>\n",
       "    <tr>\n",
       "      <th>0</th>\n",
       "      <td>2010-08-11</td>\n",
       "      <td>Albania</td>\n",
       "      <td>Uzbekistan</td>\n",
       "      <td>1</td>\n",
       "      <td>0</td>\n",
       "      <td>Friendly</td>\n",
       "      <td>Durrës</td>\n",
       "      <td>Albania</td>\n",
       "      <td>False</td>\n",
       "      <td>455.00</td>\n",
       "      <td>455.00</td>\n",
       "      <td>70.0</td>\n",
       "      <td>-1.0</td>\n",
       "      <td>351.00</td>\n",
       "      <td>352.00</td>\n",
       "      <td>88.0</td>\n",
       "      <td>1.0</td>\n",
       "    </tr>\n",
       "    <tr>\n",
       "      <th>1</th>\n",
       "      <td>2010-08-11</td>\n",
       "      <td>Algeria</td>\n",
       "      <td>Gabon</td>\n",
       "      <td>1</td>\n",
       "      <td>2</td>\n",
       "      <td>Friendly</td>\n",
       "      <td>Algiers</td>\n",
       "      <td>Algeria</td>\n",
       "      <td>False</td>\n",
       "      <td>759.00</td>\n",
       "      <td>759.00</td>\n",
       "      <td>33.0</td>\n",
       "      <td>0.0</td>\n",
       "      <td>755.00</td>\n",
       "      <td>755.00</td>\n",
       "      <td>34.0</td>\n",
       "      <td>0.0</td>\n",
       "    </tr>\n",
       "    <tr>\n",
       "      <th>2</th>\n",
       "      <td>2010-08-11</td>\n",
       "      <td>Angola</td>\n",
       "      <td>Uruguay</td>\n",
       "      <td>0</td>\n",
       "      <td>2</td>\n",
       "      <td>Friendly</td>\n",
       "      <td>Lisbon</td>\n",
       "      <td>Portugal</td>\n",
       "      <td>True</td>\n",
       "      <td>357.00</td>\n",
       "      <td>356.00</td>\n",
       "      <td>87.0</td>\n",
       "      <td>1.0</td>\n",
       "      <td>1152.00</td>\n",
       "      <td>1152.00</td>\n",
       "      <td>6.0</td>\n",
       "      <td>0.0</td>\n",
       "    </tr>\n",
       "    <tr>\n",
       "      <th>3</th>\n",
       "      <td>2010-08-11</td>\n",
       "      <td>Armenia</td>\n",
       "      <td>Iran</td>\n",
       "      <td>1</td>\n",
       "      <td>3</td>\n",
       "      <td>Friendly</td>\n",
       "      <td>Yerevan</td>\n",
       "      <td>Armenia</td>\n",
       "      <td>False</td>\n",
       "      <td>318.00</td>\n",
       "      <td>318.00</td>\n",
       "      <td>96.0</td>\n",
       "      <td>0.0</td>\n",
       "      <td>517.00</td>\n",
       "      <td>522.00</td>\n",
       "      <td>65.0</td>\n",
       "      <td>1.0</td>\n",
       "    </tr>\n",
       "    <tr>\n",
       "      <th>4</th>\n",
       "      <td>2010-08-11</td>\n",
       "      <td>Austria</td>\n",
       "      <td>Switzerland</td>\n",
       "      <td>0</td>\n",
       "      <td>1</td>\n",
       "      <td>Friendly</td>\n",
       "      <td>Klagenfurt</td>\n",
       "      <td>Austria</td>\n",
       "      <td>False</td>\n",
       "      <td>536.00</td>\n",
       "      <td>536.00</td>\n",
       "      <td>60.0</td>\n",
       "      <td>0.0</td>\n",
       "      <td>940.00</td>\n",
       "      <td>940.00</td>\n",
       "      <td>17.0</td>\n",
       "      <td>-1.0</td>\n",
       "    </tr>\n",
       "    <tr>\n",
       "      <th>...</th>\n",
       "      <td>...</td>\n",
       "      <td>...</td>\n",
       "      <td>...</td>\n",
       "      <td>...</td>\n",
       "      <td>...</td>\n",
       "      <td>...</td>\n",
       "      <td>...</td>\n",
       "      <td>...</td>\n",
       "      <td>...</td>\n",
       "      <td>...</td>\n",
       "      <td>...</td>\n",
       "      <td>...</td>\n",
       "      <td>...</td>\n",
       "      <td>...</td>\n",
       "      <td>...</td>\n",
       "      <td>...</td>\n",
       "      <td>...</td>\n",
       "    </tr>\n",
       "    <tr>\n",
       "      <th>9971</th>\n",
       "      <td>2022-12-14</td>\n",
       "      <td>Malaysia</td>\n",
       "      <td>Maldives</td>\n",
       "      <td>3</td>\n",
       "      <td>0</td>\n",
       "      <td>Friendly</td>\n",
       "      <td>Kuala Lumpur</td>\n",
       "      <td>Malaysia</td>\n",
       "      <td>False</td>\n",
       "      <td>1062.32</td>\n",
       "      <td>1057.59</td>\n",
       "      <td>146.0</td>\n",
       "      <td>-2.0</td>\n",
       "      <td>1026.09</td>\n",
       "      <td>1018.25</td>\n",
       "      <td>154.0</td>\n",
       "      <td>-2.0</td>\n",
       "    </tr>\n",
       "    <tr>\n",
       "      <th>9972</th>\n",
       "      <td>2022-12-14</td>\n",
       "      <td>Vietnam</td>\n",
       "      <td>Philippines</td>\n",
       "      <td>1</td>\n",
       "      <td>0</td>\n",
       "      <td>Friendly</td>\n",
       "      <td>Hanoi</td>\n",
       "      <td>Vietnam</td>\n",
       "      <td>False</td>\n",
       "      <td>1226.65</td>\n",
       "      <td>1218.84</td>\n",
       "      <td>96.0</td>\n",
       "      <td>-1.0</td>\n",
       "      <td>1115.13</td>\n",
       "      <td>1115.13</td>\n",
       "      <td>133.0</td>\n",
       "      <td>-1.0</td>\n",
       "    </tr>\n",
       "    <tr>\n",
       "      <th>9973</th>\n",
       "      <td>2022-12-17</td>\n",
       "      <td>Croatia</td>\n",
       "      <td>Morocco</td>\n",
       "      <td>2</td>\n",
       "      <td>1</td>\n",
       "      <td>FIFA World Cup</td>\n",
       "      <td>Al Rayyan</td>\n",
       "      <td>Qatar</td>\n",
       "      <td>True</td>\n",
       "      <td>1645.64</td>\n",
       "      <td>1632.15</td>\n",
       "      <td>12.0</td>\n",
       "      <td>-3.0</td>\n",
       "      <td>1563.50</td>\n",
       "      <td>1558.35</td>\n",
       "      <td>22.0</td>\n",
       "      <td>-1.0</td>\n",
       "    </tr>\n",
       "    <tr>\n",
       "      <th>9974</th>\n",
       "      <td>2022-12-17</td>\n",
       "      <td>Singapore</td>\n",
       "      <td>Maldives</td>\n",
       "      <td>3</td>\n",
       "      <td>1</td>\n",
       "      <td>Friendly</td>\n",
       "      <td>Singapore</td>\n",
       "      <td>Singapore</td>\n",
       "      <td>False</td>\n",
       "      <td>1003.50</td>\n",
       "      <td>1004.75</td>\n",
       "      <td>160.0</td>\n",
       "      <td>1.0</td>\n",
       "      <td>1026.09</td>\n",
       "      <td>1018.25</td>\n",
       "      <td>154.0</td>\n",
       "      <td>-2.0</td>\n",
       "    </tr>\n",
       "    <tr>\n",
       "      <th>9975</th>\n",
       "      <td>2022-12-18</td>\n",
       "      <td>Argentina</td>\n",
       "      <td>France</td>\n",
       "      <td>3</td>\n",
       "      <td>3</td>\n",
       "      <td>FIFA World Cup</td>\n",
       "      <td>Lusail</td>\n",
       "      <td>Qatar</td>\n",
       "      <td>True</td>\n",
       "      <td>1773.88</td>\n",
       "      <td>1770.65</td>\n",
       "      <td>3.0</td>\n",
       "      <td>0.0</td>\n",
       "      <td>1759.78</td>\n",
       "      <td>1764.85</td>\n",
       "      <td>4.0</td>\n",
       "      <td>0.0</td>\n",
       "    </tr>\n",
       "  </tbody>\n",
       "</table>\n",
       "<p>9976 rows × 17 columns</p>\n",
       "</div>"
      ],
      "text/plain": [
       "           date  home_team    away_team  home_score  away_score  \\\n",
       "0    2010-08-11    Albania   Uzbekistan           1           0   \n",
       "1    2010-08-11    Algeria        Gabon           1           2   \n",
       "2    2010-08-11     Angola      Uruguay           0           2   \n",
       "3    2010-08-11    Armenia         Iran           1           3   \n",
       "4    2010-08-11    Austria  Switzerland           0           1   \n",
       "...         ...        ...          ...         ...         ...   \n",
       "9971 2022-12-14   Malaysia     Maldives           3           0   \n",
       "9972 2022-12-14    Vietnam  Philippines           1           0   \n",
       "9973 2022-12-17    Croatia      Morocco           2           1   \n",
       "9974 2022-12-17  Singapore     Maldives           3           1   \n",
       "9975 2022-12-18  Argentina       France           3           3   \n",
       "\n",
       "          tournament          city    country  neutral  total_points_home  \\\n",
       "0           Friendly        Durrës    Albania    False             455.00   \n",
       "1           Friendly       Algiers    Algeria    False             759.00   \n",
       "2           Friendly        Lisbon   Portugal     True             357.00   \n",
       "3           Friendly       Yerevan    Armenia    False             318.00   \n",
       "4           Friendly    Klagenfurt    Austria    False             536.00   \n",
       "...              ...           ...        ...      ...                ...   \n",
       "9971        Friendly  Kuala Lumpur   Malaysia    False            1062.32   \n",
       "9972        Friendly         Hanoi    Vietnam    False            1226.65   \n",
       "9973  FIFA World Cup     Al Rayyan      Qatar     True            1645.64   \n",
       "9974        Friendly     Singapore  Singapore    False            1003.50   \n",
       "9975  FIFA World Cup        Lusail      Qatar     True            1773.88   \n",
       "\n",
       "      previous_points_home  rank_home  rank_change_home  total_points_away  \\\n",
       "0                   455.00       70.0              -1.0             351.00   \n",
       "1                   759.00       33.0               0.0             755.00   \n",
       "2                   356.00       87.0               1.0            1152.00   \n",
       "3                   318.00       96.0               0.0             517.00   \n",
       "4                   536.00       60.0               0.0             940.00   \n",
       "...                    ...        ...               ...                ...   \n",
       "9971               1057.59      146.0              -2.0            1026.09   \n",
       "9972               1218.84       96.0              -1.0            1115.13   \n",
       "9973               1632.15       12.0              -3.0            1563.50   \n",
       "9974               1004.75      160.0               1.0            1026.09   \n",
       "9975               1770.65        3.0               0.0            1759.78   \n",
       "\n",
       "      previous_points_away  rank_away  rank_change_away  \n",
       "0                   352.00       88.0               1.0  \n",
       "1                   755.00       34.0               0.0  \n",
       "2                  1152.00        6.0               0.0  \n",
       "3                   522.00       65.0               1.0  \n",
       "4                   940.00       17.0              -1.0  \n",
       "...                    ...        ...               ...  \n",
       "9971               1018.25      154.0              -2.0  \n",
       "9972               1115.13      133.0              -1.0  \n",
       "9973               1558.35       22.0              -1.0  \n",
       "9974               1018.25      154.0              -2.0  \n",
       "9975               1764.85        4.0               0.0  \n",
       "\n",
       "[9976 rows x 17 columns]"
      ]
     },
     "execution_count": 27,
     "metadata": {},
     "output_type": "execute_result"
    }
   ],
   "source": [
    "df_wc_ranked"
   ]
  },
  {
   "cell_type": "markdown",
   "metadata": {
    "papermill": {
     "duration": 0.047888,
     "end_time": "2023-01-10T12:10:29.537134",
     "exception": false,
     "start_time": "2023-01-10T12:10:29.489246",
     "status": "completed"
    },
    "tags": []
   },
   "source": [
    "Теперь есть готовые данные для создания функций на основе результатов игр и рейтинга FIFA."
   ]
  },
  {
   "cell_type": "markdown",
   "metadata": {
    "papermill": {
     "duration": 0.048038,
     "end_time": "2023-01-10T12:10:29.634137",
     "exception": false,
     "start_time": "2023-01-10T12:10:29.586099",
     "status": "completed"
    },
    "tags": []
   },
   "source": [
    "## Особенности Инжиниринг\n",
    "Идея здесь состоит в том, чтобы создать возможные функции, которые повлияют на прогнозирование футбольных матчей. Воздействующие функции могут быть следующими:\n",
    "\n",
    "- Прошлые игровые очки набраны\n",
    "- Прошлые забитые и пропущенные голы\n",
    "- Важность игры (товарищеской или нет)\n",
    "- Рейтинг команд\n",
    "- Повышение рейтинга команд\n",
    "- Полученные и потерянные очки в рейтинге\n"
   ]
  },
  {
   "cell_type": "markdown",
   "metadata": {},
   "source": [
    "Итак, первое, что нужно сделать, это создать функцию, которая говорит, какая команда выиграла и сколько очков они набрали в игре."
   ]
  },
  {
   "cell_type": "code",
   "execution_count": 28,
   "metadata": {
    "execution": {
     "iopub.execute_input": "2023-01-10T12:10:29.734024Z",
     "iopub.status.busy": "2023-01-10T12:10:29.733599Z",
     "iopub.status.idle": "2023-01-10T12:10:29.738921Z",
     "shell.execute_reply": "2023-01-10T12:10:29.737359Z"
    },
    "papermill": {
     "duration": 0.0597,
     "end_time": "2023-01-10T12:10:29.741859",
     "exception": false,
     "start_time": "2023-01-10T12:10:29.682159",
     "status": "completed"
    },
    "tags": []
   },
   "outputs": [],
   "source": [
    "df = df_wc_ranked"
   ]
  },
  {
   "cell_type": "code",
   "execution_count": 29,
   "metadata": {
    "execution": {
     "iopub.execute_input": "2023-01-10T12:10:29.843299Z",
     "iopub.status.busy": "2023-01-10T12:10:29.842798Z",
     "iopub.status.idle": "2023-01-10T12:10:30.622690Z",
     "shell.execute_reply": "2023-01-10T12:10:30.621410Z"
    },
    "papermill": {
     "duration": 0.833043,
     "end_time": "2023-01-10T12:10:30.625595",
     "exception": false,
     "start_time": "2023-01-10T12:10:29.792552",
     "status": "completed"
    },
    "tags": []
   },
   "outputs": [],
   "source": [
    "def result_finder(home, away):\n",
    "    if home > away:\n",
    "        return pd.Series([0, 3, 0])\n",
    "    if home < away:\n",
    "        return pd.Series([1, 0, 3])\n",
    "    else:\n",
    "        return pd.Series([2, 1, 1])\n",
    "\n",
    "results = df.apply(lambda x: result_finder(x[\"home_score\"], x[\"away_score\"]), axis=1)\n",
    "df[[\"result\", \"home_team_points\", \"away_team_points\"]] = results"
   ]
  },
  {
   "cell_type": "markdown",
   "metadata": {
    "papermill": {
     "duration": 0.047436,
     "end_time": "2023-01-10T12:10:30.721790",
     "exception": false,
     "start_time": "2023-01-10T12:10:30.674354",
     "status": "completed"
    },
    "tags": []
   },
   "source": [
    "Игровые очки составляют 3 за победу, 1 за ничью и 0 за проигрыш и отличаются от ранговых очков FIFA, которые уже есть в базе данных. "
   ]
  },
  {
   "cell_type": "markdown",
   "metadata": {
    "papermill": {
     "duration": 0.049678,
     "end_time": "2023-01-10T12:10:30.820406",
     "exception": false,
     "start_time": "2023-01-10T12:10:30.770728",
     "status": "completed"
    },
    "tags": []
   },
   "source": [
    "### Визуализация данных\n"
   ]
  },
  {
   "cell_type": "code",
   "execution_count": 30,
   "metadata": {
    "execution": {
     "iopub.execute_input": "2023-01-10T12:10:31.019384Z",
     "iopub.status.busy": "2023-01-10T12:10:31.018588Z",
     "iopub.status.idle": "2023-01-10T12:10:31.611504Z",
     "shell.execute_reply": "2023-01-10T12:10:31.610198Z"
    },
    "papermill": {
     "duration": 0.647088,
     "end_time": "2023-01-10T12:10:31.614938",
     "exception": false,
     "start_time": "2023-01-10T12:10:30.967850",
     "status": "completed"
    },
    "tags": []
   },
   "outputs": [
    {
     "data": {
      "image/png": "[encoded data removed]",
      "text/plain": [
       "<Figure size 1080x720 with 2 Axes>"
      ]
     },
     "metadata": {
      "needs_background": "light"
     },
     "output_type": "display_data"
    }
   ],
   "source": [
    "plt.figure(figsize=(15, 10))\n",
    "sns.heatmap(df[[\"total_points_home\", \"rank_home\", \"total_points_away\", \"rank_away\"]].corr(),annot=True,cmap=\"hot\")\n",
    "plt.show()"
   ]
  },
  {
   "cell_type": "markdown",
   "metadata": {
    "papermill": {
     "duration": 0.049321,
     "end_time": "2023-01-10T12:10:31.817050",
     "exception": false,
     "start_time": "2023-01-10T12:10:31.767729",
     "status": "completed"
    },
    "tags": []
   },
   "source": [
    "Теперь cоздам столбцы, которые помогут в создании функций: разница в рейтинге, очки, набранные в игре, по сравнению с рейтингом команды, а также разница голов в игре. Все функции, не являющиеся различиями, должны быть созданы для двух команд (в гостях и дома)."
   ]
  },
  {
   "cell_type": "code",
   "execution_count": 31,
   "metadata": {
    "execution": {
     "iopub.execute_input": "2023-01-10T12:10:31.918054Z",
     "iopub.status.busy": "2023-01-10T12:10:31.917597Z",
     "iopub.status.idle": "2023-01-10T12:10:31.929386Z",
     "shell.execute_reply": "2023-01-10T12:10:31.927973Z"
    },
    "papermill": {
     "duration": 0.065433,
     "end_time": "2023-01-10T12:10:31.932001",
     "exception": false,
     "start_time": "2023-01-10T12:10:31.866568",
     "status": "completed"
    },
    "tags": []
   },
   "outputs": [],
   "source": [
    "df[\"rank_dif\"] = df[\"rank_home\"] - df[\"rank_away\"]\n",
    "df[\"sg\"] = df[\"home_score\"] - df[\"away_score\"]\n",
    "df[\"points_home_by_rank\"] = df[\"home_team_points\"]/df[\"rank_away\"]\n",
    "df[\"points_away_by_rank\"] = df[\"away_team_points\"]/df[\"rank_home\"]"
   ]
  },
  {
   "cell_type": "code",
   "execution_count": 32,
   "metadata": {},
   "outputs": [
    {
     "data": {
      "text/html": [
       "<div>\n",
       "<style scoped>\n",
       "    .dataframe tbody tr th:only-of-type {\n",
       "        vertical-align: middle;\n",
       "    }\n",
       "\n",
       "    .dataframe tbody tr th {\n",
       "        vertical-align: top;\n",
       "    }\n",
       "\n",
       "    .dataframe thead th {\n",
       "        text-align: right;\n",
       "    }\n",
       "</style>\n",
       "<table border=\"1\" class=\"dataframe\">\n",
       "  <thead>\n",
       "    <tr style=\"text-align: right;\">\n",
       "      <th></th>\n",
       "      <th>date</th>\n",
       "      <th>home_team</th>\n",
       "      <th>away_team</th>\n",
       "      <th>home_score</th>\n",
       "      <th>away_score</th>\n",
       "      <th>tournament</th>\n",
       "      <th>city</th>\n",
       "      <th>country</th>\n",
       "      <th>neutral</th>\n",
       "      <th>total_points_home</th>\n",
       "      <th>...</th>\n",
       "      <th>previous_points_away</th>\n",
       "      <th>rank_away</th>\n",
       "      <th>rank_change_away</th>\n",
       "      <th>result</th>\n",
       "      <th>home_team_points</th>\n",
       "      <th>away_team_points</th>\n",
       "      <th>rank_dif</th>\n",
       "      <th>sg</th>\n",
       "      <th>points_home_by_rank</th>\n",
       "      <th>points_away_by_rank</th>\n",
       "    </tr>\n",
       "  </thead>\n",
       "  <tbody>\n",
       "    <tr>\n",
       "      <th>0</th>\n",
       "      <td>2010-08-11</td>\n",
       "      <td>Albania</td>\n",
       "      <td>Uzbekistan</td>\n",
       "      <td>1</td>\n",
       "      <td>0</td>\n",
       "      <td>Friendly</td>\n",
       "      <td>Durrës</td>\n",
       "      <td>Albania</td>\n",
       "      <td>False</td>\n",
       "      <td>455.00</td>\n",
       "      <td>...</td>\n",
       "      <td>352.00</td>\n",
       "      <td>88.0</td>\n",
       "      <td>1.0</td>\n",
       "      <td>0</td>\n",
       "      <td>3</td>\n",
       "      <td>0</td>\n",
       "      <td>-18.0</td>\n",
       "      <td>1</td>\n",
       "      <td>0.034091</td>\n",
       "      <td>0.000000</td>\n",
       "    </tr>\n",
       "    <tr>\n",
       "      <th>1</th>\n",
       "      <td>2010-08-11</td>\n",
       "      <td>Algeria</td>\n",
       "      <td>Gabon</td>\n",
       "      <td>1</td>\n",
       "      <td>2</td>\n",
       "      <td>Friendly</td>\n",
       "      <td>Algiers</td>\n",
       "      <td>Algeria</td>\n",
       "      <td>False</td>\n",
       "      <td>759.00</td>\n",
       "      <td>...</td>\n",
       "      <td>755.00</td>\n",
       "      <td>34.0</td>\n",
       "      <td>0.0</td>\n",
       "      <td>1</td>\n",
       "      <td>0</td>\n",
       "      <td>3</td>\n",
       "      <td>-1.0</td>\n",
       "      <td>-1</td>\n",
       "      <td>0.000000</td>\n",
       "      <td>0.090909</td>\n",
       "    </tr>\n",
       "    <tr>\n",
       "      <th>2</th>\n",
       "      <td>2010-08-11</td>\n",
       "      <td>Angola</td>\n",
       "      <td>Uruguay</td>\n",
       "      <td>0</td>\n",
       "      <td>2</td>\n",
       "      <td>Friendly</td>\n",
       "      <td>Lisbon</td>\n",
       "      <td>Portugal</td>\n",
       "      <td>True</td>\n",
       "      <td>357.00</td>\n",
       "      <td>...</td>\n",
       "      <td>1152.00</td>\n",
       "      <td>6.0</td>\n",
       "      <td>0.0</td>\n",
       "      <td>1</td>\n",
       "      <td>0</td>\n",
       "      <td>3</td>\n",
       "      <td>81.0</td>\n",
       "      <td>-2</td>\n",
       "      <td>0.000000</td>\n",
       "      <td>0.034483</td>\n",
       "    </tr>\n",
       "    <tr>\n",
       "      <th>3</th>\n",
       "      <td>2010-08-11</td>\n",
       "      <td>Armenia</td>\n",
       "      <td>Iran</td>\n",
       "      <td>1</td>\n",
       "      <td>3</td>\n",
       "      <td>Friendly</td>\n",
       "      <td>Yerevan</td>\n",
       "      <td>Armenia</td>\n",
       "      <td>False</td>\n",
       "      <td>318.00</td>\n",
       "      <td>...</td>\n",
       "      <td>522.00</td>\n",
       "      <td>65.0</td>\n",
       "      <td>1.0</td>\n",
       "      <td>1</td>\n",
       "      <td>0</td>\n",
       "      <td>3</td>\n",
       "      <td>31.0</td>\n",
       "      <td>-2</td>\n",
       "      <td>0.000000</td>\n",
       "      <td>0.031250</td>\n",
       "    </tr>\n",
       "    <tr>\n",
       "      <th>4</th>\n",
       "      <td>2010-08-11</td>\n",
       "      <td>Austria</td>\n",
       "      <td>Switzerland</td>\n",
       "      <td>0</td>\n",
       "      <td>1</td>\n",
       "      <td>Friendly</td>\n",
       "      <td>Klagenfurt</td>\n",
       "      <td>Austria</td>\n",
       "      <td>False</td>\n",
       "      <td>536.00</td>\n",
       "      <td>...</td>\n",
       "      <td>940.00</td>\n",
       "      <td>17.0</td>\n",
       "      <td>-1.0</td>\n",
       "      <td>1</td>\n",
       "      <td>0</td>\n",
       "      <td>3</td>\n",
       "      <td>43.0</td>\n",
       "      <td>-1</td>\n",
       "      <td>0.000000</td>\n",
       "      <td>0.050000</td>\n",
       "    </tr>\n",
       "    <tr>\n",
       "      <th>...</th>\n",
       "      <td>...</td>\n",
       "      <td>...</td>\n",
       "      <td>...</td>\n",
       "      <td>...</td>\n",
       "      <td>...</td>\n",
       "      <td>...</td>\n",
       "      <td>...</td>\n",
       "      <td>...</td>\n",
       "      <td>...</td>\n",
       "      <td>...</td>\n",
       "      <td>...</td>\n",
       "      <td>...</td>\n",
       "      <td>...</td>\n",
       "      <td>...</td>\n",
       "      <td>...</td>\n",
       "      <td>...</td>\n",
       "      <td>...</td>\n",
       "      <td>...</td>\n",
       "      <td>...</td>\n",
       "      <td>...</td>\n",
       "      <td>...</td>\n",
       "    </tr>\n",
       "    <tr>\n",
       "      <th>9971</th>\n",
       "      <td>2022-12-14</td>\n",
       "      <td>Malaysia</td>\n",
       "      <td>Maldives</td>\n",
       "      <td>3</td>\n",
       "      <td>0</td>\n",
       "      <td>Friendly</td>\n",
       "      <td>Kuala Lumpur</td>\n",
       "      <td>Malaysia</td>\n",
       "      <td>False</td>\n",
       "      <td>1062.32</td>\n",
       "      <td>...</td>\n",
       "      <td>1018.25</td>\n",
       "      <td>154.0</td>\n",
       "      <td>-2.0</td>\n",
       "      <td>0</td>\n",
       "      <td>3</td>\n",
       "      <td>0</td>\n",
       "      <td>-8.0</td>\n",
       "      <td>3</td>\n",
       "      <td>0.019481</td>\n",
       "      <td>0.000000</td>\n",
       "    </tr>\n",
       "    <tr>\n",
       "      <th>9972</th>\n",
       "      <td>2022-12-14</td>\n",
       "      <td>Vietnam</td>\n",
       "      <td>Philippines</td>\n",
       "      <td>1</td>\n",
       "      <td>0</td>\n",
       "      <td>Friendly</td>\n",
       "      <td>Hanoi</td>\n",
       "      <td>Vietnam</td>\n",
       "      <td>False</td>\n",
       "      <td>1226.65</td>\n",
       "      <td>...</td>\n",
       "      <td>1115.13</td>\n",
       "      <td>133.0</td>\n",
       "      <td>-1.0</td>\n",
       "      <td>0</td>\n",
       "      <td>3</td>\n",
       "      <td>0</td>\n",
       "      <td>-37.0</td>\n",
       "      <td>1</td>\n",
       "      <td>0.022556</td>\n",
       "      <td>0.000000</td>\n",
       "    </tr>\n",
       "    <tr>\n",
       "      <th>9973</th>\n",
       "      <td>2022-12-17</td>\n",
       "      <td>Croatia</td>\n",
       "      <td>Morocco</td>\n",
       "      <td>2</td>\n",
       "      <td>1</td>\n",
       "      <td>FIFA World Cup</td>\n",
       "      <td>Al Rayyan</td>\n",
       "      <td>Qatar</td>\n",
       "      <td>True</td>\n",
       "      <td>1645.64</td>\n",
       "      <td>...</td>\n",
       "      <td>1558.35</td>\n",
       "      <td>22.0</td>\n",
       "      <td>-1.0</td>\n",
       "      <td>0</td>\n",
       "      <td>3</td>\n",
       "      <td>0</td>\n",
       "      <td>-10.0</td>\n",
       "      <td>1</td>\n",
       "      <td>0.136364</td>\n",
       "      <td>0.000000</td>\n",
       "    </tr>\n",
       "    <tr>\n",
       "      <th>9974</th>\n",
       "      <td>2022-12-17</td>\n",
       "      <td>Singapore</td>\n",
       "      <td>Maldives</td>\n",
       "      <td>3</td>\n",
       "      <td>1</td>\n",
       "      <td>Friendly</td>\n",
       "      <td>Singapore</td>\n",
       "      <td>Singapore</td>\n",
       "      <td>False</td>\n",
       "      <td>1003.50</td>\n",
       "      <td>...</td>\n",
       "      <td>1018.25</td>\n",
       "      <td>154.0</td>\n",
       "      <td>-2.0</td>\n",
       "      <td>0</td>\n",
       "      <td>3</td>\n",
       "      <td>0</td>\n",
       "      <td>6.0</td>\n",
       "      <td>2</td>\n",
       "      <td>0.019481</td>\n",
       "      <td>0.000000</td>\n",
       "    </tr>\n",
       "    <tr>\n",
       "      <th>9975</th>\n",
       "      <td>2022-12-18</td>\n",
       "      <td>Argentina</td>\n",
       "      <td>France</td>\n",
       "      <td>3</td>\n",
       "      <td>3</td>\n",
       "      <td>FIFA World Cup</td>\n",
       "      <td>Lusail</td>\n",
       "      <td>Qatar</td>\n",
       "      <td>True</td>\n",
       "      <td>1773.88</td>\n",
       "      <td>...</td>\n",
       "      <td>1764.85</td>\n",
       "      <td>4.0</td>\n",
       "      <td>0.0</td>\n",
       "      <td>2</td>\n",
       "      <td>1</td>\n",
       "      <td>1</td>\n",
       "      <td>-1.0</td>\n",
       "      <td>0</td>\n",
       "      <td>0.250000</td>\n",
       "      <td>0.333333</td>\n",
       "    </tr>\n",
       "  </tbody>\n",
       "</table>\n",
       "<p>9976 rows × 24 columns</p>\n",
       "</div>"
      ],
      "text/plain": [
       "           date  home_team    away_team  home_score  away_score  \\\n",
       "0    2010-08-11    Albania   Uzbekistan           1           0   \n",
       "1    2010-08-11    Algeria        Gabon           1           2   \n",
       "2    2010-08-11     Angola      Uruguay           0           2   \n",
       "3    2010-08-11    Armenia         Iran           1           3   \n",
       "4    2010-08-11    Austria  Switzerland           0           1   \n",
       "...         ...        ...          ...         ...         ...   \n",
       "9971 2022-12-14   Malaysia     Maldives           3           0   \n",
       "9972 2022-12-14    Vietnam  Philippines           1           0   \n",
       "9973 2022-12-17    Croatia      Morocco           2           1   \n",
       "9974 2022-12-17  Singapore     Maldives           3           1   \n",
       "9975 2022-12-18  Argentina       France           3           3   \n",
       "\n",
       "          tournament          city    country  neutral  total_points_home  \\\n",
       "0           Friendly        Durrës    Albania    False             455.00   \n",
       "1           Friendly       Algiers    Algeria    False             759.00   \n",
       "2           Friendly        Lisbon   Portugal     True             357.00   \n",
       "3           Friendly       Yerevan    Armenia    False             318.00   \n",
       "4           Friendly    Klagenfurt    Austria    False             536.00   \n",
       "...              ...           ...        ...      ...                ...   \n",
       "9971        Friendly  Kuala Lumpur   Malaysia    False            1062.32   \n",
       "9972        Friendly         Hanoi    Vietnam    False            1226.65   \n",
       "9973  FIFA World Cup     Al Rayyan      Qatar     True            1645.64   \n",
       "9974        Friendly     Singapore  Singapore    False            1003.50   \n",
       "9975  FIFA World Cup        Lusail      Qatar     True            1773.88   \n",
       "\n",
       "      ...  previous_points_away  rank_away  rank_change_away  result  \\\n",
       "0     ...                352.00       88.0               1.0       0   \n",
       "1     ...                755.00       34.0               0.0       1   \n",
       "2     ...               1152.00        6.0               0.0       1   \n",
       "3     ...                522.00       65.0               1.0       1   \n",
       "4     ...                940.00       17.0              -1.0       1   \n",
       "...   ...                   ...        ...               ...     ...   \n",
       "9971  ...               1018.25      154.0              -2.0       0   \n",
       "9972  ...               1115.13      133.0              -1.0       0   \n",
       "9973  ...               1558.35       22.0              -1.0       0   \n",
       "9974  ...               1018.25      154.0              -2.0       0   \n",
       "9975  ...               1764.85        4.0               0.0       2   \n",
       "\n",
       "      home_team_points  away_team_points  rank_dif  sg  points_home_by_rank  \\\n",
       "0                    3                 0     -18.0   1             0.034091   \n",
       "1                    0                 3      -1.0  -1             0.000000   \n",
       "2                    0                 3      81.0  -2             0.000000   \n",
       "3                    0                 3      31.0  -2             0.000000   \n",
       "4                    0                 3      43.0  -1             0.000000   \n",
       "...                ...               ...       ...  ..                  ...   \n",
       "9971                 3                 0      -8.0   3             0.019481   \n",
       "9972                 3                 0     -37.0   1             0.022556   \n",
       "9973                 3                 0     -10.0   1             0.136364   \n",
       "9974                 3                 0       6.0   2             0.019481   \n",
       "9975                 1                 1      -1.0   0             0.250000   \n",
       "\n",
       "      points_away_by_rank  \n",
       "0                0.000000  \n",
       "1                0.090909  \n",
       "2                0.034483  \n",
       "3                0.031250  \n",
       "4                0.050000  \n",
       "...                   ...  \n",
       "9971             0.000000  \n",
       "9972             0.000000  \n",
       "9973             0.000000  \n",
       "9974             0.000000  \n",
       "9975             0.333333  \n",
       "\n",
       "[9976 rows x 24 columns]"
      ]
     },
     "execution_count": 32,
     "metadata": {},
     "output_type": "execute_result"
    }
   ],
   "source": [
    "df"
   ]
  },
  {
   "cell_type": "markdown",
   "metadata": {
    "papermill": {
     "duration": 0.048131,
     "end_time": "2023-01-10T12:10:32.028639",
     "exception": false,
     "start_time": "2023-01-10T12:10:31.980508",
     "status": "completed"
    },
    "tags": []
   },
   "source": [
    "Чтобы создать функции, я разделю набор данных в наборе данных домашней и гостевой команд, объединю их и рассчитаю значения прошлых игр. После этого я снова разделю и объединим их, получив исходный набор данных. Этот процесс оптимизирует создание функций."
   ]
  },
  {
   "cell_type": "code",
   "execution_count": 33,
   "metadata": {
    "execution": {
     "iopub.execute_input": "2023-01-10T12:10:32.133762Z",
     "iopub.status.busy": "2023-01-10T12:10:32.132836Z",
     "iopub.status.idle": "2023-01-10T12:10:32.142341Z",
     "shell.execute_reply": "2023-01-10T12:10:32.141374Z"
    },
    "papermill": {
     "duration": 0.067069,
     "end_time": "2023-01-10T12:10:32.144880",
     "exception": false,
     "start_time": "2023-01-10T12:10:32.077811",
     "status": "completed"
    },
    "tags": []
   },
   "outputs": [],
   "source": [
    "home_team = df[[\"date\", \"home_team\", \"home_score\", \"away_score\", \"rank_home\", \"rank_away\", \"rank_change_home\", \"total_points_home\", \"result\", \"rank_dif\", \"points_home_by_rank\", \"home_team_points\"]]\n",
    "\n",
    "away_team = df[[\"date\", \"away_team\", \"away_score\", \"home_score\", \"rank_away\", \"rank_home\", \"rank_change_away\", \"total_points_away\", \"result\", \"rank_dif\", \"points_away_by_rank\", \"away_team_points\"]]"
   ]
  },
  {
   "cell_type": "code",
   "execution_count": 34,
   "metadata": {
    "execution": {
     "iopub.execute_input": "2023-01-10T12:10:32.243688Z",
     "iopub.status.busy": "2023-01-10T12:10:32.243020Z",
     "iopub.status.idle": "2023-01-10T12:10:32.249848Z",
     "shell.execute_reply": "2023-01-10T12:10:32.249044Z"
    },
    "papermill": {
     "duration": 0.058987,
     "end_time": "2023-01-10T12:10:32.252218",
     "exception": false,
     "start_time": "2023-01-10T12:10:32.193231",
     "status": "completed"
    },
    "tags": []
   },
   "outputs": [],
   "source": [
    "home_team.columns = [h.replace(\"home_\", \"\").replace(\"_home\", \"\").replace(\"away_\", \"suf_\").replace(\"_away\", \"_suf\") for h in home_team.columns]\n",
    "\n",
    "away_team.columns = [a.replace(\"away_\", \"\").replace(\"_away\", \"\").replace(\"home_\", \"suf_\").replace(\"_home\", \"_suf\") for a in away_team.columns]"
   ]
  },
  {
   "cell_type": "code",
   "execution_count": 35,
   "metadata": {
    "execution": {
     "iopub.execute_input": "2023-01-10T12:10:32.352614Z",
     "iopub.status.busy": "2023-01-10T12:10:32.351881Z",
     "iopub.status.idle": "2023-01-10T12:10:32.360913Z",
     "shell.execute_reply": "2023-01-10T12:10:32.359947Z"
    },
    "papermill": {
     "duration": 0.063087,
     "end_time": "2023-01-10T12:10:32.363525",
     "exception": false,
     "start_time": "2023-01-10T12:10:32.300438",
     "status": "completed"
    },
    "tags": []
   },
   "outputs": [],
   "source": [
    "team_stats = home_team.append(away_team)"
   ]
  },
  {
   "cell_type": "markdown",
   "metadata": {},
   "source": [
    "Этот столбец будет использоваться для расчета признаков для моделирования"
   ]
  },
  {
   "cell_type": "code",
   "execution_count": 101,
   "metadata": {
    "execution": {
     "iopub.execute_input": "2023-01-10T12:10:32.463554Z",
     "iopub.status.busy": "2023-01-10T12:10:32.462571Z",
     "iopub.status.idle": "2023-01-10T12:10:32.469482Z",
     "shell.execute_reply": "2023-01-10T12:10:32.468236Z"
    },
    "papermill": {
     "duration": 0.060201,
     "end_time": "2023-01-10T12:10:32.472256",
     "exception": false,
     "start_time": "2023-01-10T12:10:32.412055",
     "status": "completed"
    },
    "tags": []
   },
   "outputs": [],
   "source": [
    "team_stats_raw = team_stats.copy()"
   ]
  },
  {
   "cell_type": "markdown",
   "metadata": {
    "papermill": {
     "duration": 0.048177,
     "end_time": "2023-01-10T12:10:32.965373",
     "exception": false,
     "start_time": "2023-01-10T12:10:32.917196",
     "status": "completed"
    },
    "tags": []
   },
   "source": [
    "Теперь у нас есть данные, готовые для создания прогностических функций. Это будут:\n",
    "\n",
    "- Средние голы команды в цикле Кубка мира.\n",
    "- Средние голы команды в последних 5 играх.\n",
    "- Среднее количество голов, забитых командой в цикле Кубка мира.\n",
    "- Среднее количество голов, забитых командой в последних 5 играх.\n",
    "- Средний рейтинг ФИФА, с которым команда столкнулась в цикле чемпионата мира.\n",
    "- Средний рейтинг FIFA, с которым команда сталкивалась в последних 5 играх.\n",
    "- Очки FIFA, выигранные в цикле.\n",
    "- Очки FIFA, полученные в последних 5 играх.\n",
    "- Средние игровые очки в цикле.\n",
    "- Среднее количество игровых очков за последние 5 игр.\n",
    "- Средние игровые очки по рангам, с которыми столкнулись в цикле.\n",
    "- Средние игровые очки по рангам, с которыми они сталкивались в последних 5 играх."
   ]
  },
  {
   "cell_type": "code",
   "execution_count": 37,
   "metadata": {
    "execution": {
     "iopub.execute_input": "2023-01-10T12:10:33.167053Z",
     "iopub.status.busy": "2023-01-10T12:10:33.166571Z",
     "iopub.status.idle": "2023-01-10T12:10:57.765599Z",
     "shell.execute_reply": "2023-01-10T12:10:57.764320Z"
    },
    "papermill": {
     "duration": 24.652745,
     "end_time": "2023-01-10T12:10:57.768813",
     "exception": false,
     "start_time": "2023-01-10T12:10:33.116068",
     "status": "completed"
    },
    "tags": []
   },
   "outputs": [],
   "source": [
    "stats_val = [] #Мы добавим сюда важную статистику\n",
    "\n",
    "for index, row in team_stats.iterrows(): # Перебор строк team_stats\n",
    "    team = row[\"team\"]\n",
    "    date = row[\"date\"]\n",
    "    # получить past_games данной команды\n",
    "    past_games = team_stats.loc[(team_stats[\"team\"] == team) & (team_stats[\"date\"] < date)].sort_values(by=['date'], ascending=False)\n",
    "    # получить последние 5 игр\n",
    "    last5 = past_games.head(5)\n",
    "    \n",
    "    if len(last5) > 0:\n",
    "        # Если есть последние 5 игр команды\n",
    "        points = past_games[\"total_points\"].values[0] - past_games[\"total_points\"].values[-1]\n",
    "        points_l5 = last5[\"total_points\"].values[0] - last5[\"total_points\"].values[-1] \n",
    "    else:\n",
    "        points = 0\n",
    "        points_l5 = 0\n",
    "        \n",
    "    # получение средних голов прошлых игр, сделанных данной командой\n",
    "    goals = past_games[\"score\"].mean()\n",
    "    # Последние 5 средних голов, забитых данной командой\n",
    "    goals_l5 = last5[\"score\"].mean()\n",
    "    \n",
    "    # Среднее количество голов с учетом проигранной команды\n",
    "    goals_suf = past_games[\"suf_score\"].mean()\n",
    "    # Среднее количество голов, забитых проигранной командой в последних 5 играх\n",
    "    goals_suf_l5 = last5[\"suf_score\"].mean()\n",
    "    \n",
    "    # Средний рейтинг команды гостей\n",
    "    rank = past_games[\"rank_suf\"].mean()\n",
    "    # Средний рейтинг команды гостей за последние 5 игр\n",
    "    rank_l5 = last5[\"rank_suf\"].mean()\n",
    "    \n",
    "    \n",
    "    \n",
    "    # Возьмите средние командные очки прошлых игр\n",
    "    gp = past_games[\"team_points\"].mean()\n",
    "    # Возьмите средние командные очки в 5 прошлых играх\n",
    "    gp_l5 = last5[\"team_points\"].mean()\n",
    "    \n",
    "    # Набранные очки по рангу прошлых игр\n",
    "    gp_rank = past_games[\"points_by_rank\"].mean()\n",
    "    # Набранные очки по рангу за последние 5 игр\n",
    "    gp_rank_l5 = last5[\"points_by_rank\"].mean()\n",
    "    \n",
    "    stats_val.append([goals, goals_l5, goals_suf, goals_suf_l5, rank, rank_l5, points, points_l5, gp, gp_l5, gp_rank, gp_rank_l5])"
   ]
  },
  {
   "cell_type": "code",
   "execution_count": 38,
   "metadata": {
    "execution": {
     "iopub.execute_input": "2023-01-10T12:10:57.872655Z",
     "iopub.status.busy": "2023-01-10T12:10:57.871400Z",
     "iopub.status.idle": "2023-01-10T12:10:57.894830Z",
     "shell.execute_reply": "2023-01-10T12:10:57.893335Z"
    },
    "papermill": {
     "duration": 0.079282,
     "end_time": "2023-01-10T12:10:57.897915",
     "exception": false,
     "start_time": "2023-01-10T12:10:57.818633",
     "status": "completed"
    },
    "tags": []
   },
   "outputs": [],
   "source": [
    "stats_cols = [\"goals_mean\", \"goals_mean_l5\", \"goals_suf_mean\", \"goals_suf_mean_l5\", \"rank_mean\", \"rank_mean_l5\", \"points_mean\", \"points_mean_l5\", \"game_points_mean\", \"game_points_mean_l5\", \"game_points_rank_mean\", \"game_points_rank_mean_l5\"]\n",
    "\n",
    "stats_df = pd.DataFrame(stats_val, columns=stats_cols) # Создание данных из stats_df\n",
    "\n",
    "full_df = pd.concat([team_stats.reset_index(drop=True), stats_df], axis=1, ignore_index=False) # Добавление этих столбцов в team_stats df"
   ]
  },
  {
   "cell_type": "code",
   "execution_count": 39,
   "metadata": {
    "execution": {
     "iopub.execute_input": "2023-01-10T12:10:57.999490Z",
     "iopub.status.busy": "2023-01-10T12:10:57.998694Z",
     "iopub.status.idle": "2023-01-10T12:10:58.004490Z",
     "shell.execute_reply": "2023-01-10T12:10:58.003554Z"
    },
    "papermill": {
     "duration": 0.059314,
     "end_time": "2023-01-10T12:10:58.007072",
     "exception": false,
     "start_time": "2023-01-10T12:10:57.947758",
     "status": "completed"
    },
    "tags": []
   },
   "outputs": [],
   "source": [
    "home_team_stats = full_df.iloc[:int(full_df.shape[0]/2),:] # Получение статистики домашней команды\n",
    "away_team_stats = full_df.iloc[int(full_df.shape[0]/2):,:] # Получение статистики гостевой команды"
   ]
  },
  {
   "cell_type": "markdown",
   "metadata": {
    "papermill": {
     "duration": 0.05,
     "end_time": "2023-01-10T12:10:58.106249",
     "exception": false,
     "start_time": "2023-01-10T12:10:58.056249",
     "status": "completed"
    },
    "tags": []
   },
   "source": [
    "Новые колонки :"
   ]
  },
  {
   "cell_type": "code",
   "execution_count": 40,
   "metadata": {},
   "outputs": [
    {
     "data": {
      "text/plain": [
       "Index(['date', 'team', 'score', 'suf_score', 'rank', 'rank_suf', 'rank_change',\n",
       "       'total_points', 'result', 'rank_dif', 'points_by_rank', 'team_points',\n",
       "       'goals_mean', 'goals_mean_l5', 'goals_suf_mean', 'goals_suf_mean_l5',\n",
       "       'rank_mean', 'rank_mean_l5', 'points_mean', 'points_mean_l5',\n",
       "       'game_points_mean', 'game_points_mean_l5', 'game_points_rank_mean',\n",
       "       'game_points_rank_mean_l5'],\n",
       "      dtype='object')"
      ]
     },
     "execution_count": 40,
     "metadata": {},
     "output_type": "execute_result"
    }
   ],
   "source": [
    "home_team_stats.columns"
   ]
  },
  {
   "cell_type": "markdown",
   "metadata": {
    "papermill": {
     "duration": 0.052835,
     "end_time": "2023-01-10T12:10:58.322195",
     "exception": false,
     "start_time": "2023-01-10T12:10:58.269360",
     "status": "completed"
    },
    "tags": []
   },
   "source": [
    "Получение только тех столбцов, с которыми мы хотим работать"
   ]
  },
  {
   "cell_type": "code",
   "execution_count": 41,
   "metadata": {
    "execution": {
     "iopub.execute_input": "2023-01-10T12:10:58.424271Z",
     "iopub.status.busy": "2023-01-10T12:10:58.423833Z",
     "iopub.status.idle": "2023-01-10T12:10:58.432329Z",
     "shell.execute_reply": "2023-01-10T12:10:58.431228Z"
    },
    "papermill": {
     "duration": 0.062515,
     "end_time": "2023-01-10T12:10:58.434776",
     "exception": false,
     "start_time": "2023-01-10T12:10:58.372261",
     "status": "completed"
    },
    "tags": []
   },
   "outputs": [],
   "source": [
    "home_team_stats = home_team_stats[home_team_stats.columns[-12:]]\n",
    "away_team_stats = away_team_stats[away_team_stats.columns[-12:]]"
   ]
  },
  {
   "cell_type": "code",
   "execution_count": 42,
   "metadata": {
    "execution": {
     "iopub.execute_input": "2023-01-10T12:10:58.534612Z",
     "iopub.status.busy": "2023-01-10T12:10:58.533836Z",
     "iopub.status.idle": "2023-01-10T12:10:58.539452Z",
     "shell.execute_reply": "2023-01-10T12:10:58.538566Z"
    },
    "papermill": {
     "duration": 0.058229,
     "end_time": "2023-01-10T12:10:58.541774",
     "exception": false,
     "start_time": "2023-01-10T12:10:58.483545",
     "status": "completed"
    },
    "tags": []
   },
   "outputs": [],
   "source": [
    "home_team_stats.columns = ['home_'+str(col) for col in home_team_stats.columns]\n",
    "away_team_stats.columns = ['away_'+str(col) for col in away_team_stats.columns]"
   ]
  },
  {
   "cell_type": "markdown",
   "metadata": {
    "papermill": {
     "duration": 0.049541,
     "end_time": "2023-01-10T12:10:58.641786",
     "exception": false,
     "start_time": "2023-01-10T12:10:58.592245",
     "status": "completed"
    },
    "tags": []
   },
   "source": [
    "Чтобы унифицировать базу данных, необходимо добавить суффикс «home» и «away» для каждого столбца. После этого данные готовы к объединению."
   ]
  },
  {
   "cell_type": "code",
   "execution_count": 43,
   "metadata": {
    "execution": {
     "iopub.execute_input": "2023-01-10T12:10:58.743354Z",
     "iopub.status.busy": "2023-01-10T12:10:58.742549Z",
     "iopub.status.idle": "2023-01-10T12:10:58.748696Z",
     "shell.execute_reply": "2023-01-10T12:10:58.747775Z"
    },
    "papermill": {
     "duration": 0.059411,
     "end_time": "2023-01-10T12:10:58.751354",
     "exception": false,
     "start_time": "2023-01-10T12:10:58.691943",
     "status": "completed"
    },
    "tags": []
   },
   "outputs": [],
   "source": [
    "match_stats = pd.concat([home_team_stats, away_team_stats.reset_index(drop=True)], axis=1, ignore_index=False)"
   ]
  },
  {
   "cell_type": "code",
   "execution_count": 44,
   "metadata": {
    "execution": {
     "iopub.execute_input": "2023-01-10T12:10:58.853867Z",
     "iopub.status.busy": "2023-01-10T12:10:58.853384Z",
     "iopub.status.idle": "2023-01-10T12:10:58.862660Z",
     "shell.execute_reply": "2023-01-10T12:10:58.861248Z"
    },
    "papermill": {
     "duration": 0.06377,
     "end_time": "2023-01-10T12:10:58.865549",
     "exception": false,
     "start_time": "2023-01-10T12:10:58.801779",
     "status": "completed"
    },
    "tags": []
   },
   "outputs": [],
   "source": [
    "full_df = pd.concat([df, match_stats.reset_index(drop=True)], axis=1, ignore_index=False)"
   ]
  },
  {
   "cell_type": "code",
   "execution_count": 45,
   "metadata": {
    "execution": {
     "iopub.execute_input": "2023-01-10T12:10:58.969922Z",
     "iopub.status.busy": "2023-01-10T12:10:58.969327Z",
     "iopub.status.idle": "2023-01-10T12:10:58.977824Z",
     "shell.execute_reply": "2023-01-10T12:10:58.976618Z"
    },
    "papermill": {
     "duration": 0.065253,
     "end_time": "2023-01-10T12:10:58.980585",
     "exception": false,
     "start_time": "2023-01-10T12:10:58.915332",
     "status": "completed"
    },
    "tags": []
   },
   "outputs": [
    {
     "data": {
      "text/plain": [
       "Index(['date', 'home_team', 'away_team', 'home_score', 'away_score',\n",
       "       'tournament', 'city', 'country', 'neutral', 'total_points_home',\n",
       "       'previous_points_home', 'rank_home', 'rank_change_home',\n",
       "       'total_points_away', 'previous_points_away', 'rank_away',\n",
       "       'rank_change_away', 'result', 'home_team_points', 'away_team_points',\n",
       "       'rank_dif', 'sg', 'points_home_by_rank', 'points_away_by_rank',\n",
       "       'home_goals_mean', 'home_goals_mean_l5', 'home_goals_suf_mean',\n",
       "       'home_goals_suf_mean_l5', 'home_rank_mean', 'home_rank_mean_l5',\n",
       "       'home_points_mean', 'home_points_mean_l5', 'home_game_points_mean',\n",
       "       'home_game_points_mean_l5', 'home_game_points_rank_mean',\n",
       "       'home_game_points_rank_mean_l5', 'away_goals_mean',\n",
       "       'away_goals_mean_l5', 'away_goals_suf_mean', 'away_goals_suf_mean_l5',\n",
       "       'away_rank_mean', 'away_rank_mean_l5', 'away_points_mean',\n",
       "       'away_points_mean_l5', 'away_game_points_mean',\n",
       "       'away_game_points_mean_l5', 'away_game_points_rank_mean',\n",
       "       'away_game_points_rank_mean_l5'],\n",
       "      dtype='object')"
      ]
     },
     "execution_count": 45,
     "metadata": {},
     "output_type": "execute_result"
    }
   ],
   "source": [
    "full_df.columns"
   ]
  },
  {
   "cell_type": "markdown",
   "metadata": {
    "papermill": {
     "duration": 0.050812,
     "end_time": "2023-01-10T12:10:59.090925",
     "exception": false,
     "start_time": "2023-01-10T12:10:59.040113",
     "status": "completed"
    },
    "tags": []
   },
   "source": [
    "Теперь, чтобы количественно оценить важность игры, создается столбец для поиска товарищеский ли матч"
   ]
  },
  {
   "cell_type": "code",
   "execution_count": 46,
   "metadata": {
    "execution": {
     "iopub.execute_input": "2023-01-10T12:10:59.219420Z",
     "iopub.status.busy": "2023-01-10T12:10:59.216753Z",
     "iopub.status.idle": "2023-01-10T12:10:59.231807Z",
     "shell.execute_reply": "2023-01-10T12:10:59.230365Z"
    },
    "papermill": {
     "duration": 0.087775,
     "end_time": "2023-01-10T12:10:59.234727",
     "exception": false,
     "start_time": "2023-01-10T12:10:59.146952",
     "status": "completed"
    },
    "tags": []
   },
   "outputs": [],
   "source": [
    "def find_friendly(x):\n",
    "    if x == \"Friendly\":\n",
    "        return 1\n",
    "    else: return 0\n",
    "\n",
    "full_df[\"is_friendly\"] = full_df[\"tournament\"].apply(lambda x: find_friendly(x)) "
   ]
  },
  {
   "cell_type": "code",
   "execution_count": 47,
   "metadata": {
    "execution": {
     "iopub.execute_input": "2023-01-10T12:10:59.438187Z",
     "iopub.status.busy": "2023-01-10T12:10:59.437403Z",
     "iopub.status.idle": "2023-01-10T12:10:59.449528Z",
     "shell.execute_reply": "2023-01-10T12:10:59.448502Z"
    },
    "papermill": {
     "duration": 0.06706,
     "end_time": "2023-01-10T12:10:59.452108",
     "exception": false,
     "start_time": "2023-01-10T12:10:59.385048",
     "status": "completed"
    },
    "tags": []
   },
   "outputs": [],
   "source": [
    "full_df = pd.get_dummies(full_df, columns=[\"is_friendly\"],drop_first=True)"
   ]
  },
  {
   "cell_type": "code",
   "execution_count": 48,
   "metadata": {
    "execution": {
     "iopub.execute_input": "2023-01-10T12:10:59.552656Z",
     "iopub.status.busy": "2023-01-10T12:10:59.551846Z",
     "iopub.status.idle": "2023-01-10T12:10:59.559355Z",
     "shell.execute_reply": "2023-01-10T12:10:59.558266Z"
    },
    "papermill": {
     "duration": 0.060209,
     "end_time": "2023-01-10T12:10:59.561756",
     "exception": false,
     "start_time": "2023-01-10T12:10:59.501547",
     "status": "completed"
    },
    "tags": []
   },
   "outputs": [
    {
     "data": {
      "text/plain": [
       "Index(['date', 'home_team', 'away_team', 'home_score', 'away_score',\n",
       "       'tournament', 'city', 'country', 'neutral', 'total_points_home',\n",
       "       'previous_points_home', 'rank_home', 'rank_change_home',\n",
       "       'total_points_away', 'previous_points_away', 'rank_away',\n",
       "       'rank_change_away', 'result', 'home_team_points', 'away_team_points',\n",
       "       'rank_dif', 'sg', 'points_home_by_rank', 'points_away_by_rank',\n",
       "       'home_goals_mean', 'home_goals_mean_l5', 'home_goals_suf_mean',\n",
       "       'home_goals_suf_mean_l5', 'home_rank_mean', 'home_rank_mean_l5',\n",
       "       'home_points_mean', 'home_points_mean_l5', 'home_game_points_mean',\n",
       "       'home_game_points_mean_l5', 'home_game_points_rank_mean',\n",
       "       'home_game_points_rank_mean_l5', 'away_goals_mean',\n",
       "       'away_goals_mean_l5', 'away_goals_suf_mean', 'away_goals_suf_mean_l5',\n",
       "       'away_rank_mean', 'away_rank_mean_l5', 'away_points_mean',\n",
       "       'away_points_mean_l5', 'away_game_points_mean',\n",
       "       'away_game_points_mean_l5', 'away_game_points_rank_mean',\n",
       "       'away_game_points_rank_mean_l5', 'is_friendly_1'],\n",
       "      dtype='object')"
      ]
     },
     "execution_count": 48,
     "metadata": {},
     "output_type": "execute_result"
    }
   ],
   "source": [
    "full_df.columns"
   ]
  },
  {
   "cell_type": "code",
   "execution_count": 49,
   "metadata": {},
   "outputs": [
    {
     "data": {
      "text/html": [
       "<div>\n",
       "<style scoped>\n",
       "    .dataframe tbody tr th:only-of-type {\n",
       "        vertical-align: middle;\n",
       "    }\n",
       "\n",
       "    .dataframe tbody tr th {\n",
       "        vertical-align: top;\n",
       "    }\n",
       "\n",
       "    .dataframe thead th {\n",
       "        text-align: right;\n",
       "    }\n",
       "</style>\n",
       "<table border=\"1\" class=\"dataframe\">\n",
       "  <thead>\n",
       "    <tr style=\"text-align: right;\">\n",
       "      <th></th>\n",
       "      <th>date</th>\n",
       "      <th>home_team</th>\n",
       "      <th>away_team</th>\n",
       "      <th>home_score</th>\n",
       "      <th>away_score</th>\n",
       "      <th>tournament</th>\n",
       "      <th>city</th>\n",
       "      <th>country</th>\n",
       "      <th>neutral</th>\n",
       "      <th>total_points_home</th>\n",
       "      <th>...</th>\n",
       "      <th>away_goals_suf_mean_l5</th>\n",
       "      <th>away_rank_mean</th>\n",
       "      <th>away_rank_mean_l5</th>\n",
       "      <th>away_points_mean</th>\n",
       "      <th>away_points_mean_l5</th>\n",
       "      <th>away_game_points_mean</th>\n",
       "      <th>away_game_points_mean_l5</th>\n",
       "      <th>away_game_points_rank_mean</th>\n",
       "      <th>away_game_points_rank_mean_l5</th>\n",
       "      <th>is_friendly_1</th>\n",
       "    </tr>\n",
       "  </thead>\n",
       "  <tbody>\n",
       "    <tr>\n",
       "      <th>9971</th>\n",
       "      <td>2022-12-14</td>\n",
       "      <td>Malaysia</td>\n",
       "      <td>Maldives</td>\n",
       "      <td>3</td>\n",
       "      <td>0</td>\n",
       "      <td>Friendly</td>\n",
       "      <td>Kuala Lumpur</td>\n",
       "      <td>Malaysia</td>\n",
       "      <td>False</td>\n",
       "      <td>1062.32</td>\n",
       "      <td>...</td>\n",
       "      <td>1.6</td>\n",
       "      <td>150.747126</td>\n",
       "      <td>154.4</td>\n",
       "      <td>901.25</td>\n",
       "      <td>-7.25</td>\n",
       "      <td>1.149425</td>\n",
       "      <td>1.8</td>\n",
       "      <td>0.006752</td>\n",
       "      <td>0.009363</td>\n",
       "      <td>1</td>\n",
       "    </tr>\n",
       "    <tr>\n",
       "      <th>9972</th>\n",
       "      <td>2022-12-14</td>\n",
       "      <td>Vietnam</td>\n",
       "      <td>Philippines</td>\n",
       "      <td>1</td>\n",
       "      <td>0</td>\n",
       "      <td>Friendly</td>\n",
       "      <td>Hanoi</td>\n",
       "      <td>Vietnam</td>\n",
       "      <td>False</td>\n",
       "      <td>1226.65</td>\n",
       "      <td>...</td>\n",
       "      <td>1.6</td>\n",
       "      <td>147.000000</td>\n",
       "      <td>150.4</td>\n",
       "      <td>1050.89</td>\n",
       "      <td>-12.02</td>\n",
       "      <td>1.427350</td>\n",
       "      <td>0.8</td>\n",
       "      <td>0.008954</td>\n",
       "      <td>0.004550</td>\n",
       "      <td>1</td>\n",
       "    </tr>\n",
       "    <tr>\n",
       "      <th>9973</th>\n",
       "      <td>2022-12-17</td>\n",
       "      <td>Croatia</td>\n",
       "      <td>Morocco</td>\n",
       "      <td>2</td>\n",
       "      <td>1</td>\n",
       "      <td>FIFA World Cup</td>\n",
       "      <td>Al Rayyan</td>\n",
       "      <td>Qatar</td>\n",
       "      <td>True</td>\n",
       "      <td>1645.64</td>\n",
       "      <td>...</td>\n",
       "      <td>0.6</td>\n",
       "      <td>73.301471</td>\n",
       "      <td>12.6</td>\n",
       "      <td>1192.50</td>\n",
       "      <td>0.00</td>\n",
       "      <td>1.845588</td>\n",
       "      <td>2.0</td>\n",
       "      <td>0.043631</td>\n",
       "      <td>0.409872</td>\n",
       "      <td>0</td>\n",
       "    </tr>\n",
       "    <tr>\n",
       "      <th>9974</th>\n",
       "      <td>2022-12-17</td>\n",
       "      <td>Singapore</td>\n",
       "      <td>Maldives</td>\n",
       "      <td>3</td>\n",
       "      <td>1</td>\n",
       "      <td>Friendly</td>\n",
       "      <td>Singapore</td>\n",
       "      <td>Singapore</td>\n",
       "      <td>False</td>\n",
       "      <td>1003.50</td>\n",
       "      <td>...</td>\n",
       "      <td>1.6</td>\n",
       "      <td>150.693182</td>\n",
       "      <td>161.4</td>\n",
       "      <td>909.09</td>\n",
       "      <td>0.59</td>\n",
       "      <td>1.136364</td>\n",
       "      <td>1.8</td>\n",
       "      <td>0.006675</td>\n",
       "      <td>0.009363</td>\n",
       "      <td>1</td>\n",
       "    </tr>\n",
       "    <tr>\n",
       "      <th>9975</th>\n",
       "      <td>2022-12-18</td>\n",
       "      <td>Argentina</td>\n",
       "      <td>France</td>\n",
       "      <td>3</td>\n",
       "      <td>3</td>\n",
       "      <td>FIFA World Cup</td>\n",
       "      <td>Lusail</td>\n",
       "      <td>Qatar</td>\n",
       "      <td>True</td>\n",
       "      <td>1773.88</td>\n",
       "      <td>...</td>\n",
       "      <td>0.8</td>\n",
       "      <td>37.717791</td>\n",
       "      <td>18.6</td>\n",
       "      <td>869.78</td>\n",
       "      <td>0.00</td>\n",
       "      <td>2.116564</td>\n",
       "      <td>2.4</td>\n",
       "      <td>0.162486</td>\n",
       "      <td>0.230350</td>\n",
       "      <td>0</td>\n",
       "    </tr>\n",
       "  </tbody>\n",
       "</table>\n",
       "<p>5 rows × 49 columns</p>\n",
       "</div>"
      ],
      "text/plain": [
       "           date  home_team    away_team  home_score  away_score  \\\n",
       "9971 2022-12-14   Malaysia     Maldives           3           0   \n",
       "9972 2022-12-14    Vietnam  Philippines           1           0   \n",
       "9973 2022-12-17    Croatia      Morocco           2           1   \n",
       "9974 2022-12-17  Singapore     Maldives           3           1   \n",
       "9975 2022-12-18  Argentina       France           3           3   \n",
       "\n",
       "          tournament          city    country  neutral  total_points_home  \\\n",
       "9971        Friendly  Kuala Lumpur   Malaysia    False            1062.32   \n",
       "9972        Friendly         Hanoi    Vietnam    False            1226.65   \n",
       "9973  FIFA World Cup     Al Rayyan      Qatar     True            1645.64   \n",
       "9974        Friendly     Singapore  Singapore    False            1003.50   \n",
       "9975  FIFA World Cup        Lusail      Qatar     True            1773.88   \n",
       "\n",
       "      ...  away_goals_suf_mean_l5  away_rank_mean  away_rank_mean_l5  \\\n",
       "9971  ...                     1.6      150.747126              154.4   \n",
       "9972  ...                     1.6      147.000000              150.4   \n",
       "9973  ...                     0.6       73.301471               12.6   \n",
       "9974  ...                     1.6      150.693182              161.4   \n",
       "9975  ...                     0.8       37.717791               18.6   \n",
       "\n",
       "      away_points_mean  away_points_mean_l5  away_game_points_mean  \\\n",
       "9971            901.25                -7.25               1.149425   \n",
       "9972           1050.89               -12.02               1.427350   \n",
       "9973           1192.50                 0.00               1.845588   \n",
       "9974            909.09                 0.59               1.136364   \n",
       "9975            869.78                 0.00               2.116564   \n",
       "\n",
       "      away_game_points_mean_l5  away_game_points_rank_mean  \\\n",
       "9971                       1.8                    0.006752   \n",
       "9972                       0.8                    0.008954   \n",
       "9973                       2.0                    0.043631   \n",
       "9974                       1.8                    0.006675   \n",
       "9975                       2.4                    0.162486   \n",
       "\n",
       "      away_game_points_rank_mean_l5  is_friendly_1  \n",
       "9971                       0.009363              1  \n",
       "9972                       0.004550              1  \n",
       "9973                       0.409872              0  \n",
       "9974                       0.009363              1  \n",
       "9975                       0.230350              0  \n",
       "\n",
       "[5 rows x 49 columns]"
      ]
     },
     "execution_count": 49,
     "metadata": {},
     "output_type": "execute_result"
    }
   ],
   "source": [
    "full_df.tail()"
   ]
  },
  {
   "cell_type": "markdown",
   "metadata": {
    "papermill": {
     "duration": 0.048628,
     "end_time": "2023-01-10T12:10:59.660681",
     "exception": false,
     "start_time": "2023-01-10T12:10:59.612053",
     "status": "completed"
    },
    "tags": []
   },
   "source": [
    "И, после этого, мы выбираем только столбцы, которые помогут в анализе признаков.\n",
    "\n",
    "  'tournament', 'city', 'country', 'neutral', 'total_points_home',\n",
    "   'previous_points_home', \n",
    "    'total_points_away', 'previous_points_away', \n",
    "    'home_team_points', 'away_team_points',\n",
    "     'sg', 'points_home_by_rank', 'points_away_by_rank',"
   ]
  },
  {
   "cell_type": "code",
   "execution_count": 50,
   "metadata": {
    "execution": {
     "iopub.execute_input": "2023-01-10T12:10:59.762880Z",
     "iopub.status.busy": "2023-01-10T12:10:59.762118Z",
     "iopub.status.idle": "2023-01-10T12:10:59.798145Z",
     "shell.execute_reply": "2023-01-10T12:10:59.796803Z"
    },
    "papermill": {
     "duration": 0.089743,
     "end_time": "2023-01-10T12:10:59.801042",
     "exception": false,
     "start_time": "2023-01-10T12:10:59.711299",
     "status": "completed"
    },
    "tags": []
   },
   "outputs": [
    {
     "data": {
      "text/html": [
       "<div>\n",
       "<style scoped>\n",
       "    .dataframe tbody tr th:only-of-type {\n",
       "        vertical-align: middle;\n",
       "    }\n",
       "\n",
       "    .dataframe tbody tr th {\n",
       "        vertical-align: top;\n",
       "    }\n",
       "\n",
       "    .dataframe thead th {\n",
       "        text-align: right;\n",
       "    }\n",
       "</style>\n",
       "<table border=\"1\" class=\"dataframe\">\n",
       "  <thead>\n",
       "    <tr style=\"text-align: right;\">\n",
       "      <th></th>\n",
       "      <th>date</th>\n",
       "      <th>home_team</th>\n",
       "      <th>away_team</th>\n",
       "      <th>rank_home</th>\n",
       "      <th>rank_away</th>\n",
       "      <th>home_score</th>\n",
       "      <th>away_score</th>\n",
       "      <th>result</th>\n",
       "      <th>rank_dif</th>\n",
       "      <th>rank_change_home</th>\n",
       "      <th>...</th>\n",
       "      <th>away_points_mean_l5</th>\n",
       "      <th>home_game_points_mean</th>\n",
       "      <th>home_game_points_mean_l5</th>\n",
       "      <th>home_game_points_rank_mean</th>\n",
       "      <th>home_game_points_rank_mean_l5</th>\n",
       "      <th>away_game_points_mean</th>\n",
       "      <th>away_game_points_mean_l5</th>\n",
       "      <th>away_game_points_rank_mean</th>\n",
       "      <th>away_game_points_rank_mean_l5</th>\n",
       "      <th>is_friendly_1</th>\n",
       "    </tr>\n",
       "  </thead>\n",
       "  <tbody>\n",
       "    <tr>\n",
       "      <th>9971</th>\n",
       "      <td>2022-12-14</td>\n",
       "      <td>Malaysia</td>\n",
       "      <td>Maldives</td>\n",
       "      <td>146.0</td>\n",
       "      <td>154.0</td>\n",
       "      <td>3</td>\n",
       "      <td>0</td>\n",
       "      <td>0</td>\n",
       "      <td>-8.0</td>\n",
       "      <td>-2.0</td>\n",
       "      <td>...</td>\n",
       "      <td>-7.25</td>\n",
       "      <td>1.335938</td>\n",
       "      <td>1.6</td>\n",
       "      <td>0.008598</td>\n",
       "      <td>0.010218</td>\n",
       "      <td>1.149425</td>\n",
       "      <td>1.8</td>\n",
       "      <td>0.006752</td>\n",
       "      <td>0.009363</td>\n",
       "      <td>1</td>\n",
       "    </tr>\n",
       "    <tr>\n",
       "      <th>9972</th>\n",
       "      <td>2022-12-14</td>\n",
       "      <td>Vietnam</td>\n",
       "      <td>Philippines</td>\n",
       "      <td>96.0</td>\n",
       "      <td>133.0</td>\n",
       "      <td>1</td>\n",
       "      <td>0</td>\n",
       "      <td>0</td>\n",
       "      <td>-37.0</td>\n",
       "      <td>-1.0</td>\n",
       "      <td>...</td>\n",
       "      <td>-12.02</td>\n",
       "      <td>1.536842</td>\n",
       "      <td>2.0</td>\n",
       "      <td>0.011456</td>\n",
       "      <td>0.022238</td>\n",
       "      <td>1.427350</td>\n",
       "      <td>0.8</td>\n",
       "      <td>0.008954</td>\n",
       "      <td>0.004550</td>\n",
       "      <td>1</td>\n",
       "    </tr>\n",
       "    <tr>\n",
       "      <th>9973</th>\n",
       "      <td>2022-12-17</td>\n",
       "      <td>Croatia</td>\n",
       "      <td>Morocco</td>\n",
       "      <td>12.0</td>\n",
       "      <td>22.0</td>\n",
       "      <td>2</td>\n",
       "      <td>1</td>\n",
       "      <td>0</td>\n",
       "      <td>-10.0</td>\n",
       "      <td>-3.0</td>\n",
       "      <td>...</td>\n",
       "      <td>0.00</td>\n",
       "      <td>1.777027</td>\n",
       "      <td>1.2</td>\n",
       "      <td>0.081854</td>\n",
       "      <td>0.322967</td>\n",
       "      <td>1.845588</td>\n",
       "      <td>2.0</td>\n",
       "      <td>0.043631</td>\n",
       "      <td>0.409872</td>\n",
       "      <td>0</td>\n",
       "    </tr>\n",
       "    <tr>\n",
       "      <th>9974</th>\n",
       "      <td>2022-12-17</td>\n",
       "      <td>Singapore</td>\n",
       "      <td>Maldives</td>\n",
       "      <td>160.0</td>\n",
       "      <td>154.0</td>\n",
       "      <td>3</td>\n",
       "      <td>1</td>\n",
       "      <td>0</td>\n",
       "      <td>6.0</td>\n",
       "      <td>1.0</td>\n",
       "      <td>...</td>\n",
       "      <td>0.59</td>\n",
       "      <td>1.194915</td>\n",
       "      <td>1.0</td>\n",
       "      <td>0.007872</td>\n",
       "      <td>0.007240</td>\n",
       "      <td>1.136364</td>\n",
       "      <td>1.8</td>\n",
       "      <td>0.006675</td>\n",
       "      <td>0.009363</td>\n",
       "      <td>1</td>\n",
       "    </tr>\n",
       "    <tr>\n",
       "      <th>9975</th>\n",
       "      <td>2022-12-18</td>\n",
       "      <td>Argentina</td>\n",
       "      <td>France</td>\n",
       "      <td>3.0</td>\n",
       "      <td>4.0</td>\n",
       "      <td>3</td>\n",
       "      <td>3</td>\n",
       "      <td>2</td>\n",
       "      <td>-1.0</td>\n",
       "      <td>0.0</td>\n",
       "      <td>...</td>\n",
       "      <td>0.00</td>\n",
       "      <td>2.060606</td>\n",
       "      <td>2.6</td>\n",
       "      <td>0.188424</td>\n",
       "      <td>0.160020</td>\n",
       "      <td>2.116564</td>\n",
       "      <td>2.4</td>\n",
       "      <td>0.162486</td>\n",
       "      <td>0.230350</td>\n",
       "      <td>0</td>\n",
       "    </tr>\n",
       "  </tbody>\n",
       "</table>\n",
       "<p>5 rows × 36 columns</p>\n",
       "</div>"
      ],
      "text/plain": [
       "           date  home_team    away_team  rank_home  rank_away  home_score  \\\n",
       "9971 2022-12-14   Malaysia     Maldives      146.0      154.0           3   \n",
       "9972 2022-12-14    Vietnam  Philippines       96.0      133.0           1   \n",
       "9973 2022-12-17    Croatia      Morocco       12.0       22.0           2   \n",
       "9974 2022-12-17  Singapore     Maldives      160.0      154.0           3   \n",
       "9975 2022-12-18  Argentina       France        3.0        4.0           3   \n",
       "\n",
       "      away_score  result  rank_dif  rank_change_home  ...  \\\n",
       "9971           0       0      -8.0              -2.0  ...   \n",
       "9972           0       0     -37.0              -1.0  ...   \n",
       "9973           1       0     -10.0              -3.0  ...   \n",
       "9974           1       0       6.0               1.0  ...   \n",
       "9975           3       2      -1.0               0.0  ...   \n",
       "\n",
       "      away_points_mean_l5  home_game_points_mean  home_game_points_mean_l5  \\\n",
       "9971                -7.25               1.335938                       1.6   \n",
       "9972               -12.02               1.536842                       2.0   \n",
       "9973                 0.00               1.777027                       1.2   \n",
       "9974                 0.59               1.194915                       1.0   \n",
       "9975                 0.00               2.060606                       2.6   \n",
       "\n",
       "      home_game_points_rank_mean  home_game_points_rank_mean_l5  \\\n",
       "9971                    0.008598                       0.010218   \n",
       "9972                    0.011456                       0.022238   \n",
       "9973                    0.081854                       0.322967   \n",
       "9974                    0.007872                       0.007240   \n",
       "9975                    0.188424                       0.160020   \n",
       "\n",
       "      away_game_points_mean  away_game_points_mean_l5  \\\n",
       "9971               1.149425                       1.8   \n",
       "9972               1.427350                       0.8   \n",
       "9973               1.845588                       2.0   \n",
       "9974               1.136364                       1.8   \n",
       "9975               2.116564                       2.4   \n",
       "\n",
       "      away_game_points_rank_mean  away_game_points_rank_mean_l5  is_friendly_1  \n",
       "9971                    0.006752                       0.009363              1  \n",
       "9972                    0.008954                       0.004550              1  \n",
       "9973                    0.043631                       0.409872              0  \n",
       "9974                    0.006675                       0.009363              1  \n",
       "9975                    0.162486                       0.230350              0  \n",
       "\n",
       "[5 rows x 36 columns]"
      ]
     },
     "execution_count": 50,
     "metadata": {},
     "output_type": "execute_result"
    }
   ],
   "source": [
    "base_df = full_df[[\"date\", \"home_team\", \"away_team\", \"rank_home\", \"rank_away\",\"home_score\", \"away_score\", \"result\", \"rank_dif\", \n",
    "        \"rank_change_home\", \"rank_change_away\", 'home_goals_mean',\n",
    "       'home_goals_mean_l5', 'home_goals_suf_mean', 'home_goals_suf_mean_l5',\n",
    "       'home_rank_mean', 'home_rank_mean_l5', 'home_points_mean',\n",
    "       'home_points_mean_l5', 'away_goals_mean', 'away_goals_mean_l5',\n",
    "       'away_goals_suf_mean', 'away_goals_suf_mean_l5', 'away_rank_mean',\n",
    "       'away_rank_mean_l5', 'away_points_mean', 'away_points_mean_l5','home_game_points_mean', 'home_game_points_mean_l5',\n",
    "       'home_game_points_rank_mean', 'home_game_points_rank_mean_l5','away_game_points_mean',\n",
    "       'away_game_points_mean_l5', 'away_game_points_rank_mean',\n",
    "       'away_game_points_rank_mean_l5', 'is_friendly_1']]\n",
    "\n",
    "base_df.tail()"
   ]
  },
  {
   "cell_type": "code",
   "execution_count": 51,
   "metadata": {
    "execution": {
     "iopub.execute_input": "2023-01-10T12:10:59.906325Z",
     "iopub.status.busy": "2023-01-10T12:10:59.905477Z",
     "iopub.status.idle": "2023-01-10T12:10:59.918282Z",
     "shell.execute_reply": "2023-01-10T12:10:59.917090Z"
    },
    "papermill": {
     "duration": 0.069361,
     "end_time": "2023-01-10T12:10:59.921165",
     "exception": false,
     "start_time": "2023-01-10T12:10:59.851804",
     "status": "completed"
    },
    "tags": []
   },
   "outputs": [
    {
     "data": {
      "text/plain": [
       "date                               0\n",
       "home_team                          0\n",
       "away_team                          0\n",
       "rank_home                          0\n",
       "rank_away                          0\n",
       "home_score                         0\n",
       "away_score                         0\n",
       "result                             0\n",
       "rank_dif                           0\n",
       "rank_change_home                   0\n",
       "rank_change_away                   0\n",
       "home_goals_mean                  101\n",
       "home_goals_mean_l5               101\n",
       "home_goals_suf_mean              101\n",
       "home_goals_suf_mean_l5           101\n",
       "home_rank_mean                   101\n",
       "home_rank_mean_l5                101\n",
       "home_points_mean                   0\n",
       "home_points_mean_l5                0\n",
       "away_goals_mean                  100\n",
       "away_goals_mean_l5               100\n",
       "away_goals_suf_mean              100\n",
       "away_goals_suf_mean_l5           100\n",
       "away_rank_mean                   100\n",
       "away_rank_mean_l5                100\n",
       "away_points_mean                   0\n",
       "away_points_mean_l5                0\n",
       "home_game_points_mean            101\n",
       "home_game_points_mean_l5         101\n",
       "home_game_points_rank_mean       101\n",
       "home_game_points_rank_mean_l5    101\n",
       "away_game_points_mean            100\n",
       "away_game_points_mean_l5         100\n",
       "away_game_points_rank_mean       100\n",
       "away_game_points_rank_mean_l5    100\n",
       "is_friendly_1                      0\n",
       "dtype: int64"
      ]
     },
     "execution_count": 51,
     "metadata": {},
     "output_type": "execute_result"
    }
   ],
   "source": [
    "base_df.isna().sum()"
   ]
  },
  {
   "cell_type": "markdown",
   "metadata": {
    "papermill": {
     "duration": 0.048848,
     "end_time": "2023-01-10T12:11:00.020478",
     "exception": false,
     "start_time": "2023-01-10T12:10:59.971630",
     "status": "completed"
    },
    "tags": []
   },
   "source": [
    "Игры с NA — это те, которые не могут быть рассчитаны. Они будут сброшены."
   ]
  },
  {
   "cell_type": "code",
   "execution_count": 52,
   "metadata": {
    "execution": {
     "iopub.execute_input": "2023-01-10T12:11:00.122191Z",
     "iopub.status.busy": "2023-01-10T12:11:00.121298Z",
     "iopub.status.idle": "2023-01-10T12:11:00.132081Z",
     "shell.execute_reply": "2023-01-10T12:11:00.130651Z"
    },
    "papermill": {
     "duration": 0.064716,
     "end_time": "2023-01-10T12:11:00.134847",
     "exception": false,
     "start_time": "2023-01-10T12:11:00.070131",
     "status": "completed"
    },
    "tags": []
   },
   "outputs": [],
   "source": [
    "base_df_no_fg = base_df.dropna()"
   ]
  },
  {
   "cell_type": "code",
   "execution_count": 53,
   "metadata": {},
   "outputs": [
    {
     "data": {
      "text/plain": [
       "date                             0\n",
       "home_team                        0\n",
       "away_team                        0\n",
       "rank_home                        0\n",
       "rank_away                        0\n",
       "home_score                       0\n",
       "away_score                       0\n",
       "result                           0\n",
       "rank_dif                         0\n",
       "rank_change_home                 0\n",
       "rank_change_away                 0\n",
       "home_goals_mean                  0\n",
       "home_goals_mean_l5               0\n",
       "home_goals_suf_mean              0\n",
       "home_goals_suf_mean_l5           0\n",
       "home_rank_mean                   0\n",
       "home_rank_mean_l5                0\n",
       "home_points_mean                 0\n",
       "home_points_mean_l5              0\n",
       "away_goals_mean                  0\n",
       "away_goals_mean_l5               0\n",
       "away_goals_suf_mean              0\n",
       "away_goals_suf_mean_l5           0\n",
       "away_rank_mean                   0\n",
       "away_rank_mean_l5                0\n",
       "away_points_mean                 0\n",
       "away_points_mean_l5              0\n",
       "home_game_points_mean            0\n",
       "home_game_points_mean_l5         0\n",
       "home_game_points_rank_mean       0\n",
       "home_game_points_rank_mean_l5    0\n",
       "away_game_points_mean            0\n",
       "away_game_points_mean_l5         0\n",
       "away_game_points_rank_mean       0\n",
       "away_game_points_rank_mean_l5    0\n",
       "is_friendly_1                    0\n",
       "dtype: int64"
      ]
     },
     "execution_count": 53,
     "metadata": {},
     "output_type": "execute_result"
    }
   ],
   "source": [
    "base_df_no_fg.isna().sum()"
   ]
  },
  {
   "cell_type": "markdown",
   "metadata": {
    "papermill": {
     "duration": 0.049415,
     "end_time": "2023-01-10T12:11:00.234332",
     "exception": false,
     "start_time": "2023-01-10T12:11:00.184917",
     "status": "completed"
    },
    "tags": []
   },
   "source": [
    "## Анализ данных\n",
    "Теперь нам нужно проанализировать все созданные функции и проверить, обладают ли они предсказательной силой. Кроме того, если их нет, нам нужно создать некоторые из них, например различия между домашней и гостевой командами. Чтобы проанализировать предсказательную силу, я назначу ничью как проигрыш хозяев поля."
   ]
  },
  {
   "cell_type": "code",
   "execution_count": 54,
   "metadata": {
    "execution": {
     "iopub.execute_input": "2023-01-10T12:11:00.337758Z",
     "iopub.status.busy": "2023-01-10T12:11:00.336198Z",
     "iopub.status.idle": "2023-01-10T12:11:00.342790Z",
     "shell.execute_reply": "2023-01-10T12:11:00.341821Z"
    },
    "papermill": {
     "duration": 0.059978,
     "end_time": "2023-01-10T12:11:00.345435",
     "exception": false,
     "start_time": "2023-01-10T12:11:00.285457",
     "status": "completed"
    },
    "tags": []
   },
   "outputs": [],
   "source": [
    "df = base_df_no_fg"
   ]
  },
  {
   "cell_type": "code",
   "execution_count": 55,
   "metadata": {
    "execution": {
     "iopub.execute_input": "2023-01-10T12:11:00.449237Z",
     "iopub.status.busy": "2023-01-10T12:11:00.448390Z",
     "iopub.status.idle": "2023-01-10T12:11:00.456617Z",
     "shell.execute_reply": "2023-01-10T12:11:00.455492Z"
    },
    "papermill": {
     "duration": 0.063324,
     "end_time": "2023-01-10T12:11:00.458847",
     "exception": false,
     "start_time": "2023-01-10T12:11:00.395523",
     "status": "completed"
    },
    "tags": []
   },
   "outputs": [
    {
     "data": {
      "text/plain": [
       "Index(['date', 'home_team', 'away_team', 'rank_home', 'rank_away',\n",
       "       'home_score', 'away_score', 'result', 'rank_dif', 'rank_change_home',\n",
       "       'rank_change_away', 'home_goals_mean', 'home_goals_mean_l5',\n",
       "       'home_goals_suf_mean', 'home_goals_suf_mean_l5', 'home_rank_mean',\n",
       "       'home_rank_mean_l5', 'home_points_mean', 'home_points_mean_l5',\n",
       "       'away_goals_mean', 'away_goals_mean_l5', 'away_goals_suf_mean',\n",
       "       'away_goals_suf_mean_l5', 'away_rank_mean', 'away_rank_mean_l5',\n",
       "       'away_points_mean', 'away_points_mean_l5', 'home_game_points_mean',\n",
       "       'home_game_points_mean_l5', 'home_game_points_rank_mean',\n",
       "       'home_game_points_rank_mean_l5', 'away_game_points_mean',\n",
       "       'away_game_points_mean_l5', 'away_game_points_rank_mean',\n",
       "       'away_game_points_rank_mean_l5', 'is_friendly_1'],\n",
       "      dtype='object')"
      ]
     },
     "execution_count": 55,
     "metadata": {},
     "output_type": "execute_result"
    }
   ],
   "source": [
    "df.columns"
   ]
  },
  {
   "cell_type": "code",
   "execution_count": 56,
   "metadata": {
    "execution": {
     "iopub.execute_input": "2023-01-10T12:11:00.562533Z",
     "iopub.status.busy": "2023-01-10T12:11:00.561784Z",
     "iopub.status.idle": "2023-01-10T12:11:00.575980Z",
     "shell.execute_reply": "2023-01-10T12:11:00.574038Z"
    },
    "papermill": {
     "duration": 0.069441,
     "end_time": "2023-01-10T12:11:00.578750",
     "exception": false,
     "start_time": "2023-01-10T12:11:00.509309",
     "status": "completed"
    },
    "tags": []
   },
   "outputs": [
    {
     "name": "stderr",
     "output_type": "stream",
     "text": [
      "C:\\Users\\Ivan\\anaconda3\\lib\\site-packages\\pandas\\core\\indexing.py:1745: SettingWithCopyWarning: \n",
      "A value is trying to be set on a copy of a slice from a DataFrame.\n",
      "Try using .loc[row_indexer,col_indexer] = value instead\n",
      "\n",
      "See the caveats in the documentation: https://pandas.pydata.org/pandas-docs/stable/user_guide/indexing.html#returning-a-view-versus-a-copy\n",
      "  isetter(ilocs[0], value)\n"
     ]
    }
   ],
   "source": [
    "def no_draw(x):\n",
    "    if x == 2:\n",
    "        return 1\n",
    "    else:\n",
    "        return x\n",
    "    \n",
    "df.loc[:,'result'] = df[\"result\"].apply(lambda x: no_draw(x))"
   ]
  },
  {
   "cell_type": "code",
   "execution_count": 57,
   "metadata": {
    "execution": {
     "iopub.execute_input": "2023-01-10T12:11:00.681248Z",
     "iopub.status.busy": "2023-01-10T12:11:00.679946Z",
     "iopub.status.idle": "2023-01-10T12:11:00.688682Z",
     "shell.execute_reply": "2023-01-10T12:11:00.687677Z"
    },
    "papermill": {
     "duration": 0.061825,
     "end_time": "2023-01-10T12:11:00.691066",
     "exception": false,
     "start_time": "2023-01-10T12:11:00.629241",
     "status": "completed"
    },
    "tags": []
   },
   "outputs": [
    {
     "data": {
      "text/plain": [
       "Index(['date', 'home_team', 'away_team', 'rank_home', 'rank_away',\n",
       "       'home_score', 'away_score', 'result', 'rank_dif', 'rank_change_home',\n",
       "       'rank_change_away', 'home_goals_mean', 'home_goals_mean_l5',\n",
       "       'home_goals_suf_mean', 'home_goals_suf_mean_l5', 'home_rank_mean',\n",
       "       'home_rank_mean_l5', 'home_points_mean', 'home_points_mean_l5',\n",
       "       'away_goals_mean', 'away_goals_mean_l5', 'away_goals_suf_mean',\n",
       "       'away_goals_suf_mean_l5', 'away_rank_mean', 'away_rank_mean_l5',\n",
       "       'away_points_mean', 'away_points_mean_l5', 'home_game_points_mean',\n",
       "       'home_game_points_mean_l5', 'home_game_points_rank_mean',\n",
       "       'home_game_points_rank_mean_l5', 'away_game_points_mean',\n",
       "       'away_game_points_mean_l5', 'away_game_points_rank_mean',\n",
       "       'away_game_points_rank_mean_l5', 'is_friendly_1'],\n",
       "      dtype='object')"
      ]
     },
     "execution_count": 57,
     "metadata": {},
     "output_type": "execute_result"
    }
   ],
   "source": [
    "df.columns"
   ]
  },
  {
   "cell_type": "code",
   "execution_count": null,
   "metadata": {},
   "outputs": [],
   "source": [
    "data1 = df[list(df.columns[7:20].values)]\n",
    "data2 = df[list(df.columns[20:].values)+['result']]"
   ]
  },
  {
   "cell_type": "code",
   "execution_count": 59,
   "metadata": {
    "execution": {
     "iopub.execute_input": "2023-01-10T12:11:01.009591Z",
     "iopub.status.busy": "2023-01-10T12:11:01.008718Z",
     "iopub.status.idle": "2023-01-10T12:11:01.038497Z",
     "shell.execute_reply": "2023-01-10T12:11:01.036973Z"
    },
    "papermill": {
     "duration": 0.085346,
     "end_time": "2023-01-10T12:11:01.041403",
     "exception": false,
     "start_time": "2023-01-10T12:11:00.956057",
     "status": "completed"
    },
    "tags": []
   },
   "outputs": [],
   "source": [
    "scaled = (data1[1:] - data1[1:].mean()) / data1[1:].std()\n",
    "scaled[\"result\"] = data1[\"result\"]\n",
    "violin1 = pd.melt(scaled,id_vars=\"result\", var_name=\"features\", value_name=\"value\")\n",
    "\n",
    "scaled = (data2[:-2] - data2[:-2].mean()) / data2[:-2].std()\n",
    "scaled[\"result\"] = data2[\"result\"]\n",
    "scaled['is_friendly_1'] = data2['is_friendly_1']\n",
    "violin2 = pd.melt(scaled,id_vars=\"result\", var_name=\"features\", value_name=\"value\")"
   ]
  },
  {
   "cell_type": "code",
   "execution_count": 60,
   "metadata": {
    "execution": {
     "iopub.execute_input": "2023-01-10T12:11:01.146584Z",
     "iopub.status.busy": "2023-01-10T12:11:01.145636Z",
     "iopub.status.idle": "2023-01-10T12:11:01.848970Z",
     "shell.execute_reply": "2023-01-10T12:11:01.847579Z"
    },
    "papermill": {
     "duration": 0.759329,
     "end_time": "2023-01-10T12:11:01.851883",
     "exception": false,
     "start_time": "2023-01-10T12:11:01.092554",
     "status": "completed"
    },
    "tags": []
   },
   "outputs": [
    {
     "data": {
      "image/png": "[encoded data removed]",
      "text/plain": [
       "<Figure size 1080x720 with 1 Axes>"
      ]
     },
     "metadata": {
      "needs_background": "light"
     },
     "output_type": "display_data"
    }
   ],
   "source": [
    "plt.figure(figsize=(15,10))\n",
    "sns.violinplot(x=\"features\", y=\"value\", hue=\"result\", data=violin1,split=True, inner=\"quart\")\n",
    "plt.xticks(rotation=90)\n",
    "plt.show()"
   ]
  },
  {
   "cell_type": "code",
   "execution_count": 61,
   "metadata": {
    "execution": {
     "iopub.execute_input": "2023-01-10T12:11:02.173989Z",
     "iopub.status.busy": "2023-01-10T12:11:02.173514Z",
     "iopub.status.idle": "2023-01-10T12:11:03.159243Z",
     "shell.execute_reply": "2023-01-10T12:11:03.157239Z"
    },
    "papermill": {
     "duration": 1.047858,
     "end_time": "2023-01-10T12:11:03.162731",
     "exception": false,
     "start_time": "2023-01-10T12:11:02.114873",
     "status": "completed"
    },
    "tags": []
   },
   "outputs": [
    {
     "data": {
      "image/png": "[encoded data removed]",
      "text/plain": [
       "<Figure size 1080x720 with 1 Axes>"
      ]
     },
     "metadata": {
      "needs_background": "light"
     },
     "output_type": "display_data"
    }
   ],
   "source": [
    "plt.figure(figsize=(15,10))\n",
    "sns.violinplot(x=\"features\", y=\"value\", hue=\"result\", data=violin2,split=True, inner=\"quart\")\n",
    "plt.xticks(rotation=90)\n",
    "plt.show()"
   ]
  },
  {
   "cell_type": "markdown",
   "metadata": {
    "papermill": {
     "duration": 0.055079,
     "end_time": "2023-01-10T12:11:03.277560",
     "exception": false,
     "start_time": "2023-01-10T12:11:03.222481",
     "status": "completed"
    },
    "tags": []
   },
   "source": [
    "С графиками мы обнаруживаем, что разница в рангах является единственным хорошим разделителем данных. Но мы можем создавать функции, которые получают различия между домашней и выездной командой и анализируют, хорошо ли они разделяют данные."
   ]
  },
  {
   "cell_type": "code",
   "execution_count": 62,
   "metadata": {
    "execution": {
     "iopub.execute_input": "2023-01-10T12:11:03.385566Z",
     "iopub.status.busy": "2023-01-10T12:11:03.385115Z",
     "iopub.status.idle": "2023-01-10T12:11:03.401562Z",
     "shell.execute_reply": "2023-01-10T12:11:03.400098Z"
    },
    "papermill": {
     "duration": 0.073686,
     "end_time": "2023-01-10T12:11:03.404386",
     "exception": false,
     "start_time": "2023-01-10T12:11:03.330700",
     "status": "completed"
    },
    "tags": []
   },
   "outputs": [],
   "source": [
    "dif = df.copy() # Dataframe для обработки различий\n",
    "dif.loc[:, \"goals_dif\"] = dif[\"home_goals_mean\"] - dif[\"away_goals_mean\"]\n",
    "dif.loc[:, \"goals_dif_l5\"] = dif[\"home_goals_mean_l5\"] - dif[\"away_goals_mean_l5\"]\n",
    "dif.loc[:, \"goals_suf_dif\"] = dif[\"home_goals_suf_mean\"] - dif[\"away_goals_suf_mean\"]\n",
    "dif.loc[:, \"goals_suf_dif_l5\"] = dif[\"home_goals_suf_mean_l5\"] - dif[\"away_goals_suf_mean_l5\"]\n",
    "dif.loc[:, \"goals_made_suf_dif\"] = dif[\"home_goals_mean\"] - dif[\"away_goals_suf_mean\"]\n",
    "dif.loc[:, \"goals_made_suf_dif_l5\"] = dif[\"home_goals_mean_l5\"] - dif[\"away_goals_suf_mean_l5\"]\n",
    "dif.loc[:, \"goals_suf_made_dif\"] = dif[\"home_goals_suf_mean\"] - dif[\"away_goals_mean\"]\n",
    "dif.loc[:, \"goals_suf_made_dif_l5\"] = dif[\"home_goals_suf_mean_l5\"] - dif[\"away_goals_mean_l5\"]"
   ]
  },
  {
   "cell_type": "code",
   "execution_count": 63,
   "metadata": {
    "execution": {
     "iopub.execute_input": "2023-01-10T12:11:03.512992Z",
     "iopub.status.busy": "2023-01-10T12:11:03.512474Z",
     "iopub.status.idle": "2023-01-10T12:11:04.025453Z",
     "shell.execute_reply": "2023-01-10T12:11:04.024557Z"
    },
    "papermill": {
     "duration": 0.56985,
     "end_time": "2023-01-10T12:11:04.027783",
     "exception": false,
     "start_time": "2023-01-10T12:11:03.457933",
     "status": "completed"
    },
    "tags": []
   },
   "outputs": [
    {
     "data": {
      "image/png": "[encoded data removed]",
      "text/plain": [
       "<Figure size 720x720 with 1 Axes>"
      ]
     },
     "metadata": {
      "needs_background": "light"
     },
     "output_type": "display_data"
    }
   ],
   "source": [
    "data_difs = dif.iloc[:, -8:]\n",
    "scaled = (data_difs - data_difs.mean()) / data_difs.std()\n",
    "scaled[\"result\"] = data2[\"result\"]\n",
    "violin = pd.melt(scaled,id_vars=\"result\", var_name=\"features\", value_name=\"value\")\n",
    "\n",
    "plt.figure(figsize=(10,10))\n",
    "sns.violinplot(x=\"features\", y=\"value\", hue=\"result\", data=violin,split=True, inner=\"quart\")\n",
    "plt.xticks(rotation=90)\n",
    "plt.show()"
   ]
  },
  {
   "cell_type": "markdown",
   "metadata": {
    "papermill": {
     "duration": 0.055834,
     "end_time": "2023-01-10T12:11:04.141502",
     "exception": false,
     "start_time": "2023-01-10T12:11:04.085668",
     "status": "completed"
    },
    "tags": []
   },
   "source": [
    "На этом графике мы видим, что разница в голах является хорошим разделителем, и разница в голах тоже. \n",
    "\n",
    "Теперь у нас есть 5 функций:\n",
    "- rank_dif\n",
    "- goals_dif\n",
    "- goals_dif_l5\n",
    "- goals_suf_dif\n",
    "- goals_suf_dif_l5\n",
    "\n",
    "Мы можем создавать другие функции, такие как разница в набранных очках, разница в очках, набранных рангом, и разница в ранге."
   ]
  },
  {
   "cell_type": "code",
   "execution_count": 64,
   "metadata": {
    "execution": {
     "iopub.execute_input": "2023-01-10T12:11:04.253515Z",
     "iopub.status.busy": "2023-01-10T12:11:04.252652Z",
     "iopub.status.idle": "2023-01-10T12:11:04.264774Z",
     "shell.execute_reply": "2023-01-10T12:11:04.263927Z"
    },
    "papermill": {
     "duration": 0.069925,
     "end_time": "2023-01-10T12:11:04.267512",
     "exception": false,
     "start_time": "2023-01-10T12:11:04.197587",
     "status": "completed"
    },
    "tags": []
   },
   "outputs": [],
   "source": [
    "dif.loc[:, \"dif_points\"] = dif[\"home_game_points_mean\"] - dif[\"away_game_points_mean\"]\n",
    "dif.loc[:, \"dif_points_l5\"] = dif[\"home_game_points_mean_l5\"] - dif[\"away_game_points_mean_l5\"]\n",
    "dif.loc[:, \"dif_points_rank\"] = dif[\"home_game_points_rank_mean\"] - dif[\"away_game_points_rank_mean\"]\n",
    "dif.loc[:, \"dif_points_rank_l5\"] = dif[\"home_game_points_rank_mean_l5\"] - dif[\"away_game_points_rank_mean_l5\"]\n",
    "dif.loc[:, \"dif_rank_agst\"] = dif[\"home_rank_mean\"] - dif[\"away_rank_mean\"]\n",
    "dif.loc[:, \"dif_rank_agst_l5\"] = dif[\"home_rank_mean_l5\"] - dif[\"away_rank_mean_l5\"]"
   ]
  },
  {
   "cell_type": "markdown",
   "metadata": {
    "papermill": {
     "duration": 0.053848,
     "end_time": "2023-01-10T12:11:04.376062",
     "exception": false,
     "start_time": "2023-01-10T12:11:04.322214",
     "status": "completed"
    },
    "tags": []
   },
   "source": [
    "Кроме того, мы можем рассчитать забитые и пропущенные голы по рангу и проверить эту разницу."
   ]
  },
  {
   "cell_type": "code",
   "execution_count": 65,
   "metadata": {
    "execution": {
     "iopub.execute_input": "2023-01-10T12:11:04.485998Z",
     "iopub.status.busy": "2023-01-10T12:11:04.485198Z",
     "iopub.status.idle": "2023-01-10T12:11:04.497543Z",
     "shell.execute_reply": "2023-01-10T12:11:04.496049Z"
    },
    "papermill": {
     "duration": 0.070235,
     "end_time": "2023-01-10T12:11:04.500571",
     "exception": false,
     "start_time": "2023-01-10T12:11:04.430336",
     "status": "completed"
    },
    "tags": []
   },
   "outputs": [],
   "source": [
    "dif.loc[:, \"goals_per_ranking_dif\"] = (dif[\"home_goals_mean\"] / dif[\"home_rank_mean\"]) - (dif[\"away_goals_mean\"] / dif[\"away_rank_mean\"])\n",
    "dif.loc[:, \"goals_per_ranking_suf_dif\"] = (dif[\"home_goals_suf_mean\"] / dif[\"home_rank_mean\"]) - (dif[\"away_goals_suf_mean\"] / dif[\"away_rank_mean\"])\n",
    "dif.loc[:, \"goals_per_ranking_dif_l5\"] = (dif[\"home_goals_mean_l5\"] / dif[\"home_rank_mean\"]) - (dif[\"away_goals_mean_l5\"] / dif[\"away_rank_mean\"])\n",
    "dif.loc[:, \"goals_per_ranking_suf_dif_l5\"] = (dif[\"home_goals_suf_mean_l5\"] / dif[\"home_rank_mean\"]) - (dif[\"away_goals_suf_mean_l5\"] / dif[\"away_rank_mean\"])"
   ]
  },
  {
   "cell_type": "code",
   "execution_count": 66,
   "metadata": {
    "execution": {
     "iopub.execute_input": "2023-01-10T12:11:04.609428Z",
     "iopub.status.busy": "2023-01-10T12:11:04.608613Z",
     "iopub.status.idle": "2023-01-10T12:11:05.238971Z",
     "shell.execute_reply": "2023-01-10T12:11:05.237656Z"
    },
    "papermill": {
     "duration": 0.687982,
     "end_time": "2023-01-10T12:11:05.241810",
     "exception": false,
     "start_time": "2023-01-10T12:11:04.553828",
     "status": "completed"
    },
    "tags": []
   },
   "outputs": [
    {
     "data": {
      "image/png": "[encoded data removed]",
      "text/plain": [
       "<Figure size 1080x720 with 1 Axes>"
      ]
     },
     "metadata": {
      "needs_background": "light"
     },
     "output_type": "display_data"
    }
   ],
   "source": [
    "data_difs = dif.iloc[:, -10:]\n",
    "scaled = (data_difs - data_difs.mean()) / data_difs.std()\n",
    "scaled[\"result\"] = data2[\"result\"]\n",
    "violin = pd.melt(scaled,id_vars=\"result\", var_name=\"features\", value_name=\"value\")\n",
    "\n",
    "plt.figure(figsize=(15,10))\n",
    "sns.violinplot(x=\"features\", y=\"value\", hue=\"result\", data=violin,split=True, inner=\"quart\")\n",
    "plt.xticks(rotation=90)\n",
    "plt.show()"
   ]
  },
  {
   "cell_type": "markdown",
   "metadata": {
    "papermill": {
     "duration": 0.054386,
     "end_time": "2023-01-10T12:11:05.353645",
     "exception": false,
     "start_time": "2023-01-10T12:11:05.299259",
     "status": "completed"
    },
    "tags": []
   },
   "source": [
    "Из-за низких значений график скрипки не был хорошим выбором для анализа того, действительно ли признаки разделяют данные в этом случае. Затем мы увидим boxplot:"
   ]
  },
  {
   "cell_type": "code",
   "execution_count": 67,
   "metadata": {
    "execution": {
     "iopub.execute_input": "2023-01-10T12:11:05.467090Z",
     "iopub.status.busy": "2023-01-10T12:11:05.466270Z",
     "iopub.status.idle": "2023-01-10T12:11:06.104989Z",
     "shell.execute_reply": "2023-01-10T12:11:06.103556Z"
    },
    "papermill": {
     "duration": 0.699587,
     "end_time": "2023-01-10T12:11:06.108123",
     "exception": false,
     "start_time": "2023-01-10T12:11:05.408536",
     "status": "completed"
    },
    "tags": []
   },
   "outputs": [
    {
     "data": {
      "image/png": "[encoded data removed]",
      "text/plain": [
       "<Figure size 1080x720 with 1 Axes>"
      ]
     },
     "metadata": {
      "needs_background": "light"
     },
     "output_type": "display_data"
    }
   ],
   "source": [
    "plt.figure(figsize=(15,10))\n",
    "sns.boxplot(x=\"features\", y=\"value\", hue=\"result\", data=violin)\n",
    "plt.xticks(rotation=90)\n",
    "plt.show()"
   ]
  },
  {
   "cell_type": "markdown",
   "metadata": {
    "papermill": {
     "duration": 0.055227,
     "end_time": "2023-01-10T12:11:06.219390",
     "exception": false,
     "start_time": "2023-01-10T12:11:06.164163",
     "status": "completed"
    },
    "tags": []
   },
   "source": [
    "Разница очков (полные и последние 5 игр), разница очков в зависимости от рейтинга (полные и последние 5 игр) и разница в рейтинге (полные и последние 5 игр) являются хорошими характеристиками. Кроме того, некоторые из сгенерированных функций имеют очень похожие распределения, которые будут проанализированы с помощью диаграмм рассеяния."
   ]
  },
  {
   "cell_type": "code",
   "execution_count": 68,
   "metadata": {
    "execution": {
     "iopub.execute_input": "2023-01-10T12:11:06.332315Z",
     "iopub.status.busy": "2023-01-10T12:11:06.331849Z",
     "iopub.status.idle": "2023-01-10T12:11:09.184124Z",
     "shell.execute_reply": "2023-01-10T12:11:09.183237Z"
    },
    "papermill": {
     "duration": 2.911308,
     "end_time": "2023-01-10T12:11:09.186502",
     "exception": false,
     "start_time": "2023-01-10T12:11:06.275194",
     "status": "completed"
    },
    "tags": []
   },
   "outputs": [
    {
     "data": {
      "image/png": "[encoded data removed]",
      "text/plain": [
       "<Figure size 432x432 with 3 Axes>"
      ]
     },
     "metadata": {
      "needs_background": "light"
     },
     "output_type": "display_data"
    }
   ],
   "source": [
    "sns.jointplot(data = data_difs, x = 'goals_per_ranking_dif', y = 'goals_per_ranking_dif_l5', kind=\"reg\")\n",
    "plt.show()"
   ]
  },
  {
   "cell_type": "markdown",
   "metadata": {
    "papermill": {
     "duration": 0.056279,
     "end_time": "2023-01-10T12:11:09.301808",
     "exception": false,
     "start_time": "2023-01-10T12:11:09.245529",
     "status": "completed"
    },
    "tags": []
   },
   "source": [
    "Разница голов по рейтингу столкновений и его последняя версия 5 игр имеют очень похожие распределения. Итак, мы будем использовать только версию (goals_per_ranking_dif)."
   ]
  },
  {
   "cell_type": "code",
   "execution_count": 69,
   "metadata": {
    "execution": {
     "iopub.execute_input": "2023-01-10T12:11:09.415601Z",
     "iopub.status.busy": "2023-01-10T12:11:09.414354Z",
     "iopub.status.idle": "2023-01-10T12:11:10.579095Z",
     "shell.execute_reply": "2023-01-10T12:11:10.577789Z"
    },
    "papermill": {
     "duration": 1.225064,
     "end_time": "2023-01-10T12:11:10.582077",
     "exception": false,
     "start_time": "2023-01-10T12:11:09.357013",
     "status": "completed"
    },
    "tags": []
   },
   "outputs": [
    {
     "data": {
      "image/png": "[encoded data removed]",
      "text/plain": [
       "<Figure size 432x432 with 3 Axes>"
      ]
     },
     "metadata": {
      "needs_background": "light"
     },
     "output_type": "display_data"
    }
   ],
   "source": [
    "sns.jointplot(data = data_difs, x = 'dif_rank_agst', y = 'dif_rank_agst_l5', kind=\"reg\")\n",
    "plt.show()"
   ]
  },
  {
   "cell_type": "code",
   "execution_count": 70,
   "metadata": {
    "execution": {
     "iopub.execute_input": "2023-01-10T12:11:10.701741Z",
     "iopub.status.busy": "2023-01-10T12:11:10.701313Z",
     "iopub.status.idle": "2023-01-10T12:11:11.739268Z",
     "shell.execute_reply": "2023-01-10T12:11:11.738229Z"
    },
    "papermill": {
     "duration": 1.100904,
     "end_time": "2023-01-10T12:11:11.741572",
     "exception": false,
     "start_time": "2023-01-10T12:11:10.640668",
     "status": "completed"
    },
    "tags": []
   },
   "outputs": [
    {
     "data": {
      "image/png": "[encoded data removed]",
      "text/plain": [
       "<Figure size 432x432 with 3 Axes>"
      ]
     },
     "metadata": {
      "needs_background": "light"
     },
     "output_type": "display_data"
    }
   ],
   "source": [
    "sns.jointplot(data = data_difs, x = 'dif_points', y = 'dif_points_l5', kind=\"reg\")\n",
    "plt.show()"
   ]
  },
  {
   "cell_type": "code",
   "execution_count": 71,
   "metadata": {
    "execution": {
     "iopub.execute_input": "2023-01-10T12:11:11.864263Z",
     "iopub.status.busy": "2023-01-10T12:11:11.863590Z",
     "iopub.status.idle": "2023-01-10T12:11:14.571320Z",
     "shell.execute_reply": "2023-01-10T12:11:14.569937Z"
    },
    "papermill": {
     "duration": 2.770926,
     "end_time": "2023-01-10T12:11:14.574158",
     "exception": false,
     "start_time": "2023-01-10T12:11:11.803232",
     "status": "completed"
    },
    "tags": []
   },
   "outputs": [
    {
     "data": {
      "image/png": "[encoded data removed]",
      "text/plain": [
       "<Figure size 432x432 with 3 Axes>"
      ]
     },
     "metadata": {
      "needs_background": "light"
     },
     "output_type": "display_data"
    }
   ],
   "source": [
    "sns.jointplot(data = data_difs, x = 'dif_points_rank', y = 'dif_points_rank_l5', kind=\"reg\")\n",
    "plt.show()"
   ]
  },
  {
   "cell_type": "markdown",
   "metadata": {
    "papermill": {
     "duration": 0.060117,
     "end_time": "2023-01-10T12:11:14.692508",
     "exception": false,
     "start_time": "2023-01-10T12:11:14.632391",
     "status": "completed"
    },
    "tags": []
   },
   "source": [
    "Что касается различий в рангах, игровых очках по рангам и средних игровых очках по рангам, две версии (полная и 5 игр) не так уж похожи. \n",
    "\n",
    "Исходя из этого, окончательные характеристики:\n",
    "- rank_dif\n",
    "- goals_dif\n",
    "- goals_dif_l5\n",
    "- goals_suf_dif\n",
    "- goals_suf_dif_l5\n",
    "- dif_rank_agst\n",
    "- dif_rank_agst_l5\n",
    "- goals_per_ranking_dif\n",
    "- dif_points_rank\n",
    "- dif_points_rank_l5\n",
    "- is_friendly"
   ]
  },
  {
   "cell_type": "code",
   "execution_count": 72,
   "metadata": {
    "execution": {
     "iopub.execute_input": "2023-01-10T12:11:14.811022Z",
     "iopub.status.busy": "2023-01-10T12:11:14.810453Z",
     "iopub.status.idle": "2023-01-10T12:11:14.821488Z",
     "shell.execute_reply": "2023-01-10T12:11:14.820329Z"
    },
    "papermill": {
     "duration": 0.072976,
     "end_time": "2023-01-10T12:11:14.824012",
     "exception": false,
     "start_time": "2023-01-10T12:11:14.751036",
     "status": "completed"
    },
    "tags": []
   },
   "outputs": [],
   "source": [
    "def create_db(df):\n",
    "    columns = [\"home_team\", \"away_team\", \"result\", \"rank_dif\", \"home_goals_mean\", \"home_rank_mean\", \"away_goals_mean\", \"away_rank_mean\", \"home_rank_mean_l5\", \"away_rank_mean_l5\", \"home_goals_suf_mean\", \"away_goals_suf_mean\", \"home_goals_mean_l5\", \"away_goals_mean_l5\", \"home_goals_suf_mean_l5\", \"away_goals_suf_mean_l5\", \"home_game_points_rank_mean\", \"home_game_points_rank_mean_l5\", \"away_game_points_rank_mean\", \"away_game_points_rank_mean_l5\",\"is_friendly_1\"]\n",
    "    \n",
    "    base = df.loc[:, columns]\n",
    "    base.loc[:, \"goals_dif\"] = base[\"home_goals_mean\"] - base[\"away_goals_mean\"]\n",
    "    base.loc[:, \"goals_dif_l5\"] = base[\"home_goals_mean_l5\"] - base[\"away_goals_mean_l5\"]\n",
    "    base.loc[:, \"goals_suf_dif\"] = base[\"home_goals_suf_mean\"] - base[\"away_goals_suf_mean\"]\n",
    "    base.loc[:, \"goals_suf_dif_l5\"] = base[\"home_goals_suf_mean_l5\"] - base[\"away_goals_suf_mean_l5\"]\n",
    "    base.loc[:, \"goals_per_ranking_dif\"] = (base[\"home_goals_mean\"] / base[\"home_rank_mean\"]) - (base[\"away_goals_mean\"] / base[\"away_rank_mean\"])\n",
    "    base.loc[:, \"dif_rank_agst\"] = base[\"home_rank_mean\"] - base[\"away_rank_mean\"]\n",
    "    base.loc[:, \"dif_rank_agst_l5\"] = base[\"home_rank_mean_l5\"] - base[\"away_rank_mean_l5\"]\n",
    "    base.loc[:, \"dif_points_rank\"] = base[\"home_game_points_rank_mean\"] - base[\"away_game_points_rank_mean\"]\n",
    "    base.loc[:, \"dif_points_rank_l5\"] = base[\"home_game_points_rank_mean_l5\"] - base[\"away_game_points_rank_mean_l5\"]\n",
    "    \n",
    "    model_df = base[[\"home_team\", \"away_team\", \"result\", \"rank_dif\", \"goals_dif\", \"goals_dif_l5\", \"goals_suf_dif\", \"goals_suf_dif_l5\", \"goals_per_ranking_dif\", \"dif_rank_agst\", \"dif_rank_agst_l5\", \"dif_points_rank\", \"dif_points_rank_l5\", \"is_friendly_1\"]]\n",
    "    return model_df.reset_index(drop=True)"
   ]
  },
  {
   "cell_type": "code",
   "execution_count": 73,
   "metadata": {
    "execution": {
     "iopub.execute_input": "2023-01-10T12:11:14.944316Z",
     "iopub.status.busy": "2023-01-10T12:11:14.943415Z",
     "iopub.status.idle": "2023-01-10T12:11:14.959537Z",
     "shell.execute_reply": "2023-01-10T12:11:14.958108Z"
    },
    "papermill": {
     "duration": 0.079727,
     "end_time": "2023-01-10T12:11:14.962582",
     "exception": false,
     "start_time": "2023-01-10T12:11:14.882855",
     "status": "completed"
    },
    "tags": []
   },
   "outputs": [],
   "source": [
    "model_db = create_db(df)"
   ]
  },
  {
   "cell_type": "code",
   "execution_count": 74,
   "metadata": {
    "execution": {
     "iopub.execute_input": "2023-01-10T12:11:15.087388Z",
     "iopub.status.busy": "2023-01-10T12:11:15.086910Z",
     "iopub.status.idle": "2023-01-10T12:11:15.114956Z",
     "shell.execute_reply": "2023-01-10T12:11:15.113717Z"
    },
    "papermill": {
     "duration": 0.092692,
     "end_time": "2023-01-10T12:11:15.117512",
     "exception": false,
     "start_time": "2023-01-10T12:11:15.024820",
     "status": "completed"
    },
    "tags": []
   },
   "outputs": [
    {
     "data": {
      "text/html": [
       "<div>\n",
       "<style scoped>\n",
       "    .dataframe tbody tr th:only-of-type {\n",
       "        vertical-align: middle;\n",
       "    }\n",
       "\n",
       "    .dataframe tbody tr th {\n",
       "        vertical-align: top;\n",
       "    }\n",
       "\n",
       "    .dataframe thead th {\n",
       "        text-align: right;\n",
       "    }\n",
       "</style>\n",
       "<table border=\"1\" class=\"dataframe\">\n",
       "  <thead>\n",
       "    <tr style=\"text-align: right;\">\n",
       "      <th></th>\n",
       "      <th>home_team</th>\n",
       "      <th>away_team</th>\n",
       "      <th>result</th>\n",
       "      <th>rank_dif</th>\n",
       "      <th>goals_dif</th>\n",
       "      <th>goals_dif_l5</th>\n",
       "      <th>goals_suf_dif</th>\n",
       "      <th>goals_suf_dif_l5</th>\n",
       "      <th>goals_per_ranking_dif</th>\n",
       "      <th>dif_rank_agst</th>\n",
       "      <th>dif_rank_agst_l5</th>\n",
       "      <th>dif_points_rank</th>\n",
       "      <th>dif_points_rank_l5</th>\n",
       "      <th>is_friendly_1</th>\n",
       "    </tr>\n",
       "  </thead>\n",
       "  <tbody>\n",
       "    <tr>\n",
       "      <th>0</th>\n",
       "      <td>Ethiopia</td>\n",
       "      <td>Chad</td>\n",
       "      <td>0</td>\n",
       "      <td>20.0</td>\n",
       "      <td>-1.000000</td>\n",
       "      <td>-1.0</td>\n",
       "      <td>0.000000</td>\n",
       "      <td>0.0</td>\n",
       "      <td>-0.015625</td>\n",
       "      <td>52.000000</td>\n",
       "      <td>52.0</td>\n",
       "      <td>0.000000</td>\n",
       "      <td>0.000000</td>\n",
       "      <td>1</td>\n",
       "    </tr>\n",
       "    <tr>\n",
       "      <th>1</th>\n",
       "      <td>Algeria</td>\n",
       "      <td>Tanzania</td>\n",
       "      <td>1</td>\n",
       "      <td>-78.0</td>\n",
       "      <td>0.000000</td>\n",
       "      <td>0.0</td>\n",
       "      <td>1.000000</td>\n",
       "      <td>1.0</td>\n",
       "      <td>0.020791</td>\n",
       "      <td>-82.000000</td>\n",
       "      <td>-82.0</td>\n",
       "      <td>-0.008621</td>\n",
       "      <td>-0.008621</td>\n",
       "      <td>0</td>\n",
       "    </tr>\n",
       "    <tr>\n",
       "      <th>2</th>\n",
       "      <td>Andorra</td>\n",
       "      <td>Russia</td>\n",
       "      <td>1</td>\n",
       "      <td>185.0</td>\n",
       "      <td>-1.000000</td>\n",
       "      <td>-1.0</td>\n",
       "      <td>1.000000</td>\n",
       "      <td>1.0</td>\n",
       "      <td>-0.023256</td>\n",
       "      <td>20.000000</td>\n",
       "      <td>20.0</td>\n",
       "      <td>-0.069767</td>\n",
       "      <td>-0.069767</td>\n",
       "      <td>0</td>\n",
       "    </tr>\n",
       "    <tr>\n",
       "      <th>3</th>\n",
       "      <td>Armenia</td>\n",
       "      <td>Republic of Ireland</td>\n",
       "      <td>1</td>\n",
       "      <td>60.0</td>\n",
       "      <td>1.000000</td>\n",
       "      <td>1.0</td>\n",
       "      <td>2.000000</td>\n",
       "      <td>2.0</td>\n",
       "      <td>0.015385</td>\n",
       "      <td>60.000000</td>\n",
       "      <td>60.0</td>\n",
       "      <td>0.000000</td>\n",
       "      <td>0.000000</td>\n",
       "      <td>0</td>\n",
       "    </tr>\n",
       "    <tr>\n",
       "      <th>4</th>\n",
       "      <td>Belgium</td>\n",
       "      <td>Germany</td>\n",
       "      <td>1</td>\n",
       "      <td>44.0</td>\n",
       "      <td>-2.000000</td>\n",
       "      <td>-2.0</td>\n",
       "      <td>-1.000000</td>\n",
       "      <td>-1.0</td>\n",
       "      <td>-0.068966</td>\n",
       "      <td>22.000000</td>\n",
       "      <td>22.0</td>\n",
       "      <td>-0.034483</td>\n",
       "      <td>-0.034483</td>\n",
       "      <td>0</td>\n",
       "    </tr>\n",
       "    <tr>\n",
       "      <th>...</th>\n",
       "      <td>...</td>\n",
       "      <td>...</td>\n",
       "      <td>...</td>\n",
       "      <td>...</td>\n",
       "      <td>...</td>\n",
       "      <td>...</td>\n",
       "      <td>...</td>\n",
       "      <td>...</td>\n",
       "      <td>...</td>\n",
       "      <td>...</td>\n",
       "      <td>...</td>\n",
       "      <td>...</td>\n",
       "      <td>...</td>\n",
       "      <td>...</td>\n",
       "    </tr>\n",
       "    <tr>\n",
       "      <th>9836</th>\n",
       "      <td>Malaysia</td>\n",
       "      <td>Maldives</td>\n",
       "      <td>0</td>\n",
       "      <td>-8.0</td>\n",
       "      <td>-0.010776</td>\n",
       "      <td>0.6</td>\n",
       "      <td>-0.366649</td>\n",
       "      <td>-0.8</td>\n",
       "      <td>0.000630</td>\n",
       "      <td>-10.325251</td>\n",
       "      <td>-19.6</td>\n",
       "      <td>0.001845</td>\n",
       "      <td>0.000855</td>\n",
       "      <td>1</td>\n",
       "    </tr>\n",
       "    <tr>\n",
       "      <th>9837</th>\n",
       "      <td>Vietnam</td>\n",
       "      <td>Philippines</td>\n",
       "      <td>0</td>\n",
       "      <td>-37.0</td>\n",
       "      <td>0.202249</td>\n",
       "      <td>1.8</td>\n",
       "      <td>0.058659</td>\n",
       "      <td>-1.2</td>\n",
       "      <td>0.003233</td>\n",
       "      <td>-21.189474</td>\n",
       "      <td>-47.4</td>\n",
       "      <td>0.002502</td>\n",
       "      <td>0.017688</td>\n",
       "      <td>1</td>\n",
       "    </tr>\n",
       "    <tr>\n",
       "      <th>9838</th>\n",
       "      <td>Croatia</td>\n",
       "      <td>Morocco</td>\n",
       "      <td>0</td>\n",
       "      <td>-10.0</td>\n",
       "      <td>0.059221</td>\n",
       "      <td>0.2</td>\n",
       "      <td>0.299086</td>\n",
       "      <td>0.6</td>\n",
       "      <td>0.014309</td>\n",
       "      <td>-27.355525</td>\n",
       "      <td>1.6</td>\n",
       "      <td>0.038223</td>\n",
       "      <td>-0.086905</td>\n",
       "      <td>0</td>\n",
       "    </tr>\n",
       "    <tr>\n",
       "      <th>9839</th>\n",
       "      <td>Singapore</td>\n",
       "      <td>Maldives</td>\n",
       "      <td>0</td>\n",
       "      <td>6.0</td>\n",
       "      <td>-0.245378</td>\n",
       "      <td>0.0</td>\n",
       "      <td>-0.230740</td>\n",
       "      <td>0.0</td>\n",
       "      <td>-0.000677</td>\n",
       "      <td>-16.252504</td>\n",
       "      <td>-38.8</td>\n",
       "      <td>0.001197</td>\n",
       "      <td>-0.002123</td>\n",
       "      <td>1</td>\n",
       "    </tr>\n",
       "    <tr>\n",
       "      <th>9840</th>\n",
       "      <td>Argentina</td>\n",
       "      <td>France</td>\n",
       "      <td>1</td>\n",
       "      <td>-1.0</td>\n",
       "      <td>-0.005168</td>\n",
       "      <td>0.4</td>\n",
       "      <td>-0.015877</td>\n",
       "      <td>-0.2</td>\n",
       "      <td>0.002043</td>\n",
       "      <td>-1.548094</td>\n",
       "      <td>0.8</td>\n",
       "      <td>0.025938</td>\n",
       "      <td>-0.070329</td>\n",
       "      <td>0</td>\n",
       "    </tr>\n",
       "  </tbody>\n",
       "</table>\n",
       "<p>9841 rows × 14 columns</p>\n",
       "</div>"
      ],
      "text/plain": [
       "      home_team            away_team  result  rank_dif  goals_dif  \\\n",
       "0      Ethiopia                 Chad       0      20.0  -1.000000   \n",
       "1       Algeria             Tanzania       1     -78.0   0.000000   \n",
       "2       Andorra               Russia       1     185.0  -1.000000   \n",
       "3       Armenia  Republic of Ireland       1      60.0   1.000000   \n",
       "4       Belgium              Germany       1      44.0  -2.000000   \n",
       "...         ...                  ...     ...       ...        ...   \n",
       "9836   Malaysia             Maldives       0      -8.0  -0.010776   \n",
       "9837    Vietnam          Philippines       0     -37.0   0.202249   \n",
       "9838    Croatia              Morocco       0     -10.0   0.059221   \n",
       "9839  Singapore             Maldives       0       6.0  -0.245378   \n",
       "9840  Argentina               France       1      -1.0  -0.005168   \n",
       "\n",
       "      goals_dif_l5  goals_suf_dif  goals_suf_dif_l5  goals_per_ranking_dif  \\\n",
       "0             -1.0       0.000000               0.0              -0.015625   \n",
       "1              0.0       1.000000               1.0               0.020791   \n",
       "2             -1.0       1.000000               1.0              -0.023256   \n",
       "3              1.0       2.000000               2.0               0.015385   \n",
       "4             -2.0      -1.000000              -1.0              -0.068966   \n",
       "...            ...            ...               ...                    ...   \n",
       "9836           0.6      -0.366649              -0.8               0.000630   \n",
       "9837           1.8       0.058659              -1.2               0.003233   \n",
       "9838           0.2       0.299086               0.6               0.014309   \n",
       "9839           0.0      -0.230740               0.0              -0.000677   \n",
       "9840           0.4      -0.015877              -0.2               0.002043   \n",
       "\n",
       "      dif_rank_agst  dif_rank_agst_l5  dif_points_rank  dif_points_rank_l5  \\\n",
       "0         52.000000              52.0         0.000000            0.000000   \n",
       "1        -82.000000             -82.0        -0.008621           -0.008621   \n",
       "2         20.000000              20.0        -0.069767           -0.069767   \n",
       "3         60.000000              60.0         0.000000            0.000000   \n",
       "4         22.000000              22.0        -0.034483           -0.034483   \n",
       "...             ...               ...              ...                 ...   \n",
       "9836     -10.325251             -19.6         0.001845            0.000855   \n",
       "9837     -21.189474             -47.4         0.002502            0.017688   \n",
       "9838     -27.355525               1.6         0.038223           -0.086905   \n",
       "9839     -16.252504             -38.8         0.001197           -0.002123   \n",
       "9840      -1.548094               0.8         0.025938           -0.070329   \n",
       "\n",
       "      is_friendly_1  \n",
       "0                 1  \n",
       "1                 0  \n",
       "2                 0  \n",
       "3                 0  \n",
       "4                 0  \n",
       "...             ...  \n",
       "9836              1  \n",
       "9837              1  \n",
       "9838              0  \n",
       "9839              1  \n",
       "9840              0  \n",
       "\n",
       "[9841 rows x 14 columns]"
      ]
     },
     "execution_count": 74,
     "metadata": {},
     "output_type": "execute_result"
    }
   ],
   "source": [
    "model_db"
   ]
  },
  {
   "cell_type": "markdown",
   "metadata": {
    "papermill": {
     "duration": 0.059337,
     "end_time": "2023-01-10T12:11:15.357638",
     "exception": false,
     "start_time": "2023-01-10T12:11:15.298301",
     "status": "completed"
    },
    "tags": []
   },
   "source": [
    "# Выделение целевой переменной"
   ]
  },
  {
   "cell_type": "code",
   "execution_count": 75,
   "metadata": {
    "execution": {
     "iopub.execute_input": "2023-01-10T12:11:15.481984Z",
     "iopub.status.busy": "2023-01-10T12:11:15.481055Z",
     "iopub.status.idle": "2023-01-10T12:11:15.487685Z",
     "shell.execute_reply": "2023-01-10T12:11:15.486738Z"
    },
    "papermill": {
     "duration": 0.072139,
     "end_time": "2023-01-10T12:11:15.490534",
     "exception": false,
     "start_time": "2023-01-10T12:11:15.418395",
     "status": "completed"
    },
    "tags": []
   },
   "outputs": [],
   "source": [
    "X = model_db.iloc[:, 3:]\n",
    "y = model_db[[\"result\"]]"
   ]
  },
  {
   "cell_type": "code",
   "execution_count": 76,
   "metadata": {
    "execution": {
     "iopub.execute_input": "2023-01-10T12:11:15.611904Z",
     "iopub.status.busy": "2023-01-10T12:11:15.611414Z",
     "iopub.status.idle": "2023-01-10T12:11:15.635986Z",
     "shell.execute_reply": "2023-01-10T12:11:15.634130Z"
    },
    "papermill": {
     "duration": 0.088052,
     "end_time": "2023-01-10T12:11:15.639050",
     "exception": false,
     "start_time": "2023-01-10T12:11:15.550998",
     "status": "completed"
    },
    "tags": []
   },
   "outputs": [
    {
     "data": {
      "text/html": [
       "<div>\n",
       "<style scoped>\n",
       "    .dataframe tbody tr th:only-of-type {\n",
       "        vertical-align: middle;\n",
       "    }\n",
       "\n",
       "    .dataframe tbody tr th {\n",
       "        vertical-align: top;\n",
       "    }\n",
       "\n",
       "    .dataframe thead th {\n",
       "        text-align: right;\n",
       "    }\n",
       "</style>\n",
       "<table border=\"1\" class=\"dataframe\">\n",
       "  <thead>\n",
       "    <tr style=\"text-align: right;\">\n",
       "      <th></th>\n",
       "      <th>rank_dif</th>\n",
       "      <th>goals_dif</th>\n",
       "      <th>goals_dif_l5</th>\n",
       "      <th>goals_suf_dif</th>\n",
       "      <th>goals_suf_dif_l5</th>\n",
       "      <th>goals_per_ranking_dif</th>\n",
       "      <th>dif_rank_agst</th>\n",
       "      <th>dif_rank_agst_l5</th>\n",
       "      <th>dif_points_rank</th>\n",
       "      <th>dif_points_rank_l5</th>\n",
       "      <th>is_friendly_1</th>\n",
       "    </tr>\n",
       "  </thead>\n",
       "  <tbody>\n",
       "    <tr>\n",
       "      <th>0</th>\n",
       "      <td>20.0</td>\n",
       "      <td>-1.000000</td>\n",
       "      <td>-1.0</td>\n",
       "      <td>0.000000</td>\n",
       "      <td>0.0</td>\n",
       "      <td>-0.015625</td>\n",
       "      <td>52.000000</td>\n",
       "      <td>52.0</td>\n",
       "      <td>0.000000</td>\n",
       "      <td>0.000000</td>\n",
       "      <td>1</td>\n",
       "    </tr>\n",
       "    <tr>\n",
       "      <th>1</th>\n",
       "      <td>-78.0</td>\n",
       "      <td>0.000000</td>\n",
       "      <td>0.0</td>\n",
       "      <td>1.000000</td>\n",
       "      <td>1.0</td>\n",
       "      <td>0.020791</td>\n",
       "      <td>-82.000000</td>\n",
       "      <td>-82.0</td>\n",
       "      <td>-0.008621</td>\n",
       "      <td>-0.008621</td>\n",
       "      <td>0</td>\n",
       "    </tr>\n",
       "    <tr>\n",
       "      <th>2</th>\n",
       "      <td>185.0</td>\n",
       "      <td>-1.000000</td>\n",
       "      <td>-1.0</td>\n",
       "      <td>1.000000</td>\n",
       "      <td>1.0</td>\n",
       "      <td>-0.023256</td>\n",
       "      <td>20.000000</td>\n",
       "      <td>20.0</td>\n",
       "      <td>-0.069767</td>\n",
       "      <td>-0.069767</td>\n",
       "      <td>0</td>\n",
       "    </tr>\n",
       "    <tr>\n",
       "      <th>3</th>\n",
       "      <td>60.0</td>\n",
       "      <td>1.000000</td>\n",
       "      <td>1.0</td>\n",
       "      <td>2.000000</td>\n",
       "      <td>2.0</td>\n",
       "      <td>0.015385</td>\n",
       "      <td>60.000000</td>\n",
       "      <td>60.0</td>\n",
       "      <td>0.000000</td>\n",
       "      <td>0.000000</td>\n",
       "      <td>0</td>\n",
       "    </tr>\n",
       "    <tr>\n",
       "      <th>4</th>\n",
       "      <td>44.0</td>\n",
       "      <td>-2.000000</td>\n",
       "      <td>-2.0</td>\n",
       "      <td>-1.000000</td>\n",
       "      <td>-1.0</td>\n",
       "      <td>-0.068966</td>\n",
       "      <td>22.000000</td>\n",
       "      <td>22.0</td>\n",
       "      <td>-0.034483</td>\n",
       "      <td>-0.034483</td>\n",
       "      <td>0</td>\n",
       "    </tr>\n",
       "    <tr>\n",
       "      <th>...</th>\n",
       "      <td>...</td>\n",
       "      <td>...</td>\n",
       "      <td>...</td>\n",
       "      <td>...</td>\n",
       "      <td>...</td>\n",
       "      <td>...</td>\n",
       "      <td>...</td>\n",
       "      <td>...</td>\n",
       "      <td>...</td>\n",
       "      <td>...</td>\n",
       "      <td>...</td>\n",
       "    </tr>\n",
       "    <tr>\n",
       "      <th>9836</th>\n",
       "      <td>-8.0</td>\n",
       "      <td>-0.010776</td>\n",
       "      <td>0.6</td>\n",
       "      <td>-0.366649</td>\n",
       "      <td>-0.8</td>\n",
       "      <td>0.000630</td>\n",
       "      <td>-10.325251</td>\n",
       "      <td>-19.6</td>\n",
       "      <td>0.001845</td>\n",
       "      <td>0.000855</td>\n",
       "      <td>1</td>\n",
       "    </tr>\n",
       "    <tr>\n",
       "      <th>9837</th>\n",
       "      <td>-37.0</td>\n",
       "      <td>0.202249</td>\n",
       "      <td>1.8</td>\n",
       "      <td>0.058659</td>\n",
       "      <td>-1.2</td>\n",
       "      <td>0.003233</td>\n",
       "      <td>-21.189474</td>\n",
       "      <td>-47.4</td>\n",
       "      <td>0.002502</td>\n",
       "      <td>0.017688</td>\n",
       "      <td>1</td>\n",
       "    </tr>\n",
       "    <tr>\n",
       "      <th>9838</th>\n",
       "      <td>-10.0</td>\n",
       "      <td>0.059221</td>\n",
       "      <td>0.2</td>\n",
       "      <td>0.299086</td>\n",
       "      <td>0.6</td>\n",
       "      <td>0.014309</td>\n",
       "      <td>-27.355525</td>\n",
       "      <td>1.6</td>\n",
       "      <td>0.038223</td>\n",
       "      <td>-0.086905</td>\n",
       "      <td>0</td>\n",
       "    </tr>\n",
       "    <tr>\n",
       "      <th>9839</th>\n",
       "      <td>6.0</td>\n",
       "      <td>-0.245378</td>\n",
       "      <td>0.0</td>\n",
       "      <td>-0.230740</td>\n",
       "      <td>0.0</td>\n",
       "      <td>-0.000677</td>\n",
       "      <td>-16.252504</td>\n",
       "      <td>-38.8</td>\n",
       "      <td>0.001197</td>\n",
       "      <td>-0.002123</td>\n",
       "      <td>1</td>\n",
       "    </tr>\n",
       "    <tr>\n",
       "      <th>9840</th>\n",
       "      <td>-1.0</td>\n",
       "      <td>-0.005168</td>\n",
       "      <td>0.4</td>\n",
       "      <td>-0.015877</td>\n",
       "      <td>-0.2</td>\n",
       "      <td>0.002043</td>\n",
       "      <td>-1.548094</td>\n",
       "      <td>0.8</td>\n",
       "      <td>0.025938</td>\n",
       "      <td>-0.070329</td>\n",
       "      <td>0</td>\n",
       "    </tr>\n",
       "  </tbody>\n",
       "</table>\n",
       "<p>9841 rows × 11 columns</p>\n",
       "</div>"
      ],
      "text/plain": [
       "      rank_dif  goals_dif  goals_dif_l5  goals_suf_dif  goals_suf_dif_l5  \\\n",
       "0         20.0  -1.000000          -1.0       0.000000               0.0   \n",
       "1        -78.0   0.000000           0.0       1.000000               1.0   \n",
       "2        185.0  -1.000000          -1.0       1.000000               1.0   \n",
       "3         60.0   1.000000           1.0       2.000000               2.0   \n",
       "4         44.0  -2.000000          -2.0      -1.000000              -1.0   \n",
       "...        ...        ...           ...            ...               ...   \n",
       "9836      -8.0  -0.010776           0.6      -0.366649              -0.8   \n",
       "9837     -37.0   0.202249           1.8       0.058659              -1.2   \n",
       "9838     -10.0   0.059221           0.2       0.299086               0.6   \n",
       "9839       6.0  -0.245378           0.0      -0.230740               0.0   \n",
       "9840      -1.0  -0.005168           0.4      -0.015877              -0.2   \n",
       "\n",
       "      goals_per_ranking_dif  dif_rank_agst  dif_rank_agst_l5  dif_points_rank  \\\n",
       "0                 -0.015625      52.000000              52.0         0.000000   \n",
       "1                  0.020791     -82.000000             -82.0        -0.008621   \n",
       "2                 -0.023256      20.000000              20.0        -0.069767   \n",
       "3                  0.015385      60.000000              60.0         0.000000   \n",
       "4                 -0.068966      22.000000              22.0        -0.034483   \n",
       "...                     ...            ...               ...              ...   \n",
       "9836               0.000630     -10.325251             -19.6         0.001845   \n",
       "9837               0.003233     -21.189474             -47.4         0.002502   \n",
       "9838               0.014309     -27.355525               1.6         0.038223   \n",
       "9839              -0.000677     -16.252504             -38.8         0.001197   \n",
       "9840               0.002043      -1.548094               0.8         0.025938   \n",
       "\n",
       "      dif_points_rank_l5  is_friendly_1  \n",
       "0               0.000000              1  \n",
       "1              -0.008621              0  \n",
       "2              -0.069767              0  \n",
       "3               0.000000              0  \n",
       "4              -0.034483              0  \n",
       "...                  ...            ...  \n",
       "9836            0.000855              1  \n",
       "9837            0.017688              1  \n",
       "9838           -0.086905              0  \n",
       "9839           -0.002123              1  \n",
       "9840           -0.070329              0  \n",
       "\n",
       "[9841 rows x 11 columns]"
      ]
     },
     "execution_count": 76,
     "metadata": {},
     "output_type": "execute_result"
    }
   ],
   "source": [
    "X"
   ]
  },
  {
   "cell_type": "code",
   "execution_count": 77,
   "metadata": {
    "execution": {
     "iopub.execute_input": "2023-01-10T12:11:15.762554Z",
     "iopub.status.busy": "2023-01-10T12:11:15.761300Z",
     "iopub.status.idle": "2023-01-10T12:11:15.771526Z",
     "shell.execute_reply": "2023-01-10T12:11:15.770635Z"
    },
    "papermill": {
     "duration": 0.074081,
     "end_time": "2023-01-10T12:11:15.774441",
     "exception": false,
     "start_time": "2023-01-10T12:11:15.700360",
     "status": "completed"
    },
    "tags": []
   },
   "outputs": [
    {
     "data": {
      "text/html": [
       "<div>\n",
       "<style scoped>\n",
       "    .dataframe tbody tr th:only-of-type {\n",
       "        vertical-align: middle;\n",
       "    }\n",
       "\n",
       "    .dataframe tbody tr th {\n",
       "        vertical-align: top;\n",
       "    }\n",
       "\n",
       "    .dataframe thead th {\n",
       "        text-align: right;\n",
       "    }\n",
       "</style>\n",
       "<table border=\"1\" class=\"dataframe\">\n",
       "  <thead>\n",
       "    <tr style=\"text-align: right;\">\n",
       "      <th></th>\n",
       "      <th>result</th>\n",
       "    </tr>\n",
       "  </thead>\n",
       "  <tbody>\n",
       "    <tr>\n",
       "      <th>0</th>\n",
       "      <td>0</td>\n",
       "    </tr>\n",
       "    <tr>\n",
       "      <th>1</th>\n",
       "      <td>1</td>\n",
       "    </tr>\n",
       "    <tr>\n",
       "      <th>2</th>\n",
       "      <td>1</td>\n",
       "    </tr>\n",
       "    <tr>\n",
       "      <th>3</th>\n",
       "      <td>1</td>\n",
       "    </tr>\n",
       "    <tr>\n",
       "      <th>4</th>\n",
       "      <td>1</td>\n",
       "    </tr>\n",
       "  </tbody>\n",
       "</table>\n",
       "</div>"
      ],
      "text/plain": [
       "   result\n",
       "0       0\n",
       "1       1\n",
       "2       1\n",
       "3       1\n",
       "4       1"
      ]
     },
     "execution_count": 77,
     "metadata": {},
     "output_type": "execute_result"
    }
   ],
   "source": [
    "y.head()"
   ]
  },
  {
   "cell_type": "markdown",
   "metadata": {
    "papermill": {
     "duration": 0.062038,
     "end_time": "2023-01-10T12:11:15.896360",
     "exception": false,
     "start_time": "2023-01-10T12:11:15.834322",
     "status": "completed"
    },
    "tags": []
   },
   "source": [
    "#### Разделение набора данных на обучающую и тестовую выборки."
   ]
  },
  {
   "cell_type": "code",
   "execution_count": 78,
   "metadata": {
    "execution": {
     "iopub.execute_input": "2023-01-10T12:11:16.019262Z",
     "iopub.status.busy": "2023-01-10T12:11:16.018424Z",
     "iopub.status.idle": "2023-01-10T12:11:16.027337Z",
     "shell.execute_reply": "2023-01-10T12:11:16.026020Z"
    },
    "papermill": {
     "duration": 0.07213,
     "end_time": "2023-01-10T12:11:16.030043",
     "exception": false,
     "start_time": "2023-01-10T12:11:15.957913",
     "status": "completed"
    },
    "tags": []
   },
   "outputs": [],
   "source": [
    "X_train, X_test, y_train, y_test = train_test_split(X, y, test_size= 0.2, random_state=1)"
   ]
  },
  {
   "cell_type": "markdown",
   "metadata": {
    "papermill": {
     "duration": 0.059013,
     "end_time": "2023-01-10T12:11:16.149624",
     "exception": false,
     "start_time": "2023-01-10T12:11:16.090611",
     "status": "completed"
    },
    "tags": []
   },
   "source": [
    "#### Вспомогательная функция"
   ]
  },
  {
   "cell_type": "code",
   "execution_count": 79,
   "metadata": {
    "execution": {
     "iopub.execute_input": "2023-01-10T12:11:16.268489Z",
     "iopub.status.busy": "2023-01-10T12:11:16.267550Z",
     "iopub.status.idle": "2023-01-10T12:11:16.277085Z",
     "shell.execute_reply": "2023-01-10T12:11:16.276087Z"
    },
    "papermill": {
     "duration": 0.071991,
     "end_time": "2023-01-10T12:11:16.279777",
     "exception": false,
     "start_time": "2023-01-10T12:11:16.207786",
     "status": "completed"
    },
    "tags": []
   },
   "outputs": [],
   "source": [
    "def analyze(model):\n",
    "    fpr, tpr, _ = roc_curve(y_test, model.predict_proba(X_test.values)[:,1]) #test AUC\n",
    "    plt.figure(figsize=(15,10))\n",
    "    plt.plot([0, 1], [0, 1], 'k--')\n",
    "    plt.plot(fpr, tpr, label=\"test\")\n",
    "\n",
    "    fpr_train, tpr_train, _ = roc_curve(y_train, model.predict_proba(X_train.values)[:,1]) #train AUC\n",
    "    plt.plot(fpr_train, tpr_train, label=\"train\")\n",
    "    auc_test = roc_auc_score(y_test, model.predict_proba(X_test.values)[:,1])\n",
    "    auc_train = roc_auc_score(y_train, model.predict_proba(X_train.values)[:,1])\n",
    "    plt.legend()\n",
    "    plt.title('AUC score is %.2f on test and %.2f on training'%(auc_test, auc_train))\n",
    "    plt.show()\n",
    "    \n",
    "    plt.figure(figsize=(15, 10))\n",
    "    cm = confusion_matrix(y_test, model.predict(X_test.values))\n",
    "    sns.heatmap(cm, annot=True, fmt=\"d\")"
   ]
  },
  {
   "cell_type": "markdown",
   "metadata": {
    "papermill": {
     "duration": 0.060889,
     "end_time": "2023-01-10T12:11:16.401470",
     "exception": false,
     "start_time": "2023-01-10T12:11:16.340581",
     "status": "completed"
    },
    "tags": []
   },
   "source": [
    "## ML Models"
   ]
  },
  {
   "cell_type": "markdown",
   "metadata": {
    "papermill": {
     "duration": 0.057815,
     "end_time": "2023-01-10T12:11:17.016520",
     "exception": false,
     "start_time": "2023-01-10T12:11:16.958705",
     "status": "completed"
    },
    "tags": []
   },
   "source": [
    "# Bagging Vs Boosting"
   ]
  },
  {
   "cell_type": "code",
   "execution_count": 80,
   "metadata": {
    "execution": {
     "iopub.execute_input": "2023-01-10T12:11:18.796987Z",
     "iopub.status.busy": "2023-01-10T12:11:18.796118Z",
     "iopub.status.idle": "2023-01-10T12:11:20.306975Z",
     "shell.execute_reply": "2023-01-10T12:11:20.305791Z"
    },
    "papermill": {
     "duration": 1.575107,
     "end_time": "2023-01-10T12:11:20.309674",
     "exception": false,
     "start_time": "2023-01-10T12:11:18.734567",
     "status": "completed"
    },
    "tags": []
   },
   "outputs": [
    {
     "data": {
      "image/png": "[encoded data removed]",
      "text/plain": [
       "<Figure size 1080x720 with 1 Axes>"
      ]
     },
     "metadata": {
      "needs_background": "light"
     },
     "output_type": "display_data"
    },
    {
     "data": {
      "image/png": "[encoded data removed]",
      "text/plain": [
       "<Figure size 1080x720 with 2 Axes>"
      ]
     },
     "metadata": {
      "needs_background": "light"
     },
     "output_type": "display_data"
    }
   ],
   "source": [
    "rf = RandomForestClassifier(random_state=1)\n",
    "\n",
    "rf.fit(X_train.values, np.ravel(y_train))\n",
    "\n",
    "analyze(rf)"
   ]
  },
  {
   "cell_type": "code",
   "execution_count": 81,
   "metadata": {
    "execution": {
     "iopub.execute_input": "2023-01-10T12:11:20.449131Z",
     "iopub.status.busy": "2023-01-10T12:11:20.448650Z",
     "iopub.status.idle": "2023-01-10T12:11:25.998711Z",
     "shell.execute_reply": "2023-01-10T12:11:25.997331Z"
    },
    "papermill": {
     "duration": 5.625602,
     "end_time": "2023-01-10T12:11:26.001619",
     "exception": false,
     "start_time": "2023-01-10T12:11:20.376017",
     "status": "completed"
    },
    "tags": []
   },
   "outputs": [
    {
     "data": {
      "image/png": "[encoded data removed]",
      "text/plain": [
       "<Figure size 1080x720 with 1 Axes>"
      ]
     },
     "metadata": {
      "needs_background": "light"
     },
     "output_type": "display_data"
    },
    {
     "data": {
      "image/png": "[encoded data removed]",
      "text/plain": [
       "<Figure size 1080x720 with 2 Axes>"
      ]
     },
     "metadata": {
      "needs_background": "light"
     },
     "output_type": "display_data"
    }
   ],
   "source": [
    "params_rf = {\"max_depth\": [20],\n",
    "                \"min_samples_split\": [10],\n",
    "                \"max_leaf_nodes\": [175],\n",
    "                \"min_samples_leaf\": [5],\n",
    "                \"n_estimators\": [250],\n",
    "                 \"max_features\": [\"sqrt\"],\n",
    "                }\n",
    "\n",
    "rf_cv = GridSearchCV(rf, params_rf, cv = 3, n_jobs = -1, verbose = False)\n",
    "\n",
    "rf_cv.fit(X_train.values, np.ravel(y_train))\n",
    "rf_f = rf_cv.best_estimator_\n",
    "analyze(rf_f)"
   ]
  },
  {
   "cell_type": "markdown",
   "metadata": {
    "papermill": {
     "duration": 0.061845,
     "end_time": "2023-01-10T12:11:26.134515",
     "exception": false,
     "start_time": "2023-01-10T12:11:26.072670",
     "status": "completed"
    },
    "tags": []
   },
   "source": [
    "# GradientBoostingClassifier\n",
    "#### Этот алгоритм поэтапно строит аддитивную модель, позволяя оптимизировать произвольные дифференцируемые функции потерь.\n",
    "- На каждом этапе деревья регрессии n_classes_ соответствуют отрицательному градиенту функции потерь, например. потеря бинарного или мультиклассового журнала.\n",
    "\n",
    "- Бинарная классификация представляет собой особый случай, когда индуцируется только одно дерево регрессии."
   ]
  },
  {
   "cell_type": "code",
   "execution_count": 82,
   "metadata": {
    "execution": {
     "iopub.execute_input": "2023-01-10T12:11:26.266271Z",
     "iopub.status.busy": "2023-01-10T12:11:26.265230Z",
     "iopub.status.idle": "2023-01-10T12:11:27.668113Z",
     "shell.execute_reply": "2023-01-10T12:11:27.666828Z"
    },
    "papermill": {
     "duration": 1.472232,
     "end_time": "2023-01-10T12:11:27.670784",
     "exception": false,
     "start_time": "2023-01-10T12:11:26.198552",
     "status": "completed"
    },
    "tags": []
   },
   "outputs": [
    {
     "data": {
      "image/png": "[encoded data removed]",
      "text/plain": [
       "<Figure size 1080x720 with 1 Axes>"
      ]
     },
     "metadata": {
      "needs_background": "light"
     },
     "output_type": "display_data"
    },
    {
     "data": {
      "image/png": "[encoded data removed]",
      "text/plain": [
       "<Figure size 1080x720 with 2 Axes>"
      ]
     },
     "metadata": {
      "needs_background": "light"
     },
     "output_type": "display_data"
    }
   ],
   "source": [
    "gb = GradientBoostingClassifier(random_state=5)\n",
    "gb.fit(X_train.values, np.ravel(y_train))\n",
    "analyze(gb)"
   ]
  },
  {
   "cell_type": "markdown",
   "metadata": {
    "papermill": {
     "duration": 0.06515,
     "end_time": "2023-01-10T12:11:27.802305",
     "exception": false,
     "start_time": "2023-01-10T12:11:27.737155",
     "status": "completed"
    },
    "tags": []
   },
   "source": [
    "## Extreme Gradient Boosting (XGBoost)"
   ]
  },
  {
   "cell_type": "code",
   "execution_count": 83,
   "metadata": {
    "execution": {
     "iopub.execute_input": "2023-01-10T12:11:27.934118Z",
     "iopub.status.busy": "2023-01-10T12:11:27.933291Z",
     "iopub.status.idle": "2023-01-10T12:11:31.811710Z",
     "shell.execute_reply": "2023-01-10T12:11:31.810342Z"
    },
    "papermill": {
     "duration": 3.948997,
     "end_time": "2023-01-10T12:11:31.814967",
     "exception": false,
     "start_time": "2023-01-10T12:11:27.865970",
     "status": "completed"
    },
    "tags": []
   },
   "outputs": [
    {
     "name": "stderr",
     "output_type": "stream",
     "text": [
      "C:\\Users\\Ivan\\anaconda3\\lib\\site-packages\\xgboost\\sklearn.py:835: UserWarning: `early_stopping_rounds` in `fit` method is deprecated for better compatibility with scikit-learn, use `early_stopping_rounds` in constructor or`set_params` instead.\n",
      "  warnings.warn(\n"
     ]
    },
    {
     "data": {
      "image/png": "[encoded data removed]",
      "text/plain": [
       "<Figure size 1080x720 with 1 Axes>"
      ]
     },
     "metadata": {
      "needs_background": "light"
     },
     "output_type": "display_data"
    },
    {
     "data": {
      "image/png": "[encoded data removed]",
      "text/plain": [
       "<Figure size 1080x720 with 2 Axes>"
      ]
     },
     "metadata": {
      "needs_background": "light"
     },
     "output_type": "display_data"
    }
   ],
   "source": [
    "xgb = XGBClassifier(n_estimators=1000,learning_rate=0.01)\n",
    "xgb.fit(X_train,y_train,eval_set=[(X_train,y_train),(X_test,y_test)],early_stopping_rounds=100,verbose=False)\n",
    "analyze(xgb)"
   ]
  },
  {
   "cell_type": "markdown",
   "metadata": {
    "papermill": {
     "duration": 0.067047,
     "end_time": "2023-01-10T12:11:31.955235",
     "exception": false,
     "start_time": "2023-01-10T12:11:31.888188",
     "status": "completed"
    },
    "tags": []
   },
   "source": [
    "## Grid Search\n",
    "- Это исчерпывающий поиск по указанным значениям параметров для оценщика.\n",
    "\n",
    "- GridSearchCV реализует метод «подгонки» и «оценки». Он также реализует «score_samples», «predict», «predict_proba», «decision_function», «transform» и «inverse_transform», если они реализованы в используемом оценщике.\n",
    "\n",
    "- Параметры оценщика, используемого для применения этих методов, оптимизируются перекрестным поиском по сетке параметров."
   ]
  },
  {
   "cell_type": "markdown",
   "metadata": {},
   "source": [
    "## Гиперпараметры"
   ]
  },
  {
   "cell_type": "code",
   "execution_count": 84,
   "metadata": {
    "execution": {
     "iopub.execute_input": "2023-01-10T12:11:32.257100Z",
     "iopub.status.busy": "2023-01-10T12:11:32.256620Z",
     "iopub.status.idle": "2023-01-10T12:12:33.666474Z",
     "shell.execute_reply": "2023-01-10T12:12:33.665382Z"
    },
    "papermill": {
     "duration": 61.49318,
     "end_time": "2023-01-10T12:12:33.669673",
     "exception": false,
     "start_time": "2023-01-10T12:11:32.176493",
     "status": "completed"
    },
    "tags": []
   },
   "outputs": [
    {
     "data": {
      "image/png": "[encoded data removed]",
      "text/plain": [
       "<Figure size 1080x720 with 1 Axes>"
      ]
     },
     "metadata": {
      "needs_background": "light"
     },
     "output_type": "display_data"
    },
    {
     "data": {
      "image/png": "[encoded data removed]",
      "text/plain": [
       "<Figure size 1080x720 with 2 Axes>"
      ]
     },
     "metadata": {
      "needs_background": "light"
     },
     "output_type": "display_data"
    }
   ],
   "source": [
    "params = {\"learning_rate\": [0.01, 0.1, 0.5],\n",
    "            \"min_samples_split\": [5, 10],\n",
    "            \"min_samples_leaf\": [3, 5],\n",
    "            \"max_depth\":[3,5,10],\n",
    "            \"max_features\":[\"sqrt\"],\n",
    "            \"n_estimators\":[100, 200]\n",
    "         } \n",
    "\n",
    "gb_cv = GridSearchCV(gb, params, cv = 3, n_jobs = -1, verbose = False)\n",
    "gb_cv.fit(X_train.values, np.ravel(y_train))\n",
    "gb_b = gb_cv.best_estimator_\n",
    "analyze(gb_b)"
   ]
  }
 ],
 "metadata": {
  "kernelspec": {
   "display_name": "Python 3",
   "language": "python",
   "name": "python3"
  },
  "language_info": {
   "codemirror_mode": {
    "name": "ipython",
    "version": 3
   },
   "file_extension": ".py",
   "mimetype": "text/x-python",
   "name": "python",
   "nbconvert_exporter": "python",
   "pygments_lexer": "ipython3",
   "version": "3.8.5"
  },
  "papermill": {
   "default_parameters": {},
   "duration": 170.176647,
   "end_time": "2023-01-10T12:12:46.385797",
   "environment_variables": {},
   "exception": null,
   "input_path": "__notebook__.ipynb",
   "output_path": "__notebook__.ipynb",
   "parameters": {},
   "start_time": "2023-01-10T12:09:56.209150",
   "version": "2.3.4"
  }
 },
 "nbformat": 4,
 "nbformat_minor": 5
}
